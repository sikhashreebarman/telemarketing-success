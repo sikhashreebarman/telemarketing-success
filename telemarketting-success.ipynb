{
 "cells": [
  {
   "cell_type": "code",
   "execution_count": 1,
   "id": "92f20cfd",
   "metadata": {
    "_cell_guid": "b1076dfc-b9ad-4769-8c92-a6c4dae69d19",
    "_uuid": "8f2839f25d086af736a60e9eeb907d3b93b6e0e5",
    "execution": {
     "iopub.execute_input": "2024-11-29T17:43:05.007336Z",
     "iopub.status.busy": "2024-11-29T17:43:05.006829Z",
     "iopub.status.idle": "2024-11-29T17:43:06.071045Z",
     "shell.execute_reply": "2024-11-29T17:43:06.069669Z"
    },
    "papermill": {
     "duration": 1.093745,
     "end_time": "2024-11-29T17:43:06.074229",
     "exception": false,
     "start_time": "2024-11-29T17:43:04.980484",
     "status": "completed"
    },
    "tags": []
   },
   "outputs": [
    {
     "name": "stdout",
     "output_type": "stream",
     "text": [
      "/kaggle/input/predict-the-success-of-bank-telemarketing/sample_submission.csv\n",
      "/kaggle/input/predict-the-success-of-bank-telemarketing/train.csv\n",
      "/kaggle/input/predict-the-success-of-bank-telemarketing/test.csv\n"
     ]
    }
   ],
   "source": [
    "# This Python 3 environment comes with many helpful analytics libraries installed\n",
    "# It is defined by the kaggle/python Docker image: https://github.com/kaggle/docker-python\n",
    "# For example, here's several helpful packages to load\n",
    "\n",
    "import numpy as np # linear algebra\n",
    "import pandas as pd # data processing, CSV file I/O (e.g. pd.read_csv)\n",
    "\n",
    "# Input data files are available in the read-only \"../input/\" directory\n",
    "# For example, running this (by clicking run or pressing Shift+Enter) will list all files under the input directory\n",
    "\n",
    "import os\n",
    "for dirname, _, filenames in os.walk('/kaggle/input'):\n",
    "    for filename in filenames:\n",
    "        print(os.path.join(dirname, filename))\n",
    "\n",
    "# You can write up to 20GB to the current directory (/kaggle/working/) that gets preserved as output when you create a version using \"Save & Run All\" \n",
    "# You can also write temporary files to /kaggle/temp/, but they won't be saved outside of the current session"
   ]
  },
  {
   "cell_type": "markdown",
   "id": "7ce420ce",
   "metadata": {
    "papermill": {
     "duration": 0.023298,
     "end_time": "2024-11-29T17:43:06.124039",
     "exception": false,
     "start_time": "2024-11-29T17:43:06.100741",
     "status": "completed"
    },
    "tags": []
   },
   "source": [
    "#### Import Libraries"
   ]
  },
  {
   "cell_type": "code",
   "execution_count": 2,
   "id": "023c0529",
   "metadata": {
    "execution": {
     "iopub.execute_input": "2024-11-29T17:43:06.170899Z",
     "iopub.status.busy": "2024-11-29T17:43:06.170197Z",
     "iopub.status.idle": "2024-11-29T17:43:09.243296Z",
     "shell.execute_reply": "2024-11-29T17:43:09.241426Z"
    },
    "papermill": {
     "duration": 3.10092,
     "end_time": "2024-11-29T17:43:09.247309",
     "exception": false,
     "start_time": "2024-11-29T17:43:06.146389",
     "status": "completed"
    },
    "tags": []
   },
   "outputs": [],
   "source": [
    "import pandas as pd\n",
    "import numpy as np\n",
    "import matplotlib.pyplot as plt\n",
    "import seaborn as sns\n",
    "from sklearn.model_selection import train_test_split, GridSearchCV\n",
    "from sklearn.preprocessing import StandardScaler, OneHotEncoder,LabelEncoder,MaxAbsScaler,OrdinalEncoder,MinMaxScaler\n",
    "from sklearn.pipeline import Pipeline\n",
    "from sklearn.compose import ColumnTransformer\n",
    "from sklearn.impute import SimpleImputer\n",
    "from sklearn.linear_model import LogisticRegression\n",
    "from sklearn.metrics import f1_score\n",
    "from sklearn.dummy import DummyClassifier\n",
    "from imblearn.over_sampling import SMOTE\n",
    "from sklearn.datasets import make_classification\n",
    "from sklearn.metrics import accuracy_score, f1_score"
   ]
  },
  {
   "cell_type": "markdown",
   "id": "a869a2bd",
   "metadata": {
    "papermill": {
     "duration": 0.028507,
     "end_time": "2024-11-29T17:43:09.304281",
     "exception": false,
     "start_time": "2024-11-29T17:43:09.275774",
     "status": "completed"
    },
    "tags": []
   },
   "source": [
    "## Load the dataset"
   ]
  },
  {
   "cell_type": "code",
   "execution_count": 3,
   "id": "f32f6e7b",
   "metadata": {
    "execution": {
     "iopub.execute_input": "2024-11-29T17:43:09.354034Z",
     "iopub.status.busy": "2024-11-29T17:43:09.352654Z",
     "iopub.status.idle": "2024-11-29T17:43:09.559353Z",
     "shell.execute_reply": "2024-11-29T17:43:09.557880Z"
    },
    "papermill": {
     "duration": 0.234629,
     "end_time": "2024-11-29T17:43:09.562621",
     "exception": false,
     "start_time": "2024-11-29T17:43:09.327992",
     "status": "completed"
    },
    "tags": []
   },
   "outputs": [],
   "source": [
    "train_data=pd.read_csv(\"/kaggle/input/predict-the-success-of-bank-telemarketing/train.csv\")\n",
    "test_data=pd.read_csv(\"/kaggle/input/predict-the-success-of-bank-telemarketing/test.csv\")"
   ]
  },
  {
   "cell_type": "code",
   "execution_count": 4,
   "id": "157ab30f",
   "metadata": {
    "execution": {
     "iopub.execute_input": "2024-11-29T17:43:09.611346Z",
     "iopub.status.busy": "2024-11-29T17:43:09.610387Z",
     "iopub.status.idle": "2024-11-29T17:43:09.617702Z",
     "shell.execute_reply": "2024-11-29T17:43:09.616102Z"
    },
    "papermill": {
     "duration": 0.035114,
     "end_time": "2024-11-29T17:43:09.620432",
     "exception": false,
     "start_time": "2024-11-29T17:43:09.585318",
     "status": "completed"
    },
    "tags": []
   },
   "outputs": [],
   "source": [
    "# To ignore warnings\n",
    "import warnings\n",
    "warnings.filterwarnings('ignore')"
   ]
  },
  {
   "cell_type": "markdown",
   "id": "84784239",
   "metadata": {
    "papermill": {
     "duration": 0.022872,
     "end_time": "2024-11-29T17:43:09.673864",
     "exception": false,
     "start_time": "2024-11-29T17:43:09.650992",
     "status": "completed"
    },
    "tags": []
   },
   "source": [
    "Let's get some proper idea of the features in the dataset. We use the **info()** method to get the necessary details such as total counts, data types, etc from the dataset."
   ]
  },
  {
   "cell_type": "code",
   "execution_count": 5,
   "id": "8a4aab1a",
   "metadata": {
    "execution": {
     "iopub.execute_input": "2024-11-29T17:43:09.721784Z",
     "iopub.status.busy": "2024-11-29T17:43:09.721288Z",
     "iopub.status.idle": "2024-11-29T17:43:09.793023Z",
     "shell.execute_reply": "2024-11-29T17:43:09.791732Z"
    },
    "papermill": {
     "duration": 0.10052,
     "end_time": "2024-11-29T17:43:09.795604",
     "exception": false,
     "start_time": "2024-11-29T17:43:09.695084",
     "status": "completed"
    },
    "tags": []
   },
   "outputs": [
    {
     "name": "stdout",
     "output_type": "stream",
     "text": [
      "<class 'pandas.core.frame.DataFrame'>\n",
      "RangeIndex: 39211 entries, 0 to 39210\n",
      "Data columns (total 16 columns):\n",
      " #   Column             Non-Null Count  Dtype \n",
      "---  ------             --------------  ----- \n",
      " 0   last contact date  39211 non-null  object\n",
      " 1   age                39211 non-null  int64 \n",
      " 2   job                38982 non-null  object\n",
      " 3   marital            39211 non-null  object\n",
      " 4   education          37744 non-null  object\n",
      " 5   default            39211 non-null  object\n",
      " 6   balance            39211 non-null  int64 \n",
      " 7   housing            39211 non-null  object\n",
      " 8   loan               39211 non-null  object\n",
      " 9   contact            28875 non-null  object\n",
      " 10  duration           39211 non-null  int64 \n",
      " 11  campaign           39211 non-null  int64 \n",
      " 12  pdays              39211 non-null  int64 \n",
      " 13  previous           39211 non-null  int64 \n",
      " 14  poutcome           9760 non-null   object\n",
      " 15  target             39211 non-null  object\n",
      "dtypes: int64(6), object(10)\n",
      "memory usage: 4.8+ MB\n",
      "<class 'pandas.core.frame.DataFrame'>\n",
      "RangeIndex: 10000 entries, 0 to 9999\n",
      "Data columns (total 15 columns):\n",
      " #   Column             Non-Null Count  Dtype \n",
      "---  ------             --------------  ----- \n",
      " 0   last contact date  10000 non-null  object\n",
      " 1   age                10000 non-null  int64 \n",
      " 2   job                9941 non-null   object\n",
      " 3   marital            10000 non-null  object\n",
      " 4   education          9610 non-null   object\n",
      " 5   default            10000 non-null  object\n",
      " 6   balance            10000 non-null  int64 \n",
      " 7   housing            10000 non-null  object\n",
      " 8   loan               10000 non-null  object\n",
      " 9   contact            7316 non-null   object\n",
      " 10  duration           10000 non-null  int64 \n",
      " 11  campaign           10000 non-null  int64 \n",
      " 12  pdays              10000 non-null  int64 \n",
      " 13  previous           10000 non-null  int64 \n",
      " 14  poutcome           2492 non-null   object\n",
      "dtypes: int64(6), object(9)\n",
      "memory usage: 1.1+ MB\n",
      "None None\n"
     ]
    }
   ],
   "source": [
    "print(train_data.info(), test_data.info())"
   ]
  },
  {
   "cell_type": "markdown",
   "id": "60e73aa4",
   "metadata": {
    "papermill": {
     "duration": 0.020032,
     "end_time": "2024-11-29T17:43:09.837088",
     "exception": false,
     "start_time": "2024-11-29T17:43:09.817056",
     "status": "completed"
    },
    "tags": []
   },
   "source": [
    "We have the train and test dataset but let's copy and make a separate dataframe to perform the data analysis and other operations. This will help us preserve the original data frame."
   ]
  },
  {
   "cell_type": "code",
   "execution_count": 6,
   "id": "6af0dee3",
   "metadata": {
    "execution": {
     "iopub.execute_input": "2024-11-29T17:43:09.879616Z",
     "iopub.status.busy": "2024-11-29T17:43:09.879229Z",
     "iopub.status.idle": "2024-11-29T17:43:09.889074Z",
     "shell.execute_reply": "2024-11-29T17:43:09.888149Z"
    },
    "papermill": {
     "duration": 0.033739,
     "end_time": "2024-11-29T17:43:09.891272",
     "exception": false,
     "start_time": "2024-11-29T17:43:09.857533",
     "status": "completed"
    },
    "tags": []
   },
   "outputs": [],
   "source": [
    "# copying train dataset for eda\n",
    "df=train_data.copy()"
   ]
  },
  {
   "cell_type": "code",
   "execution_count": 7,
   "id": "d719ac96",
   "metadata": {
    "execution": {
     "iopub.execute_input": "2024-11-29T17:43:09.937590Z",
     "iopub.status.busy": "2024-11-29T17:43:09.937207Z",
     "iopub.status.idle": "2024-11-29T17:43:09.961303Z",
     "shell.execute_reply": "2024-11-29T17:43:09.959734Z"
    },
    "papermill": {
     "duration": 0.048873,
     "end_time": "2024-11-29T17:43:09.963619",
     "exception": false,
     "start_time": "2024-11-29T17:43:09.914746",
     "status": "completed"
    },
    "tags": []
   },
   "outputs": [
    {
     "data": {
      "text/html": [
       "<div>\n",
       "<style scoped>\n",
       "    .dataframe tbody tr th:only-of-type {\n",
       "        vertical-align: middle;\n",
       "    }\n",
       "\n",
       "    .dataframe tbody tr th {\n",
       "        vertical-align: top;\n",
       "    }\n",
       "\n",
       "    .dataframe thead th {\n",
       "        text-align: right;\n",
       "    }\n",
       "</style>\n",
       "<table border=\"1\" class=\"dataframe\">\n",
       "  <thead>\n",
       "    <tr style=\"text-align: right;\">\n",
       "      <th></th>\n",
       "      <th>last contact date</th>\n",
       "      <th>age</th>\n",
       "      <th>job</th>\n",
       "      <th>marital</th>\n",
       "      <th>education</th>\n",
       "      <th>default</th>\n",
       "      <th>balance</th>\n",
       "      <th>housing</th>\n",
       "      <th>loan</th>\n",
       "      <th>contact</th>\n",
       "      <th>duration</th>\n",
       "      <th>campaign</th>\n",
       "      <th>pdays</th>\n",
       "      <th>previous</th>\n",
       "      <th>poutcome</th>\n",
       "      <th>target</th>\n",
       "    </tr>\n",
       "  </thead>\n",
       "  <tbody>\n",
       "    <tr>\n",
       "      <th>0</th>\n",
       "      <td>2009-04-17</td>\n",
       "      <td>26</td>\n",
       "      <td>blue-collar</td>\n",
       "      <td>married</td>\n",
       "      <td>secondary</td>\n",
       "      <td>no</td>\n",
       "      <td>647</td>\n",
       "      <td>yes</td>\n",
       "      <td>no</td>\n",
       "      <td>cellular</td>\n",
       "      <td>357</td>\n",
       "      <td>2</td>\n",
       "      <td>331</td>\n",
       "      <td>1</td>\n",
       "      <td>other</td>\n",
       "      <td>no</td>\n",
       "    </tr>\n",
       "    <tr>\n",
       "      <th>1</th>\n",
       "      <td>2009-10-11</td>\n",
       "      <td>52</td>\n",
       "      <td>technician</td>\n",
       "      <td>married</td>\n",
       "      <td>secondary</td>\n",
       "      <td>no</td>\n",
       "      <td>553</td>\n",
       "      <td>yes</td>\n",
       "      <td>no</td>\n",
       "      <td>telephone</td>\n",
       "      <td>160</td>\n",
       "      <td>1</td>\n",
       "      <td>-1</td>\n",
       "      <td>0</td>\n",
       "      <td>NaN</td>\n",
       "      <td>no</td>\n",
       "    </tr>\n",
       "    <tr>\n",
       "      <th>2</th>\n",
       "      <td>2010-11-20</td>\n",
       "      <td>44</td>\n",
       "      <td>blue-collar</td>\n",
       "      <td>married</td>\n",
       "      <td>secondary</td>\n",
       "      <td>no</td>\n",
       "      <td>1397</td>\n",
       "      <td>no</td>\n",
       "      <td>no</td>\n",
       "      <td>cellular</td>\n",
       "      <td>326</td>\n",
       "      <td>1</td>\n",
       "      <td>-1</td>\n",
       "      <td>0</td>\n",
       "      <td>NaN</td>\n",
       "      <td>no</td>\n",
       "    </tr>\n",
       "    <tr>\n",
       "      <th>3</th>\n",
       "      <td>2009-09-01</td>\n",
       "      <td>33</td>\n",
       "      <td>admin.</td>\n",
       "      <td>married</td>\n",
       "      <td>secondary</td>\n",
       "      <td>no</td>\n",
       "      <td>394</td>\n",
       "      <td>yes</td>\n",
       "      <td>no</td>\n",
       "      <td>telephone</td>\n",
       "      <td>104</td>\n",
       "      <td>3</td>\n",
       "      <td>-1</td>\n",
       "      <td>0</td>\n",
       "      <td>NaN</td>\n",
       "      <td>no</td>\n",
       "    </tr>\n",
       "    <tr>\n",
       "      <th>4</th>\n",
       "      <td>2008-01-29</td>\n",
       "      <td>31</td>\n",
       "      <td>entrepreneur</td>\n",
       "      <td>single</td>\n",
       "      <td>tertiary</td>\n",
       "      <td>no</td>\n",
       "      <td>137</td>\n",
       "      <td>no</td>\n",
       "      <td>no</td>\n",
       "      <td>cellular</td>\n",
       "      <td>445</td>\n",
       "      <td>2</td>\n",
       "      <td>-1</td>\n",
       "      <td>0</td>\n",
       "      <td>NaN</td>\n",
       "      <td>no</td>\n",
       "    </tr>\n",
       "  </tbody>\n",
       "</table>\n",
       "</div>"
      ],
      "text/plain": [
       "  last contact date  age           job  marital  education default  balance  \\\n",
       "0        2009-04-17   26   blue-collar  married  secondary      no      647   \n",
       "1        2009-10-11   52    technician  married  secondary      no      553   \n",
       "2        2010-11-20   44   blue-collar  married  secondary      no     1397   \n",
       "3        2009-09-01   33        admin.  married  secondary      no      394   \n",
       "4        2008-01-29   31  entrepreneur   single   tertiary      no      137   \n",
       "\n",
       "  housing loan    contact  duration  campaign  pdays  previous poutcome target  \n",
       "0     yes   no   cellular       357         2    331         1    other     no  \n",
       "1     yes   no  telephone       160         1     -1         0      NaN     no  \n",
       "2      no   no   cellular       326         1     -1         0      NaN     no  \n",
       "3     yes   no  telephone       104         3     -1         0      NaN     no  \n",
       "4      no   no   cellular       445         2     -1         0      NaN     no  "
      ]
     },
     "execution_count": 7,
     "metadata": {},
     "output_type": "execute_result"
    }
   ],
   "source": [
    "df.head()"
   ]
  },
  {
   "cell_type": "markdown",
   "id": "ddc85568",
   "metadata": {
    "papermill": {
     "duration": 0.021624,
     "end_time": "2024-11-29T17:43:10.008419",
     "exception": false,
     "start_time": "2024-11-29T17:43:09.986795",
     "status": "completed"
    },
    "tags": []
   },
   "source": [
    "## Exploratory Data Analysis"
   ]
  },
  {
   "cell_type": "code",
   "execution_count": 8,
   "id": "1033df59",
   "metadata": {
    "execution": {
     "iopub.execute_input": "2024-11-29T17:43:10.118636Z",
     "iopub.status.busy": "2024-11-29T17:43:10.117928Z",
     "iopub.status.idle": "2024-11-29T17:43:10.124024Z",
     "shell.execute_reply": "2024-11-29T17:43:10.122909Z"
    },
    "papermill": {
     "duration": 0.098228,
     "end_time": "2024-11-29T17:43:10.128263",
     "exception": false,
     "start_time": "2024-11-29T17:43:10.030035",
     "status": "completed"
    },
    "tags": []
   },
   "outputs": [
    {
     "name": "stdout",
     "output_type": "stream",
     "text": [
      "Shape of train dataset: (39211, 16)\n",
      "Shape of test dataset:(10000, 15)\n"
     ]
    }
   ],
   "source": [
    "print(f\"Shape of train dataset: {train_data.shape}\\nShape of test dataset:{test_data.shape}\")"
   ]
  },
  {
   "cell_type": "markdown",
   "id": "84ddb24d",
   "metadata": {
    "papermill": {
     "duration": 0.021683,
     "end_time": "2024-11-29T17:43:10.172158",
     "exception": false,
     "start_time": "2024-11-29T17:43:10.150475",
     "status": "completed"
    },
    "tags": []
   },
   "source": [
    "## Describe the dataframe"
   ]
  },
  {
   "cell_type": "code",
   "execution_count": 9,
   "id": "dc56e5d9",
   "metadata": {
    "execution": {
     "iopub.execute_input": "2024-11-29T17:43:10.215900Z",
     "iopub.status.busy": "2024-11-29T17:43:10.215503Z",
     "iopub.status.idle": "2024-11-29T17:43:10.259838Z",
     "shell.execute_reply": "2024-11-29T17:43:10.258723Z"
    },
    "papermill": {
     "duration": 0.068717,
     "end_time": "2024-11-29T17:43:10.261929",
     "exception": false,
     "start_time": "2024-11-29T17:43:10.193212",
     "status": "completed"
    },
    "tags": []
   },
   "outputs": [
    {
     "data": {
      "text/html": [
       "<div>\n",
       "<style scoped>\n",
       "    .dataframe tbody tr th:only-of-type {\n",
       "        vertical-align: middle;\n",
       "    }\n",
       "\n",
       "    .dataframe tbody tr th {\n",
       "        vertical-align: top;\n",
       "    }\n",
       "\n",
       "    .dataframe thead th {\n",
       "        text-align: right;\n",
       "    }\n",
       "</style>\n",
       "<table border=\"1\" class=\"dataframe\">\n",
       "  <thead>\n",
       "    <tr style=\"text-align: right;\">\n",
       "      <th></th>\n",
       "      <th>count</th>\n",
       "      <th>mean</th>\n",
       "      <th>std</th>\n",
       "      <th>min</th>\n",
       "      <th>25%</th>\n",
       "      <th>50%</th>\n",
       "      <th>75%</th>\n",
       "      <th>max</th>\n",
       "    </tr>\n",
       "  </thead>\n",
       "  <tbody>\n",
       "    <tr>\n",
       "      <th>age</th>\n",
       "      <td>39211.0</td>\n",
       "      <td>42.120247</td>\n",
       "      <td>12.709352</td>\n",
       "      <td>18.0</td>\n",
       "      <td>33.0</td>\n",
       "      <td>40.0</td>\n",
       "      <td>50.0</td>\n",
       "      <td>95.0</td>\n",
       "    </tr>\n",
       "    <tr>\n",
       "      <th>balance</th>\n",
       "      <td>39211.0</td>\n",
       "      <td>5441.781719</td>\n",
       "      <td>16365.292065</td>\n",
       "      <td>-8019.0</td>\n",
       "      <td>98.0</td>\n",
       "      <td>549.0</td>\n",
       "      <td>2030.0</td>\n",
       "      <td>102127.0</td>\n",
       "    </tr>\n",
       "    <tr>\n",
       "      <th>duration</th>\n",
       "      <td>39211.0</td>\n",
       "      <td>439.062789</td>\n",
       "      <td>769.096291</td>\n",
       "      <td>0.0</td>\n",
       "      <td>109.0</td>\n",
       "      <td>197.0</td>\n",
       "      <td>380.0</td>\n",
       "      <td>4918.0</td>\n",
       "    </tr>\n",
       "    <tr>\n",
       "      <th>campaign</th>\n",
       "      <td>39211.0</td>\n",
       "      <td>5.108770</td>\n",
       "      <td>9.890153</td>\n",
       "      <td>1.0</td>\n",
       "      <td>1.0</td>\n",
       "      <td>2.0</td>\n",
       "      <td>4.0</td>\n",
       "      <td>63.0</td>\n",
       "    </tr>\n",
       "    <tr>\n",
       "      <th>pdays</th>\n",
       "      <td>39211.0</td>\n",
       "      <td>72.256051</td>\n",
       "      <td>160.942593</td>\n",
       "      <td>-1.0</td>\n",
       "      <td>-1.0</td>\n",
       "      <td>-1.0</td>\n",
       "      <td>-1.0</td>\n",
       "      <td>871.0</td>\n",
       "    </tr>\n",
       "    <tr>\n",
       "      <th>previous</th>\n",
       "      <td>39211.0</td>\n",
       "      <td>11.826171</td>\n",
       "      <td>44.140259</td>\n",
       "      <td>0.0</td>\n",
       "      <td>0.0</td>\n",
       "      <td>0.0</td>\n",
       "      <td>0.0</td>\n",
       "      <td>275.0</td>\n",
       "    </tr>\n",
       "  </tbody>\n",
       "</table>\n",
       "</div>"
      ],
      "text/plain": [
       "            count         mean           std     min    25%    50%     75%  \\\n",
       "age       39211.0    42.120247     12.709352    18.0   33.0   40.0    50.0   \n",
       "balance   39211.0  5441.781719  16365.292065 -8019.0   98.0  549.0  2030.0   \n",
       "duration  39211.0   439.062789    769.096291     0.0  109.0  197.0   380.0   \n",
       "campaign  39211.0     5.108770      9.890153     1.0    1.0    2.0     4.0   \n",
       "pdays     39211.0    72.256051    160.942593    -1.0   -1.0   -1.0    -1.0   \n",
       "previous  39211.0    11.826171     44.140259     0.0    0.0    0.0     0.0   \n",
       "\n",
       "               max  \n",
       "age           95.0  \n",
       "balance   102127.0  \n",
       "duration    4918.0  \n",
       "campaign      63.0  \n",
       "pdays        871.0  \n",
       "previous     275.0  "
      ]
     },
     "execution_count": 9,
     "metadata": {},
     "output_type": "execute_result"
    }
   ],
   "source": [
    "df.describe().T"
   ]
  },
  {
   "cell_type": "markdown",
   "id": "3094802e",
   "metadata": {
    "papermill": {
     "duration": 0.022458,
     "end_time": "2024-11-29T17:43:10.309779",
     "exception": false,
     "start_time": "2024-11-29T17:43:10.287321",
     "status": "completed"
    },
    "tags": []
   },
   "source": [
    "### Identify Feature Types"
   ]
  },
  {
   "cell_type": "code",
   "execution_count": 10,
   "id": "b78d0842",
   "metadata": {
    "execution": {
     "iopub.execute_input": "2024-11-29T17:43:10.356078Z",
     "iopub.status.busy": "2024-11-29T17:43:10.355709Z",
     "iopub.status.idle": "2024-11-29T17:43:10.366952Z",
     "shell.execute_reply": "2024-11-29T17:43:10.365587Z"
    },
    "papermill": {
     "duration": 0.038871,
     "end_time": "2024-11-29T17:43:10.370083",
     "exception": false,
     "start_time": "2024-11-29T17:43:10.331212",
     "status": "completed"
    },
    "tags": []
   },
   "outputs": [
    {
     "name": "stdout",
     "output_type": "stream",
     "text": [
      "Numerical Features: Index(['age', 'balance', 'duration', 'campaign', 'pdays', 'previous'], dtype='object')\n",
      "Categorical Features: Index(['last contact date', 'job', 'marital', 'education', 'default',\n",
      "       'housing', 'loan', 'contact', 'poutcome', 'target'],\n",
      "      dtype='object')\n"
     ]
    }
   ],
   "source": [
    "# Separate categorical and numerical features\n",
    "numerical_features = df.select_dtypes(include=['int64', 'float64']).columns\n",
    "categorical_features = df.select_dtypes(include=['object']).columns\n",
    "\n",
    "print(\"Numerical Features:\", numerical_features)\n",
    "print(\"Categorical Features:\", categorical_features)"
   ]
  },
  {
   "cell_type": "markdown",
   "id": "520d61f0",
   "metadata": {
    "papermill": {
     "duration": 0.020979,
     "end_time": "2024-11-29T17:43:10.413244",
     "exception": false,
     "start_time": "2024-11-29T17:43:10.392265",
     "status": "completed"
    },
    "tags": []
   },
   "source": [
    "### **Age**\r\n",
    "The age is a numerical feature. Let us plot and see the distribution of the values using a histplot."
   ]
  },
  {
   "cell_type": "code",
   "execution_count": 11,
   "id": "13bd93ad",
   "metadata": {
    "execution": {
     "iopub.execute_input": "2024-11-29T17:43:10.459862Z",
     "iopub.status.busy": "2024-11-29T17:43:10.458886Z",
     "iopub.status.idle": "2024-11-29T17:43:11.019053Z",
     "shell.execute_reply": "2024-11-29T17:43:11.017741Z"
    },
    "papermill": {
     "duration": 0.586285,
     "end_time": "2024-11-29T17:43:11.021319",
     "exception": false,
     "start_time": "2024-11-29T17:43:10.435034",
     "status": "completed"
    },
    "tags": []
   },
   "outputs": [
    {
     "data": {
      "image/png": "[encoded data removed]",
      "text/plain": [
       "<Figure size 600x400 with 1 Axes>"
      ]
     },
     "metadata": {},
     "output_type": "display_data"
    }
   ],
   "source": [
    "plt.figure(figsize=(6, 4))\n",
    "sns.histplot(df['age'], bins=20, kde=True)\n",
    "plt.title('Distribution of Age')\n",
    "plt.xlabel('Age')\n",
    "plt.ylabel('Frequency')\n",
    "plt.show()"
   ]
  },
  {
   "cell_type": "code",
   "execution_count": 12,
   "id": "12c41d16",
   "metadata": {
    "execution": {
     "iopub.execute_input": "2024-11-29T17:43:11.071025Z",
     "iopub.status.busy": "2024-11-29T17:43:11.070615Z",
     "iopub.status.idle": "2024-11-29T17:43:11.077900Z",
     "shell.execute_reply": "2024-11-29T17:43:11.075990Z"
    },
    "papermill": {
     "duration": 0.03406,
     "end_time": "2024-11-29T17:43:11.080316",
     "exception": false,
     "start_time": "2024-11-29T17:43:11.046256",
     "status": "completed"
    },
    "tags": []
   },
   "outputs": [
    {
     "name": "stdout",
     "output_type": "stream",
     "text": [
      "The age feature ranges from 18, all the way to 95\n"
     ]
    }
   ],
   "source": [
    "print(f\"The age feature ranges from {df['age'].min()}, all the way to { df['age'].max()}\")"
   ]
  },
  {
   "cell_type": "markdown",
   "id": "454be769",
   "metadata": {
    "papermill": {
     "duration": 0.022,
     "end_time": "2024-11-29T17:43:11.125044",
     "exception": false,
     "start_time": "2024-11-29T17:43:11.103044",
     "status": "completed"
    },
    "tags": []
   },
   "source": [
    "### **Target variable distribution**\r\n",
    "Let us have a look at the target and the distribution of the elements."
   ]
  },
  {
   "cell_type": "code",
   "execution_count": 13,
   "id": "74b0d1f2",
   "metadata": {
    "execution": {
     "iopub.execute_input": "2024-11-29T17:43:11.173681Z",
     "iopub.status.busy": "2024-11-29T17:43:11.173219Z",
     "iopub.status.idle": "2024-11-29T17:43:11.468971Z",
     "shell.execute_reply": "2024-11-29T17:43:11.467749Z"
    },
    "papermill": {
     "duration": 0.324072,
     "end_time": "2024-11-29T17:43:11.471749",
     "exception": false,
     "start_time": "2024-11-29T17:43:11.147677",
     "status": "completed"
    },
    "tags": []
   },
   "outputs": [
    {
     "data": {
      "image/png": "[encoded data removed]",
      "text/plain": [
       "<Figure size 500x300 with 1 Axes>"
      ]
     },
     "metadata": {},
     "output_type": "display_data"
    }
   ],
   "source": [
    "plt.figure(figsize=(5, 3))\n",
    "sns.countplot(x='target', data=df, hue='target', palette='Set2')\n",
    "plt.title(\"Target Distribution\")\n",
    "plt.xticks(rotation=45)\n",
    "plt.show()"
   ]
  },
  {
   "cell_type": "markdown",
   "id": "59a695f5",
   "metadata": {
    "papermill": {
     "duration": 0.023856,
     "end_time": "2024-11-29T17:43:11.518867",
     "exception": false,
     "start_time": "2024-11-29T17:43:11.495011",
     "status": "completed"
    },
    "tags": []
   },
   "source": [
    "From the above plot, it appears that the **target** variable is highly imbalanced, with a significantly larger number of instances belonging to the \"no\" class compared to the \"yes\" class.\r",
    "\r\n",
    "This shows that we have to use some 'Resampling' techniques to handle this data imbalance."
   ]
  },
  {
   "cell_type": "markdown",
   "id": "8bf32013",
   "metadata": {
    "papermill": {
     "duration": 0.022179,
     "end_time": "2024-11-29T17:43:11.565118",
     "exception": false,
     "start_time": "2024-11-29T17:43:11.542939",
     "status": "completed"
    },
    "tags": []
   },
   "source": [
    "### **Numerical feature distribution**\r\n",
    "Let us have a look the the distribution of the numerical features"
   ]
  },
  {
   "cell_type": "code",
   "execution_count": 14,
   "id": "a31a7b2b",
   "metadata": {
    "execution": {
     "iopub.execute_input": "2024-11-29T17:43:11.611793Z",
     "iopub.status.busy": "2024-11-29T17:43:11.611371Z",
     "iopub.status.idle": "2024-11-29T17:43:16.987409Z",
     "shell.execute_reply": "2024-11-29T17:43:16.986010Z"
    },
    "papermill": {
     "duration": 5.403323,
     "end_time": "2024-11-29T17:43:16.991076",
     "exception": false,
     "start_time": "2024-11-29T17:43:11.587753",
     "status": "completed"
    },
    "tags": []
   },
   "outputs": [
    {
     "data": {
      "image/png": "[encoded data removed]",
      "text/plain": [
       "<Figure size 1500x800 with 6 Axes>"
      ]
     },
     "metadata": {},
     "output_type": "display_data"
    }
   ],
   "source": [
    "numerical_features = ['age', 'balance', 'duration', 'campaign', 'pdays', 'previous']\n",
    "\n",
    "# Create subplots with 3 columns per row\n",
    "num_rows = (len(numerical_features) + 2) // 3  # Calculate number of rows needed\n",
    "fig, axes = plt.subplots(num_rows, 3, figsize=(15, num_rows * 4))\n",
    "\n",
    "# Flatten the axes array for easier iteration\n",
    "axes = axes.flatten()\n",
    "\n",
    "# Iterate through numerical features and create histograms\n",
    "for i, feature in enumerate(numerical_features):\n",
    "    sns.histplot(df[feature], ax=axes[i], kde=True)\n",
    "    axes[i].set_title(feature)\n",
    "\n",
    "# Remove any empty subplots\n",
    "for i in range(len(numerical_features), len(axes)):\n",
    "    fig.delaxes(axes[i])\n",
    "\n",
    "plt.tight_layout()\n",
    "plt.show()"
   ]
  },
  {
   "cell_type": "markdown",
   "id": "c63ae223",
   "metadata": {
    "papermill": {
     "duration": 0.024625,
     "end_time": "2024-11-29T17:43:17.041417",
     "exception": false,
     "start_time": "2024-11-29T17:43:17.016792",
     "status": "completed"
    },
    "tags": []
   },
   "source": [
    "\n",
    "1. The **age** distribution is right-skewed, indicating a larger proportion is concentrated between 30 and 50 years, with fewer younger or older clients.\n",
    "2. The **balance** distribution is highly right-skewed, suggesting a large number of individuals with low balances and a smaller number with very high  balances.\n",
    "3. The **duration** distribution is also right-skewed, indicating that a significant number of calls are of shorter duration.\n",
    "4. Similary, **campaign**, **pdays** and **previous** appears to be right-skewed."
   ]
  },
  {
   "cell_type": "markdown",
   "id": "50b12f18",
   "metadata": {
    "papermill": {
     "duration": 0.029126,
     "end_time": "2024-11-29T17:43:17.099279",
     "exception": false,
     "start_time": "2024-11-29T17:43:17.070153",
     "status": "completed"
    },
    "tags": []
   },
   "source": [
    "### **Categorical features distribution**\r\n",
    "Previously we have seen the numerical feature distribution. In this section, let us have a look at the categorical features and observe their distribution."
   ]
  },
  {
   "cell_type": "code",
   "execution_count": 15,
   "id": "481e4ff8",
   "metadata": {
    "execution": {
     "iopub.execute_input": "2024-11-29T17:43:17.152734Z",
     "iopub.status.busy": "2024-11-29T17:43:17.152313Z",
     "iopub.status.idle": "2024-11-29T17:43:18.654322Z",
     "shell.execute_reply": "2024-11-29T17:43:18.652919Z"
    },
    "papermill": {
     "duration": 1.531016,
     "end_time": "2024-11-29T17:43:18.656617",
     "exception": false,
     "start_time": "2024-11-29T17:43:17.125601",
     "status": "completed"
    },
    "tags": []
   },
   "outputs": [
    {
     "data": {
      "image/png": "[encoded data removed]",
      "text/plain": [
       "<Figure size 1300x1300 with 8 Axes>"
      ]
     },
     "metadata": {},
     "output_type": "display_data"
    }
   ],
   "source": [
    "categorical_cols = ['job', 'marital', 'education', 'default', 'housing', 'loan', 'contact', 'poutcome']\n",
    "plt.figure(figsize=(13, 13))\n",
    "\n",
    "# Loop through and plot the categorical columns\n",
    "for i, col in enumerate(categorical_cols, 1):\n",
    "    plt.subplot(3, 3, i)  # Create a grid with 3 rows and 3 columns\n",
    "    sns.countplot(data=df, x=col, order=df[col].value_counts().index)\n",
    "    plt.title(f'Count of {col}')\n",
    "    plt.xticks(rotation=90)\n",
    "\n",
    "plt.tight_layout()\n",
    "plt.show()"
   ]
  },
  {
   "cell_type": "markdown",
   "id": "51e98cd6",
   "metadata": {
    "papermill": {
     "duration": 0.030009,
     "end_time": "2024-11-29T17:43:18.713554",
     "exception": false,
     "start_time": "2024-11-29T17:43:18.683545",
     "status": "completed"
    },
    "tags": []
   },
   "source": [
    "From the above distribution, it appears that:\n",
    "\n",
    "1. For **job**, \"Management\" and \"blue-collar\" are the most common job types, while \"Student\" is the least common.\n",
    "2. For **marital**, it looks like most of the individuals are are \"married\". And \"Single\" is the second most common, followed by \"divorced.\"\n",
    "3. For **education**, \"Secondary\" education is the most common while \"Tertiary\" education is the second most common.\n",
    "4. For **default**, most individuals have not defaulted on credit. Only a small percentage have defaulted.\n",
    "5. For **housing**, most individuals have house loan. Only a significant portion have no house loan.\n",
    "6. For **loan**, it appears that most individuals do not have a personal loan.\n",
    "7. For **contact**, most individuals were contacted via \"cellular\" phone. A smaller number were contacted via \"telephone.\"\n",
    "8. For **poutcome**, Most individuals have not been previously contacted. \"Failure\" is the most common outcome of previous contacts."
   ]
  },
  {
   "cell_type": "markdown",
   "id": "d2640a77",
   "metadata": {
    "papermill": {
     "duration": 0.027603,
     "end_time": "2024-11-29T17:43:18.768536",
     "exception": false,
     "start_time": "2024-11-29T17:43:18.740933",
     "status": "completed"
    },
    "tags": []
   },
   "source": [
    "### **Poutcome vs Target**\r\n",
    "Let us have the relationship between poutcome and the target variable."
   ]
  },
  {
   "cell_type": "code",
   "execution_count": 16,
   "id": "4f8d08d0",
   "metadata": {
    "execution": {
     "iopub.execute_input": "2024-11-29T17:43:18.823320Z",
     "iopub.status.busy": "2024-11-29T17:43:18.822877Z",
     "iopub.status.idle": "2024-11-29T17:43:19.147159Z",
     "shell.execute_reply": "2024-11-29T17:43:19.145573Z"
    },
    "papermill": {
     "duration": 0.354497,
     "end_time": "2024-11-29T17:43:19.150238",
     "exception": false,
     "start_time": "2024-11-29T17:43:18.795741",
     "status": "completed"
    },
    "tags": []
   },
   "outputs": [
    {
     "data": {
      "image/png": "[encoded data removed]",
      "text/plain": [
       "<Figure size 800x600 with 1 Axes>"
      ]
     },
     "metadata": {},
     "output_type": "display_data"
    }
   ],
   "source": [
    "plt.figure(figsize=(8, 6))\n",
    "sns.countplot(x='poutcome', hue='target', data=df, palette='Set2')\n",
    "plt.title('Poutcome vs Target')\n",
    "plt.xlabel('Poutcome')\n",
    "plt.ylabel('Count')\n",
    "plt.xticks(rotation=45)\n",
    "plt.legend(title='Target')\n",
    "plt.show()"
   ]
  },
  {
   "cell_type": "markdown",
   "id": "562a5b88",
   "metadata": {
    "papermill": {
     "duration": 0.027599,
     "end_time": "2024-11-29T17:43:19.204802",
     "exception": false,
     "start_time": "2024-11-29T17:43:19.177203",
     "status": "completed"
    },
    "tags": []
   },
   "source": [
    "From the above chart, looks like most of the previous campaign outcomes were either \"failure\", with a smaller number being \"success\". The \"yes\" target group appears to be more concentrated in the \"success\" outcome compared to the \"no\" target group"
   ]
  },
  {
   "cell_type": "markdown",
   "id": "eb8b92ba",
   "metadata": {
    "papermill": {
     "duration": 0.028697,
     "end_time": "2024-11-29T17:43:19.260544",
     "exception": false,
     "start_time": "2024-11-29T17:43:19.231847",
     "status": "completed"
    },
    "tags": []
   },
   "source": [
    "### **Target vs Balance**"
   ]
  },
  {
   "cell_type": "code",
   "execution_count": 17,
   "id": "18f7a3ec",
   "metadata": {
    "execution": {
     "iopub.execute_input": "2024-11-29T17:43:19.320006Z",
     "iopub.status.busy": "2024-11-29T17:43:19.319580Z",
     "iopub.status.idle": "2024-11-29T17:43:19.589275Z",
     "shell.execute_reply": "2024-11-29T17:43:19.588197Z"
    },
    "papermill": {
     "duration": 0.302379,
     "end_time": "2024-11-29T17:43:19.591665",
     "exception": false,
     "start_time": "2024-11-29T17:43:19.289286",
     "status": "completed"
    },
    "tags": []
   },
   "outputs": [
    {
     "data": {
      "image/png": "[encoded data removed]",
      "text/plain": [
       "<Figure size 400x400 with 1 Axes>"
      ]
     },
     "metadata": {},
     "output_type": "display_data"
    }
   ],
   "source": [
    "plt.figure(figsize=(4, 4))\n",
    "sns.boxplot(x='target', y='balance', data=train_data, palette=\"Set3\")\n",
    "\n",
    "# Adding proper labels and title\n",
    "plt.title(\"Balance vs Target\", fontsize=16)\n",
    "plt.xlabel(\"Target\", fontsize=14)\n",
    "plt.ylabel(\"Balance\", fontsize=12)\n",
    "\n",
    "# Adjust y-axis for better visualization\n",
    "plt.ylim(-9000, 120000)  # Assuming a reasonable range for balance\n",
    "\n",
    "# Display the plot\n",
    "plt.show()"
   ]
  },
  {
   "cell_type": "markdown",
   "id": "0641216e",
   "metadata": {
    "papermill": {
     "duration": 0.026198,
     "end_time": "2024-11-29T17:43:19.646516",
     "exception": false,
     "start_time": "2024-11-29T17:43:19.620318",
     "status": "completed"
    },
    "tags": []
   },
   "source": [
    "There are a few outliers in the \"no\" target group, indicating that there are some individuals with exceptionally high balances who are not classified as \"yes.\""
   ]
  },
  {
   "cell_type": "markdown",
   "id": "72e1d27a",
   "metadata": {
    "papermill": {
     "duration": 0.026193,
     "end_time": "2024-11-29T17:43:19.699125",
     "exception": false,
     "start_time": "2024-11-29T17:43:19.672932",
     "status": "completed"
    },
    "tags": []
   },
   "source": [
    "### **Correlation between Target and Balance**\n",
    "\n",
    "Let us check if there is any correlation between target and balance."
   ]
  },
  {
   "cell_type": "code",
   "execution_count": 18,
   "id": "63ecec8e",
   "metadata": {
    "execution": {
     "iopub.execute_input": "2024-11-29T17:43:19.757515Z",
     "iopub.status.busy": "2024-11-29T17:43:19.757075Z",
     "iopub.status.idle": "2024-11-29T17:43:19.775164Z",
     "shell.execute_reply": "2024-11-29T17:43:19.773894Z"
    },
    "papermill": {
     "duration": 0.050653,
     "end_time": "2024-11-29T17:43:19.777791",
     "exception": false,
     "start_time": "2024-11-29T17:43:19.727138",
     "status": "completed"
    },
    "tags": []
   },
   "outputs": [
    {
     "name": "stdout",
     "output_type": "stream",
     "text": [
      "Correlation between balance and target: 0.26\n"
     ]
    }
   ],
   "source": [
    "# Calculate correlation coefficient between balance and target\n",
    "df1=df.copy()\n",
    "# convert the yes/no to 0 and 1\n",
    "df1['target'] = df1['target'].map({'yes': 1, 'no': 0})\n",
    "correlation = df1['balance'].corr(df1['target'])\n",
    "print(f\"Correlation between balance and target: {correlation:.2f}\")"
   ]
  },
  {
   "cell_type": "markdown",
   "id": "06704e8d",
   "metadata": {
    "papermill": {
     "duration": 0.026101,
     "end_time": "2024-11-29T17:43:19.832200",
     "exception": false,
     "start_time": "2024-11-29T17:43:19.806099",
     "status": "completed"
    },
    "tags": []
   },
   "source": [
    "The value of 0.26 is closer to 0 than to 1, indicating a weak relationship."
   ]
  },
  {
   "cell_type": "markdown",
   "id": "1cbb4e8a",
   "metadata": {
    "papermill": {
     "duration": 0.026785,
     "end_time": "2024-11-29T17:43:19.885852",
     "exception": false,
     "start_time": "2024-11-29T17:43:19.859067",
     "status": "completed"
    },
    "tags": []
   },
   "source": [
    "### **Target vs Job**\r\n",
    "Now, let us have a look at the target and the job to check if there are any pattern or relationship between these two features"
   ]
  },
  {
   "cell_type": "code",
   "execution_count": 19,
   "id": "fadcbf8a",
   "metadata": {
    "execution": {
     "iopub.execute_input": "2024-11-29T17:43:19.940975Z",
     "iopub.status.busy": "2024-11-29T17:43:19.940557Z",
     "iopub.status.idle": "2024-11-29T17:43:20.318887Z",
     "shell.execute_reply": "2024-11-29T17:43:20.317749Z"
    },
    "papermill": {
     "duration": 0.408926,
     "end_time": "2024-11-29T17:43:20.321206",
     "exception": false,
     "start_time": "2024-11-29T17:43:19.912280",
     "status": "completed"
    },
    "tags": []
   },
   "outputs": [
    {
     "data": {
      "image/png": "[encoded data removed]",
      "text/plain": [
       "<Figure size 600x400 with 1 Axes>"
      ]
     },
     "metadata": {},
     "output_type": "display_data"
    }
   ],
   "source": [
    "plt.figure(figsize=(6, 4))\n",
    "sns.countplot(x='job', hue='target', data=df, palette=\"Set2\")\n",
    "plt.title(\"Job vs Target Subscription\")\n",
    "plt.xticks(rotation=90)\n",
    "plt.legend(title='Target Class')\n",
    "plt.show()"
   ]
  },
  {
   "cell_type": "markdown",
   "id": "bb7eab28",
   "metadata": {
    "papermill": {
     "duration": 0.028428,
     "end_time": "2024-11-29T17:43:20.377418",
     "exception": false,
     "start_time": "2024-11-29T17:43:20.348990",
     "status": "completed"
    },
    "tags": []
   },
   "source": [
    "From the above chart,\r\n",
    "\r\n",
    "The most common jobs among the respondents are \"blue-collar\", \"management\", followed by \"technician.\r\n",
    "Professions like \"blue-collar,\" \"technician,\" \"management\" and \"admin\" have lower subscription rates, suggesting that individuals in these jobs might be less likely to subscribe."
   ]
  },
  {
   "cell_type": "markdown",
   "id": "e93f4746",
   "metadata": {
    "papermill": {
     "duration": 0.026621,
     "end_time": "2024-11-29T17:43:20.434177",
     "exception": false,
     "start_time": "2024-11-29T17:43:20.407556",
     "status": "completed"
    },
    "tags": []
   },
   "source": [
    "### **Education Vs Target**"
   ]
  },
  {
   "cell_type": "code",
   "execution_count": 20,
   "id": "228c3377",
   "metadata": {
    "execution": {
     "iopub.execute_input": "2024-11-29T17:43:20.493618Z",
     "iopub.status.busy": "2024-11-29T17:43:20.493215Z",
     "iopub.status.idle": "2024-11-29T17:43:20.830769Z",
     "shell.execute_reply": "2024-11-29T17:43:20.829212Z"
    },
    "papermill": {
     "duration": 0.370884,
     "end_time": "2024-11-29T17:43:20.833374",
     "exception": false,
     "start_time": "2024-11-29T17:43:20.462490",
     "status": "completed"
    },
    "tags": []
   },
   "outputs": [
    {
     "data": {
      "image/png": "[encoded data removed]",
      "text/plain": [
       "<Figure size 800x600 with 1 Axes>"
      ]
     },
     "metadata": {},
     "output_type": "display_data"
    }
   ],
   "source": [
    "plt.figure(figsize=(8, 6))\n",
    "sns.countplot(x='education', hue='target', data=df, palette='Set2')\n",
    "plt.title('Education vs Target')\n",
    "plt.xlabel('Education Level')\n",
    "plt.ylabel('Count')\n",
    "plt.xticks(rotation=45)\n",
    "plt.legend(title='Target')\n",
    "plt.show()"
   ]
  },
  {
   "cell_type": "markdown",
   "id": "9a2a7b5a",
   "metadata": {
    "papermill": {
     "duration": 0.028581,
     "end_time": "2024-11-29T17:43:20.891848",
     "exception": false,
     "start_time": "2024-11-29T17:43:20.863267",
     "status": "completed"
    },
    "tags": []
   },
   "source": [
    "From the above chart, it looks like that most individuals have a secondary education level and the \"yes\" target group appears to be more concentrated in the tertiary education group compared to the \"no\" target group."
   ]
  },
  {
   "cell_type": "markdown",
   "id": "0a7bc9e9",
   "metadata": {
    "papermill": {
     "duration": 0.029182,
     "end_time": "2024-11-29T17:43:20.949623",
     "exception": false,
     "start_time": "2024-11-29T17:43:20.920441",
     "status": "completed"
    },
    "tags": []
   },
   "source": [
    "### **Housing Loan vs Target**"
   ]
  },
  {
   "cell_type": "code",
   "execution_count": 21,
   "id": "84489b62",
   "metadata": {
    "execution": {
     "iopub.execute_input": "2024-11-29T17:43:21.012626Z",
     "iopub.status.busy": "2024-11-29T17:43:21.012148Z",
     "iopub.status.idle": "2024-11-29T17:43:21.328363Z",
     "shell.execute_reply": "2024-11-29T17:43:21.326959Z"
    },
    "papermill": {
     "duration": 0.350206,
     "end_time": "2024-11-29T17:43:21.331061",
     "exception": false,
     "start_time": "2024-11-29T17:43:20.980855",
     "status": "completed"
    },
    "tags": []
   },
   "outputs": [
    {
     "data": {
      "image/png": "[encoded data removed]",
      "text/plain": [
       "<Figure size 400x400 with 1 Axes>"
      ]
     },
     "metadata": {},
     "output_type": "display_data"
    }
   ],
   "source": [
    "import seaborn as sns\n",
    "import matplotlib.pyplot as plt\n",
    "\n",
    "plt.figure(figsize=(4, 4))\n",
    "sns.countplot(x='housing', hue='target', data=df, palette=\"Set2\")\n",
    "plt.title(\"Housing Loan vs Target Subscription\")\n",
    "plt.xlabel(\"Housing Loan Status\")\n",
    "plt.ylabel(\"Number of People\")\n",
    "plt.legend(title='Target Class')\n",
    "plt.show()"
   ]
  },
  {
   "cell_type": "markdown",
   "id": "2aa92dff",
   "metadata": {
    "papermill": {
     "duration": 0.034112,
     "end_time": "2024-11-29T17:43:21.394909",
     "exception": false,
     "start_time": "2024-11-29T17:43:21.360797",
     "status": "completed"
    },
    "tags": []
   },
   "source": [
    "From the above chart,\n",
    "\r\n",
    "People with a housing loan are less likely to subscribe compared to thos without a loan.\n",
    "\n",
    "\r\n",
    "There is a higher subscription rate among people who do not have a housing loan."
   ]
  },
  {
   "cell_type": "markdown",
   "id": "4d297269",
   "metadata": {
    "papermill": {
     "duration": 0.029033,
     "end_time": "2024-11-29T17:43:21.455916",
     "exception": false,
     "start_time": "2024-11-29T17:43:21.426883",
     "status": "completed"
    },
    "tags": []
   },
   "source": [
    "### **Correlation between numerical features**"
   ]
  },
  {
   "cell_type": "code",
   "execution_count": 22,
   "id": "c24ee048",
   "metadata": {
    "execution": {
     "iopub.execute_input": "2024-11-29T17:43:21.520130Z",
     "iopub.status.busy": "2024-11-29T17:43:21.519018Z",
     "iopub.status.idle": "2024-11-29T17:43:21.910010Z",
     "shell.execute_reply": "2024-11-29T17:43:21.908520Z"
    },
    "papermill": {
     "duration": 0.425869,
     "end_time": "2024-11-29T17:43:21.912487",
     "exception": false,
     "start_time": "2024-11-29T17:43:21.486618",
     "status": "completed"
    },
    "tags": []
   },
   "outputs": [
    {
     "data": {
      "image/png": "[encoded data removed]",
      "text/plain": [
       "<Figure size 640x480 with 2 Axes>"
      ]
     },
     "metadata": {},
     "output_type": "display_data"
    }
   ],
   "source": [
    "corr = train_data[numerical_features].corr()\n",
    "sns.heatmap(corr, annot=True, cmap='coolwarm', fmt='.2f')\n",
    "plt.title(\"Correlation between Numerical Features\")\n",
    "plt.show()"
   ]
  },
  {
   "cell_type": "markdown",
   "id": "3a3d65af",
   "metadata": {
    "papermill": {
     "duration": 0.031538,
     "end_time": "2024-11-29T17:43:21.974082",
     "exception": false,
     "start_time": "2024-11-29T17:43:21.942544",
     "status": "completed"
    },
    "tags": []
   },
   "source": [
    "\"Previous\" has a high positive correlation with \"balance\" (0.72), \"duration\" (0.68), and \"campaign\" (0.69), indicating that these features tend to increase together.\r\n",
    "Correlations involving \"age\" are generally weak, ranging from 0.20 to 0.29 with other feature, which suggests that many features are fairly independent of each other.."
   ]
  },
  {
   "cell_type": "markdown",
   "id": "36af5383",
   "metadata": {
    "papermill": {
     "duration": 0.030702,
     "end_time": "2024-11-29T17:43:22.033554",
     "exception": false,
     "start_time": "2024-11-29T17:43:22.002852",
     "status": "completed"
    },
    "tags": []
   },
   "source": [
    "### **Outlier analysis**"
   ]
  },
  {
   "cell_type": "code",
   "execution_count": 23,
   "id": "6e42e82a",
   "metadata": {
    "execution": {
     "iopub.execute_input": "2024-11-29T17:43:22.099183Z",
     "iopub.status.busy": "2024-11-29T17:43:22.098774Z",
     "iopub.status.idle": "2024-11-29T17:43:23.271754Z",
     "shell.execute_reply": "2024-11-29T17:43:23.270024Z"
    },
    "papermill": {
     "duration": 1.209924,
     "end_time": "2024-11-29T17:43:23.275216",
     "exception": false,
     "start_time": "2024-11-29T17:43:22.065292",
     "status": "completed"
    },
    "tags": []
   },
   "outputs": [
    {
     "data": {
      "text/plain": [
       "Text(0.5, 1.0, 'Box Plot to analyse outliers')"
      ]
     },
     "execution_count": 23,
     "metadata": {},
     "output_type": "execute_result"
    },
    {
     "data": {
      "image/png": "[encoded data removed]",
      "text/plain": [
       "<Figure size 800x500 with 1 Axes>"
      ]
     },
     "metadata": {},
     "output_type": "display_data"
    }
   ],
   "source": [
    "fig, ax = plt.subplots(figsize=(8,5))\n",
    "sns.boxplot(data=train_data, linewidth=2.5, ax=ax, showmeans=True).set_yscale(\"log\")\n",
    "plt.xlabel(\"Feature\", fontsize=12)\n",
    "plt.ylabel(\"Value\", fontsize=12)\n",
    "plt.xticks(rotation=60);\n",
    "plt.title(\"Box Plot to analyse outliers\")"
   ]
  },
  {
   "cell_type": "markdown",
   "id": "97b01dde",
   "metadata": {
    "papermill": {
     "duration": 0.033427,
     "end_time": "2024-11-29T17:43:23.342029",
     "exception": false,
     "start_time": "2024-11-29T17:43:23.308602",
     "status": "completed"
    },
    "tags": []
   },
   "source": [
    "\"Balance,\" \"pdays,\" and \"previous\" have the most outliers, suggesting significant variability.\r\n",
    "There are outliers in almost all of the features, indicating proper data preprocessin gto handee these outliers."
   ]
  },
  {
   "cell_type": "markdown",
   "id": "fce8ceaa",
   "metadata": {
    "papermill": {
     "duration": 0.034044,
     "end_time": "2024-11-29T17:43:23.408657",
     "exception": false,
     "start_time": "2024-11-29T17:43:23.374613",
     "status": "completed"
    },
    "tags": []
   },
   "source": [
    "# **Data Preprocessing**"
   ]
  },
  {
   "cell_type": "markdown",
   "id": "140d0365",
   "metadata": {
    "papermill": {
     "duration": 0.030442,
     "end_time": "2024-11-29T17:43:23.472315",
     "exception": false,
     "start_time": "2024-11-29T17:43:23.441873",
     "status": "completed"
    },
    "tags": []
   },
   "source": [
    "### Handle Dates\r\n",
    "Th **last contact date** column can be broken down ino ****day, month and year****  feature respectively."
   ]
  },
  {
   "cell_type": "code",
   "execution_count": 24,
   "id": "e5de355c",
   "metadata": {
    "execution": {
     "iopub.execute_input": "2024-11-29T17:43:23.537831Z",
     "iopub.status.busy": "2024-11-29T17:43:23.537340Z",
     "iopub.status.idle": "2024-11-29T17:43:23.544019Z",
     "shell.execute_reply": "2024-11-29T17:43:23.542814Z"
    },
    "papermill": {
     "duration": 0.041273,
     "end_time": "2024-11-29T17:43:23.546486",
     "exception": false,
     "start_time": "2024-11-29T17:43:23.505213",
     "status": "completed"
    },
    "tags": []
   },
   "outputs": [],
   "source": [
    "def date_transform(df, date_column):\n",
    "    df[date_column] = pd.to_datetime(df[date_column])\n",
    "    df['contact_month'] = df[date_column].dt.month\n",
    "    df['contact_day'] = df[date_column].dt.day\n",
    "    df.drop(columns=[date_column, df[date_column].dt.year.name], inplace=True)\n",
    "    return df"
   ]
  },
  {
   "cell_type": "code",
   "execution_count": 25,
   "id": "7ee30426",
   "metadata": {
    "execution": {
     "iopub.execute_input": "2024-11-29T17:43:23.612734Z",
     "iopub.status.busy": "2024-11-29T17:43:23.611587Z",
     "iopub.status.idle": "2024-11-29T17:43:23.643905Z",
     "shell.execute_reply": "2024-11-29T17:43:23.642466Z"
    },
    "papermill": {
     "duration": 0.069388,
     "end_time": "2024-11-29T17:43:23.646659",
     "exception": false,
     "start_time": "2024-11-29T17:43:23.577271",
     "status": "completed"
    },
    "tags": []
   },
   "outputs": [],
   "source": [
    "date_feature = 'last contact date'\n",
    "\n",
    "# Apply date transformation function\n",
    "df = date_transform(df, date_feature)"
   ]
  },
  {
   "cell_type": "markdown",
   "id": "87540995",
   "metadata": {
    "papermill": {
     "duration": 0.030736,
     "end_time": "2024-11-29T17:43:23.707844",
     "exception": false,
     "start_time": "2024-11-29T17:43:23.677108",
     "status": "completed"
    },
    "tags": []
   },
   "source": [
    "### Handle loan features"
   ]
  },
  {
   "cell_type": "code",
   "execution_count": 26,
   "id": "b6424f85",
   "metadata": {
    "execution": {
     "iopub.execute_input": "2024-11-29T17:43:23.774015Z",
     "iopub.status.busy": "2024-11-29T17:43:23.773486Z",
     "iopub.status.idle": "2024-11-29T17:43:23.778853Z",
     "shell.execute_reply": "2024-11-29T17:43:23.777604Z"
    },
    "papermill": {
     "duration": 0.042909,
     "end_time": "2024-11-29T17:43:23.781414",
     "exception": false,
     "start_time": "2024-11-29T17:43:23.738505",
     "status": "completed"
    },
    "tags": []
   },
   "outputs": [],
   "source": [
    "# # # Housing and loan interaction\n",
    "# df['has_both_loans'] = ((df['housing'] == 'yes') & (df['loan'] == 'yes')).astype(int)\n",
    "# df['no_loans'] = ((df['housing'] == 'no') & (df['loan'] == 'no')).astype(int)"
   ]
  },
  {
   "cell_type": "markdown",
   "id": "07b34e62",
   "metadata": {
    "papermill": {
     "duration": 0.031654,
     "end_time": "2024-11-29T17:43:23.844692",
     "exception": false,
     "start_time": "2024-11-29T17:43:23.813038",
     "status": "completed"
    },
    "tags": []
   },
   "source": [
    "### Handle Balance\n",
    "Similar to age, the balance feature can be categorized to different categories such as low, medium and high. We can call this feature balance_category.\n",
    "\n",
    "We can use KBinsDiscretizer to convert the continuous features into discrete intervals. This can help the model better understand the data."
   ]
  },
  {
   "cell_type": "code",
   "execution_count": 27,
   "id": "4bd93e89",
   "metadata": {
    "execution": {
     "iopub.execute_input": "2024-11-29T17:43:23.912628Z",
     "iopub.status.busy": "2024-11-29T17:43:23.911554Z",
     "iopub.status.idle": "2024-11-29T17:43:23.916662Z",
     "shell.execute_reply": "2024-11-29T17:43:23.915608Z"
    },
    "papermill": {
     "duration": 0.041043,
     "end_time": "2024-11-29T17:43:23.918844",
     "exception": false,
     "start_time": "2024-11-29T17:43:23.877801",
     "status": "completed"
    },
    "tags": []
   },
   "outputs": [],
   "source": [
    "# from sklearn.preprocessing import KBinsDiscretizer\n",
    "\n",
    "# est = KBinsDiscretizer(n_bins=3, encode='ordinal', strategy='quantile')\n",
    "# df['balance_category'] = est.fit_transform(df[['balance']])\n",
    "\n",
    "# # Map the numerical categories to labels (low, medium, high)\n",
    "# df['balance_category'] = df['balance_category'].map({0: 'low', 1: 'medium', 2: 'high'})\n",
    "# df = df.drop('balance', axis = 1)\n",
    "# df.head(2)"
   ]
  },
  {
   "cell_type": "markdown",
   "id": "8449ff30",
   "metadata": {
    "papermill": {
     "duration": 0.031837,
     "end_time": "2024-11-29T17:43:23.981905",
     "exception": false,
     "start_time": "2024-11-29T17:43:23.950068",
     "status": "completed"
    },
    "tags": []
   },
   "source": [
    "### Handle Duration\r\n",
    "Similary, we handle the duration and break this feature down into 3 different categories, short, medium and long depending upon the call duration."
   ]
  },
  {
   "cell_type": "code",
   "execution_count": 28,
   "id": "9328fcef",
   "metadata": {
    "execution": {
     "iopub.execute_input": "2024-11-29T17:43:24.046201Z",
     "iopub.status.busy": "2024-11-29T17:43:24.045711Z",
     "iopub.status.idle": "2024-11-29T17:43:24.051097Z",
     "shell.execute_reply": "2024-11-29T17:43:24.049871Z"
    },
    "papermill": {
     "duration": 0.040679,
     "end_time": "2024-11-29T17:43:24.053530",
     "exception": false,
     "start_time": "2024-11-29T17:43:24.012851",
     "status": "completed"
    },
    "tags": []
   },
   "outputs": [],
   "source": [
    "# est = KBinsDiscretizer(n_bins=3, encode='ordinal', strategy='quantile')\n",
    "# df['duration_category'] = est.fit_transform(df[['duration']])\n",
    "\n",
    "# # Map the numerical categories to labels (short, medium, long)\n",
    "# df['duration_category'] = df['duration_category'].map({0: 'short', 1: 'medium', 2: 'long'})\n",
    "# df = df.drop('duration', axis = 1)\n",
    "# df.head(2)"
   ]
  },
  {
   "cell_type": "markdown",
   "id": "1a44987e",
   "metadata": {
    "papermill": {
     "duration": 0.033287,
     "end_time": "2024-11-29T17:43:24.118521",
     "exception": false,
     "start_time": "2024-11-29T17:43:24.085234",
     "status": "completed"
    },
    "tags": []
   },
   "source": [
    "### Handle Campaign"
   ]
  },
  {
   "cell_type": "code",
   "execution_count": 29,
   "id": "f242be0d",
   "metadata": {
    "execution": {
     "iopub.execute_input": "2024-11-29T17:43:24.186863Z",
     "iopub.status.busy": "2024-11-29T17:43:24.185969Z",
     "iopub.status.idle": "2024-11-29T17:43:24.191511Z",
     "shell.execute_reply": "2024-11-29T17:43:24.190139Z"
    },
    "papermill": {
     "duration": 0.042274,
     "end_time": "2024-11-29T17:43:24.193953",
     "exception": false,
     "start_time": "2024-11-29T17:43:24.151679",
     "status": "completed"
    },
    "tags": []
   },
   "outputs": [],
   "source": [
    "# est = KBinsDiscretizer(n_bins=3, encode='ordinal', strategy='quantile')\n",
    "# df['campaign_category'] = est.fit_transform(df[['campaign']])\n",
    "\n",
    "# # Map the numerical categories to labels (low, medium, high)\n",
    "# df['campaign_category'] = df['campaign_category'].map({0: 'low', 1: 'medium', 2: 'high'})\n",
    "# df = df.drop(\"campaign\", axis = 1)\n",
    "# df.head(2)"
   ]
  },
  {
   "cell_type": "markdown",
   "id": "f340338f",
   "metadata": {
    "papermill": {
     "duration": 0.032189,
     "end_time": "2024-11-29T17:43:24.259228",
     "exception": false,
     "start_time": "2024-11-29T17:43:24.227039",
     "status": "completed"
    },
    "tags": []
   },
   "source": [
    "### Handle pdays feature\n",
    "\n",
    "converting the value \"-1\" to nan for simplification of the process."
   ]
  },
  {
   "cell_type": "code",
   "execution_count": 30,
   "id": "595b18ab",
   "metadata": {
    "execution": {
     "iopub.execute_input": "2024-11-29T17:43:24.329892Z",
     "iopub.status.busy": "2024-11-29T17:43:24.328704Z",
     "iopub.status.idle": "2024-11-29T17:43:24.408915Z",
     "shell.execute_reply": "2024-11-29T17:43:24.407541Z"
    },
    "papermill": {
     "duration": 0.12072,
     "end_time": "2024-11-29T17:43:24.411665",
     "exception": false,
     "start_time": "2024-11-29T17:43:24.290945",
     "status": "completed"
    },
    "tags": []
   },
   "outputs": [
    {
     "data": {
      "text/html": [
       "<div>\n",
       "<style scoped>\n",
       "    .dataframe tbody tr th:only-of-type {\n",
       "        vertical-align: middle;\n",
       "    }\n",
       "\n",
       "    .dataframe tbody tr th {\n",
       "        vertical-align: top;\n",
       "    }\n",
       "\n",
       "    .dataframe thead th {\n",
       "        text-align: right;\n",
       "    }\n",
       "</style>\n",
       "<table border=\"1\" class=\"dataframe\">\n",
       "  <thead>\n",
       "    <tr style=\"text-align: right;\">\n",
       "      <th></th>\n",
       "      <th>age</th>\n",
       "      <th>job</th>\n",
       "      <th>marital</th>\n",
       "      <th>education</th>\n",
       "      <th>default</th>\n",
       "      <th>balance</th>\n",
       "      <th>housing</th>\n",
       "      <th>loan</th>\n",
       "      <th>contact</th>\n",
       "      <th>duration</th>\n",
       "      <th>campaign</th>\n",
       "      <th>pdays</th>\n",
       "      <th>previous</th>\n",
       "      <th>poutcome</th>\n",
       "      <th>target</th>\n",
       "      <th>contact_month</th>\n",
       "      <th>contact_day</th>\n",
       "    </tr>\n",
       "  </thead>\n",
       "  <tbody>\n",
       "    <tr>\n",
       "      <th>0</th>\n",
       "      <td>26</td>\n",
       "      <td>blue-collar</td>\n",
       "      <td>married</td>\n",
       "      <td>secondary</td>\n",
       "      <td>no</td>\n",
       "      <td>647</td>\n",
       "      <td>yes</td>\n",
       "      <td>no</td>\n",
       "      <td>cellular</td>\n",
       "      <td>357</td>\n",
       "      <td>2</td>\n",
       "      <td>331.0</td>\n",
       "      <td>1</td>\n",
       "      <td>other</td>\n",
       "      <td>no</td>\n",
       "      <td>4</td>\n",
       "      <td>17</td>\n",
       "    </tr>\n",
       "    <tr>\n",
       "      <th>1</th>\n",
       "      <td>52</td>\n",
       "      <td>technician</td>\n",
       "      <td>married</td>\n",
       "      <td>secondary</td>\n",
       "      <td>no</td>\n",
       "      <td>553</td>\n",
       "      <td>yes</td>\n",
       "      <td>no</td>\n",
       "      <td>telephone</td>\n",
       "      <td>160</td>\n",
       "      <td>1</td>\n",
       "      <td>NaN</td>\n",
       "      <td>0</td>\n",
       "      <td>NaN</td>\n",
       "      <td>no</td>\n",
       "      <td>10</td>\n",
       "      <td>11</td>\n",
       "    </tr>\n",
       "  </tbody>\n",
       "</table>\n",
       "</div>"
      ],
      "text/plain": [
       "   age          job  marital  education default  balance housing loan  \\\n",
       "0   26  blue-collar  married  secondary      no      647     yes   no   \n",
       "1   52   technician  married  secondary      no      553     yes   no   \n",
       "\n",
       "     contact  duration  campaign  pdays  previous poutcome target  \\\n",
       "0   cellular       357         2  331.0         1    other     no   \n",
       "1  telephone       160         1    NaN         0      NaN     no   \n",
       "\n",
       "   contact_month  contact_day  \n",
       "0              4           17  \n",
       "1             10           11  "
      ]
     },
     "execution_count": 30,
     "metadata": {},
     "output_type": "execute_result"
    }
   ],
   "source": [
    "# Convert -1 in pdays to NaN (no previous contact)\n",
    "df.loc[df['pdays'] == -1, 'pdays'] = np.nan\n",
    "\n",
    "# Convert 'unknown' values to NaN\n",
    "df.replace('unknown', np.nan, inplace=True)\n",
    "df.replace('NaN', np.nan, inplace=True)\n",
    "df.head(2)"
   ]
  },
  {
   "cell_type": "markdown",
   "id": "3c76bb6d",
   "metadata": {
    "papermill": {
     "duration": 0.032357,
     "end_time": "2024-11-29T17:43:24.477153",
     "exception": false,
     "start_time": "2024-11-29T17:43:24.444796",
     "status": "completed"
    },
    "tags": []
   },
   "source": [
    "### Handle NAN values"
   ]
  },
  {
   "cell_type": "code",
   "execution_count": 31,
   "id": "a5ce5df2",
   "metadata": {
    "execution": {
     "iopub.execute_input": "2024-11-29T17:43:24.546105Z",
     "iopub.status.busy": "2024-11-29T17:43:24.545013Z",
     "iopub.status.idle": "2024-11-29T17:43:24.597184Z",
     "shell.execute_reply": "2024-11-29T17:43:24.595938Z"
    },
    "papermill": {
     "duration": 0.08861,
     "end_time": "2024-11-29T17:43:24.599733",
     "exception": false,
     "start_time": "2024-11-29T17:43:24.511123",
     "status": "completed"
    },
    "tags": []
   },
   "outputs": [
    {
     "data": {
      "text/plain": [
       "age                  0\n",
       "job                229\n",
       "marital              0\n",
       "education         1467\n",
       "default              0\n",
       "balance              0\n",
       "housing              0\n",
       "loan                 0\n",
       "contact          10336\n",
       "duration             0\n",
       "campaign             0\n",
       "pdays            29446\n",
       "previous             0\n",
       "poutcome         29451\n",
       "target               0\n",
       "contact_month        0\n",
       "contact_day          0\n",
       "dtype: int64"
      ]
     },
     "execution_count": 31,
     "metadata": {},
     "output_type": "execute_result"
    }
   ],
   "source": [
    "df.replace('NaN', np.nan, inplace=True)\n",
    "null_values = df.isnull().sum()\n",
    "null_values"
   ]
  },
  {
   "cell_type": "code",
   "execution_count": 32,
   "id": "e823e254",
   "metadata": {
    "execution": {
     "iopub.execute_input": "2024-11-29T17:43:24.668308Z",
     "iopub.status.busy": "2024-11-29T17:43:24.667809Z",
     "iopub.status.idle": "2024-11-29T17:43:24.677444Z",
     "shell.execute_reply": "2024-11-29T17:43:24.676187Z"
    },
    "papermill": {
     "duration": 0.047813,
     "end_time": "2024-11-29T17:43:24.679840",
     "exception": false,
     "start_time": "2024-11-29T17:43:24.632027",
     "status": "completed"
    },
    "tags": []
   },
   "outputs": [
    {
     "data": {
      "text/plain": [
       "array(['cellular', 'telephone', nan], dtype=object)"
      ]
     },
     "execution_count": 32,
     "metadata": {},
     "output_type": "execute_result"
    }
   ],
   "source": [
    "df['contact'].unique()"
   ]
  },
  {
   "cell_type": "markdown",
   "id": "ab12ae1f",
   "metadata": {
    "papermill": {
     "duration": 0.034139,
     "end_time": "2024-11-29T17:43:24.746760",
     "exception": false,
     "start_time": "2024-11-29T17:43:24.712621",
     "status": "completed"
    },
    "tags": []
   },
   "source": [
    "We can fill all the Nan of contact with \"unknown\"."
   ]
  },
  {
   "cell_type": "code",
   "execution_count": 33,
   "id": "b5097a1f",
   "metadata": {
    "execution": {
     "iopub.execute_input": "2024-11-29T17:43:24.815773Z",
     "iopub.status.busy": "2024-11-29T17:43:24.815266Z",
     "iopub.status.idle": "2024-11-29T17:43:24.825091Z",
     "shell.execute_reply": "2024-11-29T17:43:24.824010Z"
    },
    "papermill": {
     "duration": 0.047636,
     "end_time": "2024-11-29T17:43:24.827757",
     "exception": false,
     "start_time": "2024-11-29T17:43:24.780121",
     "status": "completed"
    },
    "tags": []
   },
   "outputs": [],
   "source": [
    "df['contact'] = df['contact'].fillna('unknown')"
   ]
  },
  {
   "cell_type": "code",
   "execution_count": 34,
   "id": "60ea80d3",
   "metadata": {
    "execution": {
     "iopub.execute_input": "2024-11-29T17:43:24.891634Z",
     "iopub.status.busy": "2024-11-29T17:43:24.891027Z",
     "iopub.status.idle": "2024-11-29T17:43:25.351781Z",
     "shell.execute_reply": "2024-11-29T17:43:25.350621Z"
    },
    "papermill": {
     "duration": 0.495717,
     "end_time": "2024-11-29T17:43:25.354512",
     "exception": false,
     "start_time": "2024-11-29T17:43:24.858795",
     "status": "completed"
    },
    "tags": []
   },
   "outputs": [
    {
     "data": {
      "image/png": "[encoded data removed]",
      "text/plain": [
       "<Figure size 573.875x300 with 1 Axes>"
      ]
     },
     "metadata": {},
     "output_type": "display_data"
    }
   ],
   "source": [
    "sns.catplot(x='contact', hue='target', kind='count', data=df, height=3, aspect=5/3)\n",
    "plt.title('Contact Method vs Target')\n",
    "plt.xlabel('Contact Method')\n",
    "plt.ylabel('Count')\n",
    "plt.xticks(rotation=45)\n",
    "plt.show()"
   ]
  },
  {
   "cell_type": "markdown",
   "id": "5ca2457b",
   "metadata": {
    "papermill": {
     "duration": 0.030552,
     "end_time": "2024-11-29T17:43:25.416116",
     "exception": false,
     "start_time": "2024-11-29T17:43:25.385564",
     "status": "completed"
    },
    "tags": []
   },
   "source": [
    "Let us check the unique values of the poutcome."
   ]
  },
  {
   "cell_type": "code",
   "execution_count": 35,
   "id": "022bcd3d",
   "metadata": {
    "execution": {
     "iopub.execute_input": "2024-11-29T17:43:25.477807Z",
     "iopub.status.busy": "2024-11-29T17:43:25.477384Z",
     "iopub.status.idle": "2024-11-29T17:43:25.485757Z",
     "shell.execute_reply": "2024-11-29T17:43:25.484843Z"
    },
    "papermill": {
     "duration": 0.041554,
     "end_time": "2024-11-29T17:43:25.487679",
     "exception": false,
     "start_time": "2024-11-29T17:43:25.446125",
     "status": "completed"
    },
    "tags": []
   },
   "outputs": [
    {
     "data": {
      "text/plain": [
       "array(['other', nan, 'failure', 'success'], dtype=object)"
      ]
     },
     "execution_count": 35,
     "metadata": {},
     "output_type": "execute_result"
    }
   ],
   "source": [
    "df['poutcome'].unique()"
   ]
  },
  {
   "cell_type": "code",
   "execution_count": 36,
   "id": "0554103f",
   "metadata": {
    "execution": {
     "iopub.execute_input": "2024-11-29T17:43:25.552554Z",
     "iopub.status.busy": "2024-11-29T17:43:25.552198Z",
     "iopub.status.idle": "2024-11-29T17:43:25.560573Z",
     "shell.execute_reply": "2024-11-29T17:43:25.559255Z"
    },
    "papermill": {
     "duration": 0.04397,
     "end_time": "2024-11-29T17:43:25.562955",
     "exception": false,
     "start_time": "2024-11-29T17:43:25.518985",
     "status": "completed"
    },
    "tags": []
   },
   "outputs": [],
   "source": [
    "df['poutcome'] = df['poutcome'].fillna('unknown') ## replacing nan values of poutcome with 'unknown'"
   ]
  },
  {
   "cell_type": "code",
   "execution_count": 37,
   "id": "19b868d3",
   "metadata": {
    "execution": {
     "iopub.execute_input": "2024-11-29T17:43:25.625879Z",
     "iopub.status.busy": "2024-11-29T17:43:25.625367Z",
     "iopub.status.idle": "2024-11-29T17:43:25.650239Z",
     "shell.execute_reply": "2024-11-29T17:43:25.649272Z"
    },
    "papermill": {
     "duration": 0.058896,
     "end_time": "2024-11-29T17:43:25.652213",
     "exception": false,
     "start_time": "2024-11-29T17:43:25.593317",
     "status": "completed"
    },
    "tags": []
   },
   "outputs": [
    {
     "data": {
      "text/plain": [
       "age                  0\n",
       "job                229\n",
       "marital              0\n",
       "education         1467\n",
       "default              0\n",
       "balance              0\n",
       "housing              0\n",
       "loan                 0\n",
       "contact              0\n",
       "duration             0\n",
       "campaign             0\n",
       "pdays            29446\n",
       "previous             0\n",
       "poutcome             0\n",
       "target               0\n",
       "contact_month        0\n",
       "contact_day          0\n",
       "dtype: int64"
      ]
     },
     "execution_count": 37,
     "metadata": {},
     "output_type": "execute_result"
    }
   ],
   "source": [
    "null_values = df.isnull().sum()\n",
    "null_values"
   ]
  },
  {
   "cell_type": "markdown",
   "id": "5bcf1362",
   "metadata": {
    "execution": {
     "iopub.execute_input": "2024-11-21T14:43:19.009121Z",
     "iopub.status.busy": "2024-11-21T14:43:19.008803Z",
     "iopub.status.idle": "2024-11-21T14:43:19.016718Z",
     "shell.execute_reply": "2024-11-21T14:43:19.014847Z",
     "shell.execute_reply.started": "2024-11-21T14:43:19.009083Z"
    },
    "papermill": {
     "duration": 0.030388,
     "end_time": "2024-11-29T17:43:25.712718",
     "exception": false,
     "start_time": "2024-11-29T17:43:25.682330",
     "status": "completed"
    },
    "tags": []
   },
   "source": [
    "There are only **age**, **education** and **pdays** with some null values. We can handle them with Imputation techniques in the pipeline."
   ]
  },
  {
   "cell_type": "markdown",
   "id": "963b82fc",
   "metadata": {
    "papermill": {
     "duration": 0.030867,
     "end_time": "2024-11-29T17:43:25.774024",
     "exception": false,
     "start_time": "2024-11-29T17:43:25.743157",
     "status": "completed"
    },
    "tags": []
   },
   "source": [
    "### Splitting the train_data into X and y\n",
    "Splitting the data into X and y before training the model."
   ]
  },
  {
   "cell_type": "code",
   "execution_count": 38,
   "id": "57aab6d0",
   "metadata": {
    "execution": {
     "iopub.execute_input": "2024-11-29T17:43:25.836362Z",
     "iopub.status.busy": "2024-11-29T17:43:25.835996Z",
     "iopub.status.idle": "2024-11-29T17:43:25.846990Z",
     "shell.execute_reply": "2024-11-29T17:43:25.845907Z"
    },
    "papermill": {
     "duration": 0.044788,
     "end_time": "2024-11-29T17:43:25.849114",
     "exception": false,
     "start_time": "2024-11-29T17:43:25.804326",
     "status": "completed"
    },
    "tags": []
   },
   "outputs": [
    {
     "name": "stdout",
     "output_type": "stream",
     "text": [
      "(39211, 16) (39211,)\n"
     ]
    }
   ],
   "source": [
    "y = df['target']\n",
    "X = df.drop('target', axis=1)\n",
    "print(X.shape, y.shape)"
   ]
  },
  {
   "cell_type": "code",
   "execution_count": 39,
   "id": "8c1e095c",
   "metadata": {
    "execution": {
     "iopub.execute_input": "2024-11-29T17:43:25.912799Z",
     "iopub.status.busy": "2024-11-29T17:43:25.912388Z",
     "iopub.status.idle": "2024-11-29T17:43:25.938949Z",
     "shell.execute_reply": "2024-11-29T17:43:25.937867Z"
    },
    "papermill": {
     "duration": 0.061453,
     "end_time": "2024-11-29T17:43:25.941207",
     "exception": false,
     "start_time": "2024-11-29T17:43:25.879754",
     "status": "completed"
    },
    "tags": []
   },
   "outputs": [
    {
     "name": "stdout",
     "output_type": "stream",
     "text": [
      "<class 'pandas.core.frame.DataFrame'>\n",
      "RangeIndex: 39211 entries, 0 to 39210\n",
      "Data columns (total 16 columns):\n",
      " #   Column         Non-Null Count  Dtype  \n",
      "---  ------         --------------  -----  \n",
      " 0   age            39211 non-null  int64  \n",
      " 1   job            38982 non-null  object \n",
      " 2   marital        39211 non-null  object \n",
      " 3   education      37744 non-null  object \n",
      " 4   default        39211 non-null  object \n",
      " 5   balance        39211 non-null  int64  \n",
      " 6   housing        39211 non-null  object \n",
      " 7   loan           39211 non-null  object \n",
      " 8   contact        39211 non-null  object \n",
      " 9   duration       39211 non-null  int64  \n",
      " 10  campaign       39211 non-null  int64  \n",
      " 11  pdays          9765 non-null   float64\n",
      " 12  previous       39211 non-null  int64  \n",
      " 13  poutcome       39211 non-null  object \n",
      " 14  contact_month  39211 non-null  int32  \n",
      " 15  contact_day    39211 non-null  int32  \n",
      "dtypes: float64(1), int32(2), int64(5), object(8)\n",
      "memory usage: 4.5+ MB\n"
     ]
    }
   ],
   "source": [
    "X.info()"
   ]
  },
  {
   "cell_type": "code",
   "execution_count": 40,
   "id": "0b67efeb",
   "metadata": {
    "execution": {
     "iopub.execute_input": "2024-11-29T17:43:26.005085Z",
     "iopub.status.busy": "2024-11-29T17:43:26.004708Z",
     "iopub.status.idle": "2024-11-29T17:43:26.025721Z",
     "shell.execute_reply": "2024-11-29T17:43:26.024804Z"
    },
    "papermill": {
     "duration": 0.055868,
     "end_time": "2024-11-29T17:43:26.027825",
     "exception": false,
     "start_time": "2024-11-29T17:43:25.971957",
     "status": "completed"
    },
    "tags": []
   },
   "outputs": [
    {
     "data": {
      "text/html": [
       "<div>\n",
       "<style scoped>\n",
       "    .dataframe tbody tr th:only-of-type {\n",
       "        vertical-align: middle;\n",
       "    }\n",
       "\n",
       "    .dataframe tbody tr th {\n",
       "        vertical-align: top;\n",
       "    }\n",
       "\n",
       "    .dataframe thead th {\n",
       "        text-align: right;\n",
       "    }\n",
       "</style>\n",
       "<table border=\"1\" class=\"dataframe\">\n",
       "  <thead>\n",
       "    <tr style=\"text-align: right;\">\n",
       "      <th></th>\n",
       "      <th>age</th>\n",
       "      <th>job</th>\n",
       "      <th>marital</th>\n",
       "      <th>education</th>\n",
       "      <th>default</th>\n",
       "      <th>balance</th>\n",
       "      <th>housing</th>\n",
       "      <th>loan</th>\n",
       "      <th>contact</th>\n",
       "      <th>duration</th>\n",
       "      <th>campaign</th>\n",
       "      <th>pdays</th>\n",
       "      <th>previous</th>\n",
       "      <th>poutcome</th>\n",
       "      <th>target</th>\n",
       "      <th>contact_month</th>\n",
       "      <th>contact_day</th>\n",
       "    </tr>\n",
       "  </thead>\n",
       "  <tbody>\n",
       "    <tr>\n",
       "      <th>0</th>\n",
       "      <td>26</td>\n",
       "      <td>blue-collar</td>\n",
       "      <td>married</td>\n",
       "      <td>secondary</td>\n",
       "      <td>no</td>\n",
       "      <td>647</td>\n",
       "      <td>yes</td>\n",
       "      <td>no</td>\n",
       "      <td>cellular</td>\n",
       "      <td>357</td>\n",
       "      <td>2</td>\n",
       "      <td>331.0</td>\n",
       "      <td>1</td>\n",
       "      <td>other</td>\n",
       "      <td>no</td>\n",
       "      <td>4</td>\n",
       "      <td>17</td>\n",
       "    </tr>\n",
       "    <tr>\n",
       "      <th>1</th>\n",
       "      <td>52</td>\n",
       "      <td>technician</td>\n",
       "      <td>married</td>\n",
       "      <td>secondary</td>\n",
       "      <td>no</td>\n",
       "      <td>553</td>\n",
       "      <td>yes</td>\n",
       "      <td>no</td>\n",
       "      <td>telephone</td>\n",
       "      <td>160</td>\n",
       "      <td>1</td>\n",
       "      <td>NaN</td>\n",
       "      <td>0</td>\n",
       "      <td>unknown</td>\n",
       "      <td>no</td>\n",
       "      <td>10</td>\n",
       "      <td>11</td>\n",
       "    </tr>\n",
       "    <tr>\n",
       "      <th>2</th>\n",
       "      <td>44</td>\n",
       "      <td>blue-collar</td>\n",
       "      <td>married</td>\n",
       "      <td>secondary</td>\n",
       "      <td>no</td>\n",
       "      <td>1397</td>\n",
       "      <td>no</td>\n",
       "      <td>no</td>\n",
       "      <td>cellular</td>\n",
       "      <td>326</td>\n",
       "      <td>1</td>\n",
       "      <td>NaN</td>\n",
       "      <td>0</td>\n",
       "      <td>unknown</td>\n",
       "      <td>no</td>\n",
       "      <td>11</td>\n",
       "      <td>20</td>\n",
       "    </tr>\n",
       "    <tr>\n",
       "      <th>3</th>\n",
       "      <td>33</td>\n",
       "      <td>admin.</td>\n",
       "      <td>married</td>\n",
       "      <td>secondary</td>\n",
       "      <td>no</td>\n",
       "      <td>394</td>\n",
       "      <td>yes</td>\n",
       "      <td>no</td>\n",
       "      <td>telephone</td>\n",
       "      <td>104</td>\n",
       "      <td>3</td>\n",
       "      <td>NaN</td>\n",
       "      <td>0</td>\n",
       "      <td>unknown</td>\n",
       "      <td>no</td>\n",
       "      <td>9</td>\n",
       "      <td>1</td>\n",
       "    </tr>\n",
       "    <tr>\n",
       "      <th>4</th>\n",
       "      <td>31</td>\n",
       "      <td>entrepreneur</td>\n",
       "      <td>single</td>\n",
       "      <td>tertiary</td>\n",
       "      <td>no</td>\n",
       "      <td>137</td>\n",
       "      <td>no</td>\n",
       "      <td>no</td>\n",
       "      <td>cellular</td>\n",
       "      <td>445</td>\n",
       "      <td>2</td>\n",
       "      <td>NaN</td>\n",
       "      <td>0</td>\n",
       "      <td>unknown</td>\n",
       "      <td>no</td>\n",
       "      <td>1</td>\n",
       "      <td>29</td>\n",
       "    </tr>\n",
       "  </tbody>\n",
       "</table>\n",
       "</div>"
      ],
      "text/plain": [
       "   age           job  marital  education default  balance housing loan  \\\n",
       "0   26   blue-collar  married  secondary      no      647     yes   no   \n",
       "1   52    technician  married  secondary      no      553     yes   no   \n",
       "2   44   blue-collar  married  secondary      no     1397      no   no   \n",
       "3   33        admin.  married  secondary      no      394     yes   no   \n",
       "4   31  entrepreneur   single   tertiary      no      137      no   no   \n",
       "\n",
       "     contact  duration  campaign  pdays  previous poutcome target  \\\n",
       "0   cellular       357         2  331.0         1    other     no   \n",
       "1  telephone       160         1    NaN         0  unknown     no   \n",
       "2   cellular       326         1    NaN         0  unknown     no   \n",
       "3  telephone       104         3    NaN         0  unknown     no   \n",
       "4   cellular       445         2    NaN         0  unknown     no   \n",
       "\n",
       "   contact_month  contact_day  \n",
       "0              4           17  \n",
       "1             10           11  \n",
       "2             11           20  \n",
       "3              9            1  \n",
       "4              1           29  "
      ]
     },
     "execution_count": 40,
     "metadata": {},
     "output_type": "execute_result"
    }
   ],
   "source": [
    "df.head()"
   ]
  },
  {
   "cell_type": "markdown",
   "id": "3f2d32d0",
   "metadata": {
    "papermill": {
     "duration": 0.032244,
     "end_time": "2024-11-29T17:43:26.090932",
     "exception": false,
     "start_time": "2024-11-29T17:43:26.058688",
     "status": "completed"
    },
    "tags": []
   },
   "source": [
    "### Setup processing pipeline\r",
    "- Imputation is done using SimpleImputation for the missing values\n",
    "- then scaled the features with appropriate scalers\n",
    "- Encoded using OrdinalEncoder and OneHotEncoder\n",
    "- Then transformed the train data with column transformer."
   ]
  },
  {
   "cell_type": "code",
   "execution_count": 41,
   "id": "ca6e4b03",
   "metadata": {
    "execution": {
     "iopub.execute_input": "2024-11-29T17:43:26.155071Z",
     "iopub.status.busy": "2024-11-29T17:43:26.154719Z",
     "iopub.status.idle": "2024-11-29T17:43:26.211751Z",
     "shell.execute_reply": "2024-11-29T17:43:26.210610Z"
    },
    "papermill": {
     "duration": 0.091739,
     "end_time": "2024-11-29T17:43:26.213809",
     "exception": false,
     "start_time": "2024-11-29T17:43:26.122070",
     "status": "completed"
    },
    "tags": []
   },
   "outputs": [
    {
     "data": {
      "text/html": [
       "<style>#sk-container-id-1 {color: black;background-color: white;}#sk-container-id-1 pre{padding: 0;}#sk-container-id-1 div.sk-toggleable {background-color: white;}#sk-container-id-1 label.sk-toggleable__label {cursor: pointer;display: block;width: 100%;margin-bottom: 0;padding: 0.3em;box-sizing: border-box;text-align: center;}#sk-container-id-1 label.sk-toggleable__label-arrow:before {content: \"▸\";float: left;margin-right: 0.25em;color: #696969;}#sk-container-id-1 label.sk-toggleable__label-arrow:hover:before {color: black;}#sk-container-id-1 div.sk-estimator:hover label.sk-toggleable__label-arrow:before {color: black;}#sk-container-id-1 div.sk-toggleable__content {max-height: 0;max-width: 0;overflow: hidden;text-align: left;background-color: #f0f8ff;}#sk-container-id-1 div.sk-toggleable__content pre {margin: 0.2em;color: black;border-radius: 0.25em;background-color: #f0f8ff;}#sk-container-id-1 input.sk-toggleable__control:checked~div.sk-toggleable__content {max-height: 200px;max-width: 100%;overflow: auto;}#sk-container-id-1 input.sk-toggleable__control:checked~label.sk-toggleable__label-arrow:before {content: \"▾\";}#sk-container-id-1 div.sk-estimator input.sk-toggleable__control:checked~label.sk-toggleable__label {background-color: #d4ebff;}#sk-container-id-1 div.sk-label input.sk-toggleable__control:checked~label.sk-toggleable__label {background-color: #d4ebff;}#sk-container-id-1 input.sk-hidden--visually {border: 0;clip: rect(1px 1px 1px 1px);clip: rect(1px, 1px, 1px, 1px);height: 1px;margin: -1px;overflow: hidden;padding: 0;position: absolute;width: 1px;}#sk-container-id-1 div.sk-estimator {font-family: monospace;background-color: #f0f8ff;border: 1px dotted black;border-radius: 0.25em;box-sizing: border-box;margin-bottom: 0.5em;}#sk-container-id-1 div.sk-estimator:hover {background-color: #d4ebff;}#sk-container-id-1 div.sk-parallel-item::after {content: \"\";width: 100%;border-bottom: 1px solid gray;flex-grow: 1;}#sk-container-id-1 div.sk-label:hover label.sk-toggleable__label {background-color: #d4ebff;}#sk-container-id-1 div.sk-serial::before {content: \"\";position: absolute;border-left: 1px solid gray;box-sizing: border-box;top: 0;bottom: 0;left: 50%;z-index: 0;}#sk-container-id-1 div.sk-serial {display: flex;flex-direction: column;align-items: center;background-color: white;padding-right: 0.2em;padding-left: 0.2em;position: relative;}#sk-container-id-1 div.sk-item {position: relative;z-index: 1;}#sk-container-id-1 div.sk-parallel {display: flex;align-items: stretch;justify-content: center;background-color: white;position: relative;}#sk-container-id-1 div.sk-item::before, #sk-container-id-1 div.sk-parallel-item::before {content: \"\";position: absolute;border-left: 1px solid gray;box-sizing: border-box;top: 0;bottom: 0;left: 50%;z-index: -1;}#sk-container-id-1 div.sk-parallel-item {display: flex;flex-direction: column;z-index: 1;position: relative;background-color: white;}#sk-container-id-1 div.sk-parallel-item:first-child::after {align-self: flex-end;width: 50%;}#sk-container-id-1 div.sk-parallel-item:last-child::after {align-self: flex-start;width: 50%;}#sk-container-id-1 div.sk-parallel-item:only-child::after {width: 0;}#sk-container-id-1 div.sk-dashed-wrapped {border: 1px dashed gray;margin: 0 0.4em 0.5em 0.4em;box-sizing: border-box;padding-bottom: 0.4em;background-color: white;}#sk-container-id-1 div.sk-label label {font-family: monospace;font-weight: bold;display: inline-block;line-height: 1.2em;}#sk-container-id-1 div.sk-label-container {text-align: center;}#sk-container-id-1 div.sk-container {/* jupyter's `normalize.less` sets `[hidden] { display: none; }` but bootstrap.min.css set `[hidden] { display: none !important; }` so we also need the `!important` here to be able to override the default hidden behavior on the sphinx rendered scikit-learn.org. See: https://github.com/scikit-learn/scikit-learn/issues/21755 */display: inline-block !important;position: relative;}#sk-container-id-1 div.sk-text-repr-fallback {display: none;}</style><div id=\"sk-container-id-1\" class=\"sk-top-container\"><div class=\"sk-text-repr-fallback\"><pre>ColumnTransformer(remainder=&#x27;passthrough&#x27;,\n",
       "                  transformers=[(&#x27;num&#x27;,\n",
       "                                 Pipeline(steps=[(&#x27;imputer&#x27;, SimpleImputer()),\n",
       "                                                 (&#x27;scaler&#x27;, MinMaxScaler())]),\n",
       "                                 [&#x27;age&#x27;, &#x27;balance&#x27;, &#x27;duration&#x27;, &#x27;campaign&#x27;,\n",
       "                                  &#x27;previous&#x27;]),\n",
       "                                (&#x27;pdays&#x27;,\n",
       "                                 Pipeline(steps=[(&#x27;imputer&#x27;,\n",
       "                                                  SimpleImputer(fill_value=0,\n",
       "                                                                strategy=&#x27;constant&#x27;)),\n",
       "                                                 (&#x27;scaler&#x27;, MaxAbsScaler())]),\n",
       "                                 [&#x27;pdays&#x27;]),\n",
       "                                (&#x27;bin&#x27;,\n",
       "                                 Pipeline(steps=[(&#x27;imputer&#x27;,\n",
       "                                                  SimpleImputer(strategy=&#x27;most_frequent&#x27;)),\n",
       "                                                 (&#x27;label_encoder&#x27;,\n",
       "                                                  OrdinalEncoder())]),\n",
       "                                 [&#x27;default&#x27;, &#x27;housing&#x27;, &#x27;loan&#x27;]),\n",
       "                                (&#x27;cat&#x27;,\n",
       "                                 Pipeline(steps=[(&#x27;imputer&#x27;,\n",
       "                                                  SimpleImputer(strategy=&#x27;most_frequent&#x27;)),\n",
       "                                                 (&#x27;onehot&#x27;,\n",
       "                                                  OneHotEncoder(handle_unknown=&#x27;ignore&#x27;,\n",
       "                                                                sparse_output=False))]),\n",
       "                                 [&#x27;job&#x27;, &#x27;marital&#x27;, &#x27;education&#x27;, &#x27;contact&#x27;,\n",
       "                                  &#x27;poutcome&#x27;])])</pre><b>In a Jupyter environment, please rerun this cell to show the HTML representation or trust the notebook. <br />On GitHub, the HTML representation is unable to render, please try loading this page with nbviewer.org.</b></div><div class=\"sk-container\" hidden><div class=\"sk-item sk-dashed-wrapped\"><div class=\"sk-label-container\"><div class=\"sk-label sk-toggleable\"><input class=\"sk-toggleable__control sk-hidden--visually\" id=\"sk-estimator-id-1\" type=\"checkbox\" ><label for=\"sk-estimator-id-1\" class=\"sk-toggleable__label sk-toggleable__label-arrow\">ColumnTransformer</label><div class=\"sk-toggleable__content\"><pre>ColumnTransformer(remainder=&#x27;passthrough&#x27;,\n",
       "                  transformers=[(&#x27;num&#x27;,\n",
       "                                 Pipeline(steps=[(&#x27;imputer&#x27;, SimpleImputer()),\n",
       "                                                 (&#x27;scaler&#x27;, MinMaxScaler())]),\n",
       "                                 [&#x27;age&#x27;, &#x27;balance&#x27;, &#x27;duration&#x27;, &#x27;campaign&#x27;,\n",
       "                                  &#x27;previous&#x27;]),\n",
       "                                (&#x27;pdays&#x27;,\n",
       "                                 Pipeline(steps=[(&#x27;imputer&#x27;,\n",
       "                                                  SimpleImputer(fill_value=0,\n",
       "                                                                strategy=&#x27;constant&#x27;)),\n",
       "                                                 (&#x27;scaler&#x27;, MaxAbsScaler())]),\n",
       "                                 [&#x27;pdays&#x27;]),\n",
       "                                (&#x27;bin&#x27;,\n",
       "                                 Pipeline(steps=[(&#x27;imputer&#x27;,\n",
       "                                                  SimpleImputer(strategy=&#x27;most_frequent&#x27;)),\n",
       "                                                 (&#x27;label_encoder&#x27;,\n",
       "                                                  OrdinalEncoder())]),\n",
       "                                 [&#x27;default&#x27;, &#x27;housing&#x27;, &#x27;loan&#x27;]),\n",
       "                                (&#x27;cat&#x27;,\n",
       "                                 Pipeline(steps=[(&#x27;imputer&#x27;,\n",
       "                                                  SimpleImputer(strategy=&#x27;most_frequent&#x27;)),\n",
       "                                                 (&#x27;onehot&#x27;,\n",
       "                                                  OneHotEncoder(handle_unknown=&#x27;ignore&#x27;,\n",
       "                                                                sparse_output=False))]),\n",
       "                                 [&#x27;job&#x27;, &#x27;marital&#x27;, &#x27;education&#x27;, &#x27;contact&#x27;,\n",
       "                                  &#x27;poutcome&#x27;])])</pre></div></div></div><div class=\"sk-parallel\"><div class=\"sk-parallel-item\"><div class=\"sk-item\"><div class=\"sk-label-container\"><div class=\"sk-label sk-toggleable\"><input class=\"sk-toggleable__control sk-hidden--visually\" id=\"sk-estimator-id-2\" type=\"checkbox\" ><label for=\"sk-estimator-id-2\" class=\"sk-toggleable__label sk-toggleable__label-arrow\">num</label><div class=\"sk-toggleable__content\"><pre>[&#x27;age&#x27;, &#x27;balance&#x27;, &#x27;duration&#x27;, &#x27;campaign&#x27;, &#x27;previous&#x27;]</pre></div></div></div><div class=\"sk-serial\"><div class=\"sk-item\"><div class=\"sk-serial\"><div class=\"sk-item\"><div class=\"sk-estimator sk-toggleable\"><input class=\"sk-toggleable__control sk-hidden--visually\" id=\"sk-estimator-id-3\" type=\"checkbox\" ><label for=\"sk-estimator-id-3\" class=\"sk-toggleable__label sk-toggleable__label-arrow\">SimpleImputer</label><div class=\"sk-toggleable__content\"><pre>SimpleImputer()</pre></div></div></div><div class=\"sk-item\"><div class=\"sk-estimator sk-toggleable\"><input class=\"sk-toggleable__control sk-hidden--visually\" id=\"sk-estimator-id-4\" type=\"checkbox\" ><label for=\"sk-estimator-id-4\" class=\"sk-toggleable__label sk-toggleable__label-arrow\">MinMaxScaler</label><div class=\"sk-toggleable__content\"><pre>MinMaxScaler()</pre></div></div></div></div></div></div></div></div><div class=\"sk-parallel-item\"><div class=\"sk-item\"><div class=\"sk-label-container\"><div class=\"sk-label sk-toggleable\"><input class=\"sk-toggleable__control sk-hidden--visually\" id=\"sk-estimator-id-5\" type=\"checkbox\" ><label for=\"sk-estimator-id-5\" class=\"sk-toggleable__label sk-toggleable__label-arrow\">pdays</label><div class=\"sk-toggleable__content\"><pre>[&#x27;pdays&#x27;]</pre></div></div></div><div class=\"sk-serial\"><div class=\"sk-item\"><div class=\"sk-serial\"><div class=\"sk-item\"><div class=\"sk-estimator sk-toggleable\"><input class=\"sk-toggleable__control sk-hidden--visually\" id=\"sk-estimator-id-6\" type=\"checkbox\" ><label for=\"sk-estimator-id-6\" class=\"sk-toggleable__label sk-toggleable__label-arrow\">SimpleImputer</label><div class=\"sk-toggleable__content\"><pre>SimpleImputer(fill_value=0, strategy=&#x27;constant&#x27;)</pre></div></div></div><div class=\"sk-item\"><div class=\"sk-estimator sk-toggleable\"><input class=\"sk-toggleable__control sk-hidden--visually\" id=\"sk-estimator-id-7\" type=\"checkbox\" ><label for=\"sk-estimator-id-7\" class=\"sk-toggleable__label sk-toggleable__label-arrow\">MaxAbsScaler</label><div class=\"sk-toggleable__content\"><pre>MaxAbsScaler()</pre></div></div></div></div></div></div></div></div><div class=\"sk-parallel-item\"><div class=\"sk-item\"><div class=\"sk-label-container\"><div class=\"sk-label sk-toggleable\"><input class=\"sk-toggleable__control sk-hidden--visually\" id=\"sk-estimator-id-8\" type=\"checkbox\" ><label for=\"sk-estimator-id-8\" class=\"sk-toggleable__label sk-toggleable__label-arrow\">bin</label><div class=\"sk-toggleable__content\"><pre>[&#x27;default&#x27;, &#x27;housing&#x27;, &#x27;loan&#x27;]</pre></div></div></div><div class=\"sk-serial\"><div class=\"sk-item\"><div class=\"sk-serial\"><div class=\"sk-item\"><div class=\"sk-estimator sk-toggleable\"><input class=\"sk-toggleable__control sk-hidden--visually\" id=\"sk-estimator-id-9\" type=\"checkbox\" ><label for=\"sk-estimator-id-9\" class=\"sk-toggleable__label sk-toggleable__label-arrow\">SimpleImputer</label><div class=\"sk-toggleable__content\"><pre>SimpleImputer(strategy=&#x27;most_frequent&#x27;)</pre></div></div></div><div class=\"sk-item\"><div class=\"sk-estimator sk-toggleable\"><input class=\"sk-toggleable__control sk-hidden--visually\" id=\"sk-estimator-id-10\" type=\"checkbox\" ><label for=\"sk-estimator-id-10\" class=\"sk-toggleable__label sk-toggleable__label-arrow\">OrdinalEncoder</label><div class=\"sk-toggleable__content\"><pre>OrdinalEncoder()</pre></div></div></div></div></div></div></div></div><div class=\"sk-parallel-item\"><div class=\"sk-item\"><div class=\"sk-label-container\"><div class=\"sk-label sk-toggleable\"><input class=\"sk-toggleable__control sk-hidden--visually\" id=\"sk-estimator-id-11\" type=\"checkbox\" ><label for=\"sk-estimator-id-11\" class=\"sk-toggleable__label sk-toggleable__label-arrow\">cat</label><div class=\"sk-toggleable__content\"><pre>[&#x27;job&#x27;, &#x27;marital&#x27;, &#x27;education&#x27;, &#x27;contact&#x27;, &#x27;poutcome&#x27;]</pre></div></div></div><div class=\"sk-serial\"><div class=\"sk-item\"><div class=\"sk-serial\"><div class=\"sk-item\"><div class=\"sk-estimator sk-toggleable\"><input class=\"sk-toggleable__control sk-hidden--visually\" id=\"sk-estimator-id-12\" type=\"checkbox\" ><label for=\"sk-estimator-id-12\" class=\"sk-toggleable__label sk-toggleable__label-arrow\">SimpleImputer</label><div class=\"sk-toggleable__content\"><pre>SimpleImputer(strategy=&#x27;most_frequent&#x27;)</pre></div></div></div><div class=\"sk-item\"><div class=\"sk-estimator sk-toggleable\"><input class=\"sk-toggleable__control sk-hidden--visually\" id=\"sk-estimator-id-13\" type=\"checkbox\" ><label for=\"sk-estimator-id-13\" class=\"sk-toggleable__label sk-toggleable__label-arrow\">OneHotEncoder</label><div class=\"sk-toggleable__content\"><pre>OneHotEncoder(handle_unknown=&#x27;ignore&#x27;, sparse_output=False)</pre></div></div></div></div></div></div></div></div><div class=\"sk-parallel-item\"><div class=\"sk-item\"><div class=\"sk-label-container\"><div class=\"sk-label sk-toggleable\"><input class=\"sk-toggleable__control sk-hidden--visually\" id=\"sk-estimator-id-14\" type=\"checkbox\" ><label for=\"sk-estimator-id-14\" class=\"sk-toggleable__label sk-toggleable__label-arrow\">remainder</label><div class=\"sk-toggleable__content\"><pre></pre></div></div></div><div class=\"sk-serial\"><div class=\"sk-item\"><div class=\"sk-estimator sk-toggleable\"><input class=\"sk-toggleable__control sk-hidden--visually\" id=\"sk-estimator-id-15\" type=\"checkbox\" ><label for=\"sk-estimator-id-15\" class=\"sk-toggleable__label sk-toggleable__label-arrow\">passthrough</label><div class=\"sk-toggleable__content\"><pre>passthrough</pre></div></div></div></div></div></div></div></div></div></div>"
      ],
      "text/plain": [
       "ColumnTransformer(remainder='passthrough',\n",
       "                  transformers=[('num',\n",
       "                                 Pipeline(steps=[('imputer', SimpleImputer()),\n",
       "                                                 ('scaler', MinMaxScaler())]),\n",
       "                                 ['age', 'balance', 'duration', 'campaign',\n",
       "                                  'previous']),\n",
       "                                ('pdays',\n",
       "                                 Pipeline(steps=[('imputer',\n",
       "                                                  SimpleImputer(fill_value=0,\n",
       "                                                                strategy='constant')),\n",
       "                                                 ('scaler', MaxAbsScaler())]),\n",
       "                                 ['pdays']),\n",
       "                                ('bin',\n",
       "                                 Pipeline(steps=[('imputer',\n",
       "                                                  SimpleImputer(strategy='most_frequent')),\n",
       "                                                 ('label_encoder',\n",
       "                                                  OrdinalEncoder())]),\n",
       "                                 ['default', 'housing', 'loan']),\n",
       "                                ('cat',\n",
       "                                 Pipeline(steps=[('imputer',\n",
       "                                                  SimpleImputer(strategy='most_frequent')),\n",
       "                                                 ('onehot',\n",
       "                                                  OneHotEncoder(handle_unknown='ignore',\n",
       "                                                                sparse_output=False))]),\n",
       "                                 ['job', 'marital', 'education', 'contact',\n",
       "                                  'poutcome'])])"
      ]
     },
     "execution_count": 41,
     "metadata": {},
     "output_type": "execute_result"
    }
   ],
   "source": [
    "# Define feature groups\n",
    "numeric_features = ['age', 'balance', 'duration', 'campaign', 'previous']\n",
    "categorical_features = ['job', 'marital', 'education', 'contact', 'poutcome']\n",
    "binary_features = ['default', 'housing', 'loan']\n",
    "pdays_prep=['pdays']\n",
    "target = 'target'\n",
    "\n",
    "# Pipelines for each type of feature\n",
    "numeric_pipeline = Pipeline([\n",
    "    ('imputer', SimpleImputer(strategy='mean')),\n",
    "    ('scaler', MinMaxScaler())\n",
    "])\n",
    "\n",
    "pdays_pipeline=Pipeline([\n",
    "    ('imputer',SimpleImputer(strategy='constant',fill_value=0)),\n",
    "    ('scaler',MaxAbsScaler())\n",
    "])\n",
    "\n",
    "binary_pipeline = Pipeline([\n",
    "    ('imputer', SimpleImputer(strategy='most_frequent')),\n",
    "    ('label_encoder', OrdinalEncoder())\n",
    "])\n",
    "\n",
    "categorical_pipeline = Pipeline([\n",
    "    ('imputer', SimpleImputer(strategy='most_frequent')),\n",
    "    ('onehot', OneHotEncoder(sparse_output=False, handle_unknown='ignore'))\n",
    "])\n",
    "\n",
    "\n",
    "# Combine all preprocessing steps with ColumnTransformer\n",
    "preprocessor = ColumnTransformer([\n",
    "    ('num', numeric_pipeline, numeric_features),\n",
    "    ('pdays',pdays_pipeline,pdays_prep),\n",
    "    ('bin', binary_pipeline, binary_features),\n",
    "    ('cat', categorical_pipeline, categorical_features)\n",
    "],remainder='passthrough')\n",
    "preprocessor"
   ]
  },
  {
   "cell_type": "code",
   "execution_count": 42,
   "id": "1c847eb1",
   "metadata": {
    "execution": {
     "iopub.execute_input": "2024-11-29T17:43:26.285144Z",
     "iopub.status.busy": "2024-11-29T17:43:26.284746Z",
     "iopub.status.idle": "2024-11-29T17:43:26.477861Z",
     "shell.execute_reply": "2024-11-29T17:43:26.476722Z"
    },
    "papermill": {
     "duration": 0.231047,
     "end_time": "2024-11-29T17:43:26.480026",
     "exception": false,
     "start_time": "2024-11-29T17:43:26.248979",
     "status": "completed"
    },
    "tags": []
   },
   "outputs": [
    {
     "data": {
      "text/html": [
       "<div>\n",
       "<style scoped>\n",
       "    .dataframe tbody tr th:only-of-type {\n",
       "        vertical-align: middle;\n",
       "    }\n",
       "\n",
       "    .dataframe tbody tr th {\n",
       "        vertical-align: top;\n",
       "    }\n",
       "\n",
       "    .dataframe thead th {\n",
       "        text-align: right;\n",
       "    }\n",
       "</style>\n",
       "<table border=\"1\" class=\"dataframe\">\n",
       "  <thead>\n",
       "    <tr style=\"text-align: right;\">\n",
       "      <th></th>\n",
       "      <th>num__age</th>\n",
       "      <th>num__balance</th>\n",
       "      <th>num__duration</th>\n",
       "      <th>num__campaign</th>\n",
       "      <th>num__previous</th>\n",
       "      <th>pdays__pdays</th>\n",
       "      <th>bin__default</th>\n",
       "      <th>bin__housing</th>\n",
       "      <th>bin__loan</th>\n",
       "      <th>cat__job_admin.</th>\n",
       "      <th>...</th>\n",
       "      <th>cat__education_tertiary</th>\n",
       "      <th>cat__contact_cellular</th>\n",
       "      <th>cat__contact_telephone</th>\n",
       "      <th>cat__contact_unknown</th>\n",
       "      <th>cat__poutcome_failure</th>\n",
       "      <th>cat__poutcome_other</th>\n",
       "      <th>cat__poutcome_success</th>\n",
       "      <th>cat__poutcome_unknown</th>\n",
       "      <th>remainder__contact_month</th>\n",
       "      <th>remainder__contact_day</th>\n",
       "    </tr>\n",
       "  </thead>\n",
       "  <tbody>\n",
       "    <tr>\n",
       "      <th>0</th>\n",
       "      <td>0.103896</td>\n",
       "      <td>0.078677</td>\n",
       "      <td>0.072590</td>\n",
       "      <td>0.016129</td>\n",
       "      <td>0.003636</td>\n",
       "      <td>0.380023</td>\n",
       "      <td>0.0</td>\n",
       "      <td>1.0</td>\n",
       "      <td>0.0</td>\n",
       "      <td>0.0</td>\n",
       "      <td>...</td>\n",
       "      <td>0.0</td>\n",
       "      <td>1.0</td>\n",
       "      <td>0.0</td>\n",
       "      <td>0.0</td>\n",
       "      <td>0.0</td>\n",
       "      <td>1.0</td>\n",
       "      <td>0.0</td>\n",
       "      <td>0.0</td>\n",
       "      <td>4.0</td>\n",
       "      <td>17.0</td>\n",
       "    </tr>\n",
       "    <tr>\n",
       "      <th>1</th>\n",
       "      <td>0.441558</td>\n",
       "      <td>0.077824</td>\n",
       "      <td>0.032534</td>\n",
       "      <td>0.000000</td>\n",
       "      <td>0.000000</td>\n",
       "      <td>0.000000</td>\n",
       "      <td>0.0</td>\n",
       "      <td>1.0</td>\n",
       "      <td>0.0</td>\n",
       "      <td>0.0</td>\n",
       "      <td>...</td>\n",
       "      <td>0.0</td>\n",
       "      <td>0.0</td>\n",
       "      <td>1.0</td>\n",
       "      <td>0.0</td>\n",
       "      <td>0.0</td>\n",
       "      <td>0.0</td>\n",
       "      <td>0.0</td>\n",
       "      <td>1.0</td>\n",
       "      <td>10.0</td>\n",
       "      <td>11.0</td>\n",
       "    </tr>\n",
       "    <tr>\n",
       "      <th>2</th>\n",
       "      <td>0.337662</td>\n",
       "      <td>0.085487</td>\n",
       "      <td>0.066287</td>\n",
       "      <td>0.000000</td>\n",
       "      <td>0.000000</td>\n",
       "      <td>0.000000</td>\n",
       "      <td>0.0</td>\n",
       "      <td>0.0</td>\n",
       "      <td>0.0</td>\n",
       "      <td>0.0</td>\n",
       "      <td>...</td>\n",
       "      <td>0.0</td>\n",
       "      <td>1.0</td>\n",
       "      <td>0.0</td>\n",
       "      <td>0.0</td>\n",
       "      <td>0.0</td>\n",
       "      <td>0.0</td>\n",
       "      <td>0.0</td>\n",
       "      <td>1.0</td>\n",
       "      <td>11.0</td>\n",
       "      <td>20.0</td>\n",
       "    </tr>\n",
       "    <tr>\n",
       "      <th>3</th>\n",
       "      <td>0.194805</td>\n",
       "      <td>0.076380</td>\n",
       "      <td>0.021147</td>\n",
       "      <td>0.032258</td>\n",
       "      <td>0.000000</td>\n",
       "      <td>0.000000</td>\n",
       "      <td>0.0</td>\n",
       "      <td>1.0</td>\n",
       "      <td>0.0</td>\n",
       "      <td>1.0</td>\n",
       "      <td>...</td>\n",
       "      <td>0.0</td>\n",
       "      <td>0.0</td>\n",
       "      <td>1.0</td>\n",
       "      <td>0.0</td>\n",
       "      <td>0.0</td>\n",
       "      <td>0.0</td>\n",
       "      <td>0.0</td>\n",
       "      <td>1.0</td>\n",
       "      <td>9.0</td>\n",
       "      <td>1.0</td>\n",
       "    </tr>\n",
       "    <tr>\n",
       "      <th>4</th>\n",
       "      <td>0.168831</td>\n",
       "      <td>0.074047</td>\n",
       "      <td>0.090484</td>\n",
       "      <td>0.016129</td>\n",
       "      <td>0.000000</td>\n",
       "      <td>0.000000</td>\n",
       "      <td>0.0</td>\n",
       "      <td>0.0</td>\n",
       "      <td>0.0</td>\n",
       "      <td>0.0</td>\n",
       "      <td>...</td>\n",
       "      <td>1.0</td>\n",
       "      <td>1.0</td>\n",
       "      <td>0.0</td>\n",
       "      <td>0.0</td>\n",
       "      <td>0.0</td>\n",
       "      <td>0.0</td>\n",
       "      <td>0.0</td>\n",
       "      <td>1.0</td>\n",
       "      <td>1.0</td>\n",
       "      <td>29.0</td>\n",
       "    </tr>\n",
       "  </tbody>\n",
       "</table>\n",
       "<p>5 rows × 35 columns</p>\n",
       "</div>"
      ],
      "text/plain": [
       "   num__age  num__balance  num__duration  num__campaign  num__previous  \\\n",
       "0  0.103896      0.078677       0.072590       0.016129       0.003636   \n",
       "1  0.441558      0.077824       0.032534       0.000000       0.000000   \n",
       "2  0.337662      0.085487       0.066287       0.000000       0.000000   \n",
       "3  0.194805      0.076380       0.021147       0.032258       0.000000   \n",
       "4  0.168831      0.074047       0.090484       0.016129       0.000000   \n",
       "\n",
       "   pdays__pdays  bin__default  bin__housing  bin__loan  cat__job_admin.  ...  \\\n",
       "0      0.380023           0.0           1.0        0.0              0.0  ...   \n",
       "1      0.000000           0.0           1.0        0.0              0.0  ...   \n",
       "2      0.000000           0.0           0.0        0.0              0.0  ...   \n",
       "3      0.000000           0.0           1.0        0.0              1.0  ...   \n",
       "4      0.000000           0.0           0.0        0.0              0.0  ...   \n",
       "\n",
       "   cat__education_tertiary  cat__contact_cellular  cat__contact_telephone  \\\n",
       "0                      0.0                    1.0                     0.0   \n",
       "1                      0.0                    0.0                     1.0   \n",
       "2                      0.0                    1.0                     0.0   \n",
       "3                      0.0                    0.0                     1.0   \n",
       "4                      1.0                    1.0                     0.0   \n",
       "\n",
       "   cat__contact_unknown  cat__poutcome_failure  cat__poutcome_other  \\\n",
       "0                   0.0                    0.0                  1.0   \n",
       "1                   0.0                    0.0                  0.0   \n",
       "2                   0.0                    0.0                  0.0   \n",
       "3                   0.0                    0.0                  0.0   \n",
       "4                   0.0                    0.0                  0.0   \n",
       "\n",
       "   cat__poutcome_success  cat__poutcome_unknown  remainder__contact_month  \\\n",
       "0                    0.0                    0.0                       4.0   \n",
       "1                    0.0                    1.0                      10.0   \n",
       "2                    0.0                    1.0                      11.0   \n",
       "3                    0.0                    1.0                       9.0   \n",
       "4                    0.0                    1.0                       1.0   \n",
       "\n",
       "   remainder__contact_day  \n",
       "0                    17.0  \n",
       "1                    11.0  \n",
       "2                    20.0  \n",
       "3                     1.0  \n",
       "4                    29.0  \n",
       "\n",
       "[5 rows x 35 columns]"
      ]
     },
     "execution_count": 42,
     "metadata": {},
     "output_type": "execute_result"
    }
   ],
   "source": [
    "X_preprocessed = preprocessor.fit_transform(X)\n",
    "X_preprocessed = pd.DataFrame(X_preprocessed,columns=preprocessor.get_feature_names_out())\n",
    "X_preprocessed.head()"
   ]
  },
  {
   "cell_type": "code",
   "execution_count": 43,
   "id": "cef52271",
   "metadata": {
    "execution": {
     "iopub.execute_input": "2024-11-29T17:43:26.548818Z",
     "iopub.status.busy": "2024-11-29T17:43:26.548410Z",
     "iopub.status.idle": "2024-11-29T17:43:26.556522Z",
     "shell.execute_reply": "2024-11-29T17:43:26.555428Z"
    },
    "papermill": {
     "duration": 0.045619,
     "end_time": "2024-11-29T17:43:26.558567",
     "exception": false,
     "start_time": "2024-11-29T17:43:26.512948",
     "status": "completed"
    },
    "tags": []
   },
   "outputs": [
    {
     "data": {
      "text/plain": [
       "Index(['num__age', 'num__balance', 'num__duration', 'num__campaign',\n",
       "       'num__previous', 'pdays__pdays', 'bin__default', 'bin__housing',\n",
       "       'bin__loan', 'cat__job_admin.', 'cat__job_blue-collar',\n",
       "       'cat__job_entrepreneur', 'cat__job_housemaid', 'cat__job_management',\n",
       "       'cat__job_retired', 'cat__job_self-employed', 'cat__job_services',\n",
       "       'cat__job_student', 'cat__job_technician', 'cat__job_unemployed',\n",
       "       'cat__marital_divorced', 'cat__marital_married', 'cat__marital_single',\n",
       "       'cat__education_primary', 'cat__education_secondary',\n",
       "       'cat__education_tertiary', 'cat__contact_cellular',\n",
       "       'cat__contact_telephone', 'cat__contact_unknown',\n",
       "       'cat__poutcome_failure', 'cat__poutcome_other', 'cat__poutcome_success',\n",
       "       'cat__poutcome_unknown', 'remainder__contact_month',\n",
       "       'remainder__contact_day'],\n",
       "      dtype='object')"
      ]
     },
     "execution_count": 43,
     "metadata": {},
     "output_type": "execute_result"
    }
   ],
   "source": [
    "pd.DataFrame(X_preprocessed,columns=preprocessor.get_feature_names_out()).columns"
   ]
  },
  {
   "cell_type": "markdown",
   "id": "b0a794a3",
   "metadata": {
    "papermill": {
     "duration": 0.033799,
     "end_time": "2024-11-29T17:43:26.626547",
     "exception": false,
     "start_time": "2024-11-29T17:43:26.592748",
     "status": "completed"
    },
    "tags": []
   },
   "source": [
    "### Encode target variable"
   ]
  },
  {
   "cell_type": "code",
   "execution_count": 44,
   "id": "d49dbf13",
   "metadata": {
    "execution": {
     "iopub.execute_input": "2024-11-29T17:43:26.695110Z",
     "iopub.status.busy": "2024-11-29T17:43:26.694729Z",
     "iopub.status.idle": "2024-11-29T17:43:26.712735Z",
     "shell.execute_reply": "2024-11-29T17:43:26.711682Z"
    },
    "papermill": {
     "duration": 0.054504,
     "end_time": "2024-11-29T17:43:26.714854",
     "exception": false,
     "start_time": "2024-11-29T17:43:26.660350",
     "status": "completed"
    },
    "tags": []
   },
   "outputs": [
    {
     "data": {
      "text/plain": [
       "target\n",
       "0         33384\n",
       "1          5827\n",
       "Name: count, dtype: int64"
      ]
     },
     "execution_count": 44,
     "metadata": {},
     "output_type": "execute_result"
    }
   ],
   "source": [
    "target_encoder = LabelEncoder()\n",
    "y = target_encoder.fit_transform(y)\n",
    "pd.DataFrame(y, columns=['target']).value_counts()"
   ]
  },
  {
   "cell_type": "code",
   "execution_count": 45,
   "id": "f78ed984",
   "metadata": {
    "execution": {
     "iopub.execute_input": "2024-11-29T17:43:26.785364Z",
     "iopub.status.busy": "2024-11-29T17:43:26.784982Z",
     "iopub.status.idle": "2024-11-29T17:43:26.799305Z",
     "shell.execute_reply": "2024-11-29T17:43:26.798162Z"
    },
    "papermill": {
     "duration": 0.053586,
     "end_time": "2024-11-29T17:43:26.801912",
     "exception": false,
     "start_time": "2024-11-29T17:43:26.748326",
     "status": "completed"
    },
    "tags": []
   },
   "outputs": [
    {
     "name": "stdout",
     "output_type": "stream",
     "text": [
      "<class 'pandas.core.frame.DataFrame'>\n",
      "RangeIndex: 39211 entries, 0 to 39210\n",
      "Data columns (total 35 columns):\n",
      " #   Column                    Non-Null Count  Dtype  \n",
      "---  ------                    --------------  -----  \n",
      " 0   num__age                  39211 non-null  float64\n",
      " 1   num__balance              39211 non-null  float64\n",
      " 2   num__duration             39211 non-null  float64\n",
      " 3   num__campaign             39211 non-null  float64\n",
      " 4   num__previous             39211 non-null  float64\n",
      " 5   pdays__pdays              39211 non-null  float64\n",
      " 6   bin__default              39211 non-null  float64\n",
      " 7   bin__housing              39211 non-null  float64\n",
      " 8   bin__loan                 39211 non-null  float64\n",
      " 9   cat__job_admin.           39211 non-null  float64\n",
      " 10  cat__job_blue-collar      39211 non-null  float64\n",
      " 11  cat__job_entrepreneur     39211 non-null  float64\n",
      " 12  cat__job_housemaid        39211 non-null  float64\n",
      " 13  cat__job_management       39211 non-null  float64\n",
      " 14  cat__job_retired          39211 non-null  float64\n",
      " 15  cat__job_self-employed    39211 non-null  float64\n",
      " 16  cat__job_services         39211 non-null  float64\n",
      " 17  cat__job_student          39211 non-null  float64\n",
      " 18  cat__job_technician       39211 non-null  float64\n",
      " 19  cat__job_unemployed       39211 non-null  float64\n",
      " 20  cat__marital_divorced     39211 non-null  float64\n",
      " 21  cat__marital_married      39211 non-null  float64\n",
      " 22  cat__marital_single       39211 non-null  float64\n",
      " 23  cat__education_primary    39211 non-null  float64\n",
      " 24  cat__education_secondary  39211 non-null  float64\n",
      " 25  cat__education_tertiary   39211 non-null  float64\n",
      " 26  cat__contact_cellular     39211 non-null  float64\n",
      " 27  cat__contact_telephone    39211 non-null  float64\n",
      " 28  cat__contact_unknown      39211 non-null  float64\n",
      " 29  cat__poutcome_failure     39211 non-null  float64\n",
      " 30  cat__poutcome_other       39211 non-null  float64\n",
      " 31  cat__poutcome_success     39211 non-null  float64\n",
      " 32  cat__poutcome_unknown     39211 non-null  float64\n",
      " 33  remainder__contact_month  39211 non-null  float64\n",
      " 34  remainder__contact_day    39211 non-null  float64\n",
      "dtypes: float64(35)\n",
      "memory usage: 10.5 MB\n"
     ]
    }
   ],
   "source": [
    "X_preprocessed.info()"
   ]
  },
  {
   "cell_type": "markdown",
   "id": "1d18e819",
   "metadata": {
    "papermill": {
     "duration": 0.034612,
     "end_time": "2024-11-29T17:43:26.870609",
     "exception": false,
     "start_time": "2024-11-29T17:43:26.835997",
     "status": "completed"
    },
    "tags": []
   },
   "source": [
    "### Handle data imbalance\r\n",
    "From the EDA section, we know that the target variable is highly imbalanced. So let us use SMOTE, which is an over sampling method to handle the imbalance in the dataset."
   ]
  },
  {
   "cell_type": "code",
   "execution_count": 46,
   "id": "5461bdff",
   "metadata": {
    "execution": {
     "iopub.execute_input": "2024-11-29T17:43:26.941522Z",
     "iopub.status.busy": "2024-11-29T17:43:26.940675Z",
     "iopub.status.idle": "2024-11-29T17:43:27.199172Z",
     "shell.execute_reply": "2024-11-29T17:43:27.197830Z"
    },
    "papermill": {
     "duration": 0.296458,
     "end_time": "2024-11-29T17:43:27.201933",
     "exception": false,
     "start_time": "2024-11-29T17:43:26.905475",
     "status": "completed"
    },
    "tags": []
   },
   "outputs": [
    {
     "name": "stdout",
     "output_type": "stream",
     "text": [
      "(66768, 35) (66768,)\n"
     ]
    }
   ],
   "source": [
    "from imblearn.over_sampling import SMOTE\n",
    "from sklearn.model_selection import train_test_split\n",
    "\n",
    "oversample = SMOTE()\n",
    "X_resampled, y_resampled = oversample.fit_resample(X_preprocessed, y)\n",
    "print(X_resampled.shape, y_resampled.shape)"
   ]
  },
  {
   "cell_type": "markdown",
   "id": "1c4ecca4",
   "metadata": {
    "papermill": {
     "duration": 0.039963,
     "end_time": "2024-11-29T17:43:27.279803",
     "exception": false,
     "start_time": "2024-11-29T17:43:27.239840",
     "status": "completed"
    },
    "tags": []
   },
   "source": [
    "### Splitting data\r\n",
    "We split the dataset into training and testing setThis will hep me to carry out preprocessing steps to train my model.."
   ]
  },
  {
   "cell_type": "code",
   "execution_count": 47,
   "id": "9a9d0242",
   "metadata": {
    "execution": {
     "iopub.execute_input": "2024-11-29T17:43:27.355391Z",
     "iopub.status.busy": "2024-11-29T17:43:27.353860Z",
     "iopub.status.idle": "2024-11-29T17:43:27.424782Z",
     "shell.execute_reply": "2024-11-29T17:43:27.423380Z"
    },
    "papermill": {
     "duration": 0.111589,
     "end_time": "2024-11-29T17:43:27.427476",
     "exception": false,
     "start_time": "2024-11-29T17:43:27.315887",
     "status": "completed"
    },
    "tags": []
   },
   "outputs": [
    {
     "name": "stdout",
     "output_type": "stream",
     "text": [
      "X train shape: (53414, 35)\n",
      "X test shape: (13354, 35)\n",
      "y train shape: (53414,)\n",
      "y test shape: (13354,)\n"
     ]
    }
   ],
   "source": [
    "X_train,X_test,y_train,y_test=train_test_split(X_resampled, y_resampled,test_size=.20,random_state=42)\n",
    "print(f\"X train shape: {X_train.shape}\")\n",
    "print(f\"X test shape: {X_test.shape}\")\n",
    "print(f\"y train shape: {y_train.shape}\")\n",
    "print(f\"y test shape: {y_test.shape}\")"
   ]
  },
  {
   "cell_type": "markdown",
   "id": "739085ff",
   "metadata": {
    "papermill": {
     "duration": 0.035265,
     "end_time": "2024-11-29T17:43:27.499045",
     "exception": false,
     "start_time": "2024-11-29T17:43:27.463780",
     "status": "completed"
    },
    "tags": []
   },
   "source": [
    "# Model Training"
   ]
  },
  {
   "cell_type": "markdown",
   "id": "5c7c8f97",
   "metadata": {
    "papermill": {
     "duration": 0.035216,
     "end_time": "2024-11-29T17:43:27.569709",
     "exception": false,
     "start_time": "2024-11-29T17:43:27.534493",
     "status": "completed"
    },
    "tags": []
   },
   "source": [
    "## Base Model - Logistic Regression"
   ]
  },
  {
   "cell_type": "code",
   "execution_count": 48,
   "id": "02ffef65",
   "metadata": {
    "execution": {
     "iopub.execute_input": "2024-11-29T17:43:27.647347Z",
     "iopub.status.busy": "2024-11-29T17:43:27.646859Z",
     "iopub.status.idle": "2024-11-29T17:43:28.607207Z",
     "shell.execute_reply": "2024-11-29T17:43:28.604923Z"
    },
    "papermill": {
     "duration": 1.004121,
     "end_time": "2024-11-29T17:43:28.610431",
     "exception": false,
     "start_time": "2024-11-29T17:43:27.606310",
     "status": "completed"
    },
    "tags": []
   },
   "outputs": [
    {
     "name": "stdout",
     "output_type": "stream",
     "text": [
      "Logistic Regression F1-score: 0.79\n"
     ]
    }
   ],
   "source": [
    "from sklearn.linear_model import LogisticRegression\n",
    "from sklearn.metrics import f1_score\n",
    "\n",
    "logreg = LogisticRegression(random_state=42)\n",
    "\n",
    "logreg.fit(X_train, y_train)\n",
    "\n",
    "logreg_y_pred = logreg.predict(X_test)\n",
    "\n",
    "# Calculate F1 score\n",
    "logreg_f1 = f1_score(y_test, logreg_y_pred, average='macro')\n",
    "print(f\"Logistic Regression F1-score: {logreg_f1:.2f}\")"
   ]
  },
  {
   "cell_type": "markdown",
   "id": "b01bd71f",
   "metadata": {
    "papermill": {
     "duration": 0.058343,
     "end_time": "2024-11-29T17:43:28.731696",
     "exception": false,
     "start_time": "2024-11-29T17:43:28.673353",
     "status": "completed"
    },
    "tags": []
   },
   "source": [
    "## SGDClassifier "
   ]
  },
  {
   "cell_type": "code",
   "execution_count": 49,
   "id": "b90e34fa",
   "metadata": {
    "execution": {
     "iopub.execute_input": "2024-11-29T17:43:28.802885Z",
     "iopub.status.busy": "2024-11-29T17:43:28.802485Z",
     "iopub.status.idle": "2024-11-29T17:43:30.487484Z",
     "shell.execute_reply": "2024-11-29T17:43:30.484903Z"
    },
    "papermill": {
     "duration": 1.724918,
     "end_time": "2024-11-29T17:43:30.490545",
     "exception": false,
     "start_time": "2024-11-29T17:43:28.765627",
     "status": "completed"
    },
    "tags": []
   },
   "outputs": [
    {
     "name": "stdout",
     "output_type": "stream",
     "text": [
      "SGD Classifier F1-score: 0.72\n"
     ]
    }
   ],
   "source": [
    "from sklearn.linear_model import SGDClassifier\n",
    "\n",
    "sgd = SGDClassifier(random_state=42, max_iter=1000, tol=1e-3)\n",
    "\n",
    "sgd.fit(X_train, y_train)\n",
    "\n",
    "sgd_y_pred = sgd.predict(X_test)\n",
    "\n",
    "# Calculate F1 score\n",
    "sgd_f1 = f1_score(y_test, sgd_y_pred, average='macro')\n",
    "print(f\"SGD Classifier F1-score: {sgd_f1:.2f}\")"
   ]
  },
  {
   "cell_type": "markdown",
   "id": "030f4664",
   "metadata": {
    "papermill": {
     "duration": 0.052237,
     "end_time": "2024-11-29T17:43:30.607269",
     "exception": false,
     "start_time": "2024-11-29T17:43:30.555032",
     "status": "completed"
    },
    "tags": []
   },
   "source": [
    "## K Nearest Neighbors"
   ]
  },
  {
   "cell_type": "code",
   "execution_count": 50,
   "id": "028a4381",
   "metadata": {
    "execution": {
     "iopub.execute_input": "2024-11-29T17:43:30.677148Z",
     "iopub.status.busy": "2024-11-29T17:43:30.676758Z",
     "iopub.status.idle": "2024-11-29T17:43:33.146457Z",
     "shell.execute_reply": "2024-11-29T17:43:33.145297Z"
    },
    "papermill": {
     "duration": 2.507291,
     "end_time": "2024-11-29T17:43:33.148787",
     "exception": false,
     "start_time": "2024-11-29T17:43:30.641496",
     "status": "completed"
    },
    "tags": []
   },
   "outputs": [
    {
     "name": "stdout",
     "output_type": "stream",
     "text": [
      "K-Nearest Neighbors F1-score: 0.8763\n"
     ]
    }
   ],
   "source": [
    "from sklearn.neighbors import KNeighborsClassifier\n",
    "\n",
    "knn_model = KNeighborsClassifier(n_neighbors=3)  \n",
    "\n",
    "#fitting the train set\n",
    "knn_model.fit(X_train, y_train)\n",
    "\n",
    "# Predict and evaluate\n",
    "knn_y_pred = knn_model.predict(X_test)\n",
    "knn_f1 = f1_score(y_test, knn_y_pred, average='macro')\n",
    "print(f\"K-Nearest Neighbors F1-score: {knn_f1:.4f}\")"
   ]
  },
  {
   "cell_type": "code",
   "execution_count": 51,
   "id": "1b5e386f",
   "metadata": {
    "execution": {
     "iopub.execute_input": "2024-11-29T17:43:33.218252Z",
     "iopub.status.busy": "2024-11-29T17:43:33.217825Z",
     "iopub.status.idle": "2024-11-29T17:43:45.238919Z",
     "shell.execute_reply": "2024-11-29T17:43:45.237391Z"
    },
    "papermill": {
     "duration": 12.058734,
     "end_time": "2024-11-29T17:43:45.241602",
     "exception": false,
     "start_time": "2024-11-29T17:43:33.182868",
     "status": "completed"
    },
    "tags": []
   },
   "outputs": [
    {
     "data": {
      "text/plain": [
       "(0.9369079267607743, 0.8772652388797364)"
      ]
     },
     "execution_count": 51,
     "metadata": {},
     "output_type": "execute_result"
    }
   ],
   "source": [
    "## checking the score on both train and test dataset\n",
    "knn_model.score(X_train, y_train), knn_model.score(X_test, y_test)"
   ]
  },
  {
   "cell_type": "markdown",
   "id": "bb5faf50",
   "metadata": {
    "papermill": {
     "duration": 0.033617,
     "end_time": "2024-11-29T17:43:45.309127",
     "exception": false,
     "start_time": "2024-11-29T17:43:45.275510",
     "status": "completed"
    },
    "tags": []
   },
   "source": [
    "## RandomForestClassifier"
   ]
  },
  {
   "cell_type": "code",
   "execution_count": 52,
   "id": "882faa11",
   "metadata": {
    "execution": {
     "iopub.execute_input": "2024-11-29T17:43:45.379251Z",
     "iopub.status.busy": "2024-11-29T17:43:45.378859Z",
     "iopub.status.idle": "2024-11-29T17:43:55.553682Z",
     "shell.execute_reply": "2024-11-29T17:43:55.552488Z"
    },
    "papermill": {
     "duration": 10.213179,
     "end_time": "2024-11-29T17:43:55.556244",
     "exception": false,
     "start_time": "2024-11-29T17:43:45.343065",
     "status": "completed"
    },
    "tags": []
   },
   "outputs": [
    {
     "name": "stdout",
     "output_type": "stream",
     "text": [
      "Random Forest Accuracy: 0.93\n",
      "Random Forest F1-score: 0.93\n"
     ]
    }
   ],
   "source": [
    "from sklearn.ensemble import RandomForestClassifier\n",
    "\n",
    "rf_clf = RandomForestClassifier()\n",
    "rf_clf.fit(X_train, y_train)\n",
    "\n",
    "rf_y_pred = rf_clf.predict(X_test)\n",
    "rf_accuracy = accuracy_score(y_test, rf_y_pred)\n",
    "rf_f1 = f1_score(y_test, rf_y_pred, average='macro')\n",
    "\n",
    "print(f\"Random Forest Accuracy: {rf_accuracy:.2f}\")\n",
    "print(f\"Random Forest F1-score: {rf_f1:.2f}\")"
   ]
  },
  {
   "cell_type": "code",
   "execution_count": 53,
   "id": "25fa2577",
   "metadata": {
    "execution": {
     "iopub.execute_input": "2024-11-29T17:43:55.636828Z",
     "iopub.status.busy": "2024-11-29T17:43:55.636287Z",
     "iopub.status.idle": "2024-11-29T17:43:57.328301Z",
     "shell.execute_reply": "2024-11-29T17:43:57.326836Z"
    },
    "papermill": {
     "duration": 1.73465,
     "end_time": "2024-11-29T17:43:57.330703",
     "exception": false,
     "start_time": "2024-11-29T17:43:55.596053",
     "status": "completed"
    },
    "tags": []
   },
   "outputs": [
    {
     "data": {
      "text/plain": [
       "(1.0, 0.9275123558484349)"
      ]
     },
     "execution_count": 53,
     "metadata": {},
     "output_type": "execute_result"
    }
   ],
   "source": [
    "## checking the score on both train and test dataset\n",
    "rf_clf.score(X_train, y_train), rf_clf.score(X_test, y_test)"
   ]
  },
  {
   "cell_type": "markdown",
   "id": "3f7fffc6",
   "metadata": {
    "papermill": {
     "duration": 0.036373,
     "end_time": "2024-11-29T17:43:57.401323",
     "exception": false,
     "start_time": "2024-11-29T17:43:57.364950",
     "status": "completed"
    },
    "tags": []
   },
   "source": [
    "So we can see 1.0 score on training data and 0.93 score on test data, clearly this model is overfitting the data. To avoid overfitting I need to do Hyper Parameter Tuning on this."
   ]
  },
  {
   "cell_type": "markdown",
   "id": "fa070b74",
   "metadata": {
    "papermill": {
     "duration": 0.033493,
     "end_time": "2024-11-29T17:43:57.470221",
     "exception": false,
     "start_time": "2024-11-29T17:43:57.436728",
     "status": "completed"
    },
    "tags": []
   },
   "source": [
    "### Hyperparameter tuning with RandomForestClassifier"
   ]
  },
  {
   "cell_type": "code",
   "execution_count": 54,
   "id": "6a4f19fa",
   "metadata": {
    "execution": {
     "iopub.execute_input": "2024-11-29T17:43:57.539623Z",
     "iopub.status.busy": "2024-11-29T17:43:57.539214Z",
     "iopub.status.idle": "2024-11-29T17:43:57.547222Z",
     "shell.execute_reply": "2024-11-29T17:43:57.546160Z"
    },
    "papermill": {
     "duration": 0.045195,
     "end_time": "2024-11-29T17:43:57.549298",
     "exception": false,
     "start_time": "2024-11-29T17:43:57.504103",
     "status": "completed"
    },
    "tags": []
   },
   "outputs": [
    {
     "data": {
      "text/plain": [
       "'The score from Hyperparameter tuning od RandomForestClassifier is 0.92 only which is similar to the previous score.'"
      ]
     },
     "execution_count": 54,
     "metadata": {},
     "output_type": "execute_result"
    }
   ],
   "source": [
    "# from sklearn.model_selection import GridSearchCV\n",
    "# from sklearn.metrics import classification_report\n",
    "\n",
    "# ## hyperparameter tuning using GridSearchCV of RandomForestClassifier\n",
    "# param_grid = {\n",
    "#     'n_estimators': [100, 200, 300],        \n",
    "#     'max_depth': [10, 20, None],          \n",
    "#     'min_samples_split': [2, 5, 10],      \n",
    "#     'min_samples_leaf': [1, 2, 4]  \n",
    "# }\n",
    "# grid_search = GridSearchCV(\n",
    "#     estimator=rf_clf,\n",
    "#     param_grid=param_grid,\n",
    "#     scoring='f1_macro',  # Use F1-macro score as the evaluation metric\n",
    "#     cv=3,  # 3-fold cross-validation\n",
    "# )\n",
    "\n",
    "# grid_search.fit(X_train, y_train)\n",
    "\n",
    "# print(\"Best Parameters:\", grid_search.best_params_)\n",
    "# print(\"Best F1 Macro Score:\", grid_search.best_score_)\n",
    "'''The score from Hyperparameter tuning od RandomForestClassifier is 0.92 only which is similar to the previous score.'''\n"
   ]
  },
  {
   "cell_type": "code",
   "execution_count": 55,
   "id": "a3f9e888",
   "metadata": {
    "execution": {
     "iopub.execute_input": "2024-11-29T17:43:57.620212Z",
     "iopub.status.busy": "2024-11-29T17:43:57.619844Z",
     "iopub.status.idle": "2024-11-29T17:43:57.624191Z",
     "shell.execute_reply": "2024-11-29T17:43:57.623198Z"
    },
    "papermill": {
     "duration": 0.042535,
     "end_time": "2024-11-29T17:43:57.626344",
     "exception": false,
     "start_time": "2024-11-29T17:43:57.583809",
     "status": "completed"
    },
    "tags": []
   },
   "outputs": [],
   "source": [
    "# best_rf_model = grid_search.best_estimator_\n",
    "# y_pred = best_rf_model.predict(X_test)\n",
    "\n",
    "# print(classification_report(y_test, y_pred))"
   ]
  },
  {
   "cell_type": "markdown",
   "id": "6b6920c1",
   "metadata": {
    "papermill": {
     "duration": 0.034204,
     "end_time": "2024-11-29T17:43:57.696048",
     "exception": false,
     "start_time": "2024-11-29T17:43:57.661844",
     "status": "completed"
    },
    "tags": []
   },
   "source": [
    "## XGBClassifier"
   ]
  },
  {
   "cell_type": "code",
   "execution_count": 56,
   "id": "2f79ed4a",
   "metadata": {
    "execution": {
     "iopub.execute_input": "2024-11-29T17:43:57.766808Z",
     "iopub.status.busy": "2024-11-29T17:43:57.766417Z",
     "iopub.status.idle": "2024-11-29T17:43:59.529811Z",
     "shell.execute_reply": "2024-11-29T17:43:59.528316Z"
    },
    "papermill": {
     "duration": 1.801465,
     "end_time": "2024-11-29T17:43:59.532017",
     "exception": false,
     "start_time": "2024-11-29T17:43:57.730552",
     "status": "completed"
    },
    "tags": []
   },
   "outputs": [
    {
     "name": "stdout",
     "output_type": "stream",
     "text": [
      "XGBoost Accuracy: 0.92\n",
      "XGBoost F1-score: 0.92\n"
     ]
    }
   ],
   "source": [
    "from xgboost import XGBClassifier\n",
    "\n",
    "# Train the XGBoost model\n",
    "xgb_clf = XGBClassifier()\n",
    "xgb_clf.fit(X_train, y_train)\n",
    "\n",
    "xgb_y_pred = xgb_clf.predict(X_test)\n",
    "xgb_accuracy = accuracy_score(y_test, xgb_y_pred)\n",
    "xgb_f1 = f1_score(y_test, xgb_y_pred, average='macro')\n",
    "\n",
    "print(f\"XGBoost Accuracy: {xgb_accuracy:.2f}\")\n",
    "print(f\"XGBoost F1-score: {xgb_f1:.2f}\")"
   ]
  },
  {
   "cell_type": "code",
   "execution_count": 57,
   "id": "936d80a0",
   "metadata": {
    "execution": {
     "iopub.execute_input": "2024-11-29T17:43:59.606240Z",
     "iopub.status.busy": "2024-11-29T17:43:59.605618Z",
     "iopub.status.idle": "2024-11-29T17:43:59.714419Z",
     "shell.execute_reply": "2024-11-29T17:43:59.713353Z"
    },
    "papermill": {
     "duration": 0.149967,
     "end_time": "2024-11-29T17:43:59.716866",
     "exception": false,
     "start_time": "2024-11-29T17:43:59.566899",
     "status": "completed"
    },
    "tags": []
   },
   "outputs": [
    {
     "data": {
      "text/plain": [
       "(0.9647096266896319, 0.9236183914931856)"
      ]
     },
     "execution_count": 57,
     "metadata": {},
     "output_type": "execute_result"
    }
   ],
   "source": [
    "xgb_clf.score(X_train, y_train), xgb_clf.score(X_test, y_test)"
   ]
  },
  {
   "cell_type": "markdown",
   "id": "ab53d7f3",
   "metadata": {
    "papermill": {
     "duration": 0.037581,
     "end_time": "2024-11-29T17:43:59.791999",
     "exception": false,
     "start_time": "2024-11-29T17:43:59.754418",
     "status": "completed"
    },
    "tags": []
   },
   "source": [
    "We can see 0.96 score on training data and 0.92 score on test data, clearly this model is overfitting the data. To avoid overfitting I need to do Hyper Parameter Tuning on this."
   ]
  },
  {
   "cell_type": "markdown",
   "id": "31e38b03",
   "metadata": {
    "papermill": {
     "duration": 0.036591,
     "end_time": "2024-11-29T17:43:59.866775",
     "exception": false,
     "start_time": "2024-11-29T17:43:59.830184",
     "status": "completed"
    },
    "tags": []
   },
   "source": [
    "#### HyperParameter Tuning using GridSearchCV"
   ]
  },
  {
   "cell_type": "code",
   "execution_count": 58,
   "id": "69aa2899",
   "metadata": {
    "execution": {
     "iopub.execute_input": "2024-11-29T17:43:59.942691Z",
     "iopub.status.busy": "2024-11-29T17:43:59.942206Z",
     "iopub.status.idle": "2024-11-29T17:43:59.950323Z",
     "shell.execute_reply": "2024-11-29T17:43:59.949240Z"
    },
    "papermill": {
     "duration": 0.048772,
     "end_time": "2024-11-29T17:43:59.952336",
     "exception": false,
     "start_time": "2024-11-29T17:43:59.903564",
     "status": "completed"
    },
    "tags": []
   },
   "outputs": [
    {
     "data": {
      "text/plain": [
       "'XGBoost - Tuned Model\\n   Accuracy: 0.93\\n   F1 Score: 0.93'"
      ]
     },
     "execution_count": 58,
     "metadata": {},
     "output_type": "execute_result"
    }
   ],
   "source": [
    "# from xgboost import XGBClassifier\n",
    "# from sklearn.model_selection import GridSearchCV\n",
    "# from sklearn.metrics import accuracy_score, f1_score, confusion_matrix, ConfusionMatrixDisplay\n",
    "\n",
    "\n",
    "# xgb_params = {\n",
    "#     'n_estimators': [50, 100, 200],\n",
    "#     'max_depth': [3, 6, 10],\n",
    "#     'learning_rate': [0.01, 0.1, 0.2]\n",
    "# }\n",
    "# xgb_grid = GridSearchCV(XGBClassifier(), \n",
    "#                         xgb_params, \n",
    "#                         scoring='f1_macro',\n",
    "#                         cv=5)\n",
    "# xgb_grid.fit(X_train, y_train)\n",
    "\n",
    "# # Retrieve the best model from grid search\n",
    "# best_xgb = xgb_grid.best_estimator_\n",
    "\n",
    "# # Predict on test data and evaluate\n",
    "# xgb_y_pred_tuned = best_xgb.predict(X_test)\n",
    "\n",
    "# xgb_tuned_accuracy = accuracy_score(y_test, xgb_y_pred_tuned)\n",
    "# xgb_tuned_f1 = f1_score(y_test, xgb_y_pred_tuned, average='macro')\n",
    "\n",
    "# # Print results\n",
    "# print(\"XGBoost - Tuned Model\")\n",
    "# print(f\"Accuracy: {xgb_tuned_accuracy:.2f}\")\n",
    "# print(f\"F1 Score: {xgb_tuned_f1:.2f}\")\n",
    "\n",
    "# cm=confusion_matrix(y_test, xgb_y_pred_tuned)\n",
    "# cd=ConfusionMatrixDisplay(confusion_matrix=cm)\n",
    "# cd.plot()\n",
    "\n",
    "'''XGBoost - Tuned Model\n",
    "   Accuracy: 0.93\n",
    "   F1 Score: 0.93'''"
   ]
  },
  {
   "cell_type": "code",
   "execution_count": 59,
   "id": "e5043a96",
   "metadata": {
    "execution": {
     "iopub.execute_input": "2024-11-29T17:44:00.025871Z",
     "iopub.status.busy": "2024-11-29T17:44:00.025457Z",
     "iopub.status.idle": "2024-11-29T17:44:00.030705Z",
     "shell.execute_reply": "2024-11-29T17:44:00.029260Z"
    },
    "papermill": {
     "duration": 0.046073,
     "end_time": "2024-11-29T17:44:00.033309",
     "exception": false,
     "start_time": "2024-11-29T17:43:59.987236",
     "status": "completed"
    },
    "tags": []
   },
   "outputs": [],
   "source": [
    "# best_xgb.fit(X_train, y_train)\n",
    "# best_xgb.score(X_train, y_train), best_xgb.score(X_test, y_test)"
   ]
  },
  {
   "cell_type": "code",
   "execution_count": 60,
   "id": "d83e6c08",
   "metadata": {
    "execution": {
     "iopub.execute_input": "2024-11-29T17:44:00.111281Z",
     "iopub.status.busy": "2024-11-29T17:44:00.110599Z",
     "iopub.status.idle": "2024-11-29T17:44:00.117105Z",
     "shell.execute_reply": "2024-11-29T17:44:00.115620Z"
    },
    "papermill": {
     "duration": 0.049988,
     "end_time": "2024-11-29T17:44:00.119883",
     "exception": false,
     "start_time": "2024-11-29T17:44:00.069895",
     "status": "completed"
    },
    "tags": []
   },
   "outputs": [],
   "source": [
    "# from sklearn.metrics import classification_report\n",
    "# # Classification Report\n",
    "# print(classification_report(y_test, xgb_y_pred_tuned))"
   ]
  },
  {
   "cell_type": "markdown",
   "id": "f41232f4",
   "metadata": {
    "papermill": {
     "duration": 0.034026,
     "end_time": "2024-11-29T17:44:00.190382",
     "exception": false,
     "start_time": "2024-11-29T17:44:00.156356",
     "status": "completed"
    },
    "tags": []
   },
   "source": [
    "Hyperparameter tuning with GridsearchCV didn't improve the public score .\n",
    "\n",
    "So I will try with **RandomizedSearchCV**"
   ]
  },
  {
   "cell_type": "markdown",
   "id": "bdc48fda",
   "metadata": {
    "papermill": {
     "duration": 0.035535,
     "end_time": "2024-11-29T17:44:00.261473",
     "exception": false,
     "start_time": "2024-11-29T17:44:00.225938",
     "status": "completed"
    },
    "tags": []
   },
   "source": [
    "#### HyperParameter Tuning using RandomizedSearchCV"
   ]
  },
  {
   "cell_type": "code",
   "execution_count": 61,
   "id": "5e2cd34e",
   "metadata": {
    "execution": {
     "iopub.execute_input": "2024-11-29T17:44:00.335710Z",
     "iopub.status.busy": "2024-11-29T17:44:00.335296Z",
     "iopub.status.idle": "2024-11-29T17:48:56.635878Z",
     "shell.execute_reply": "2024-11-29T17:48:56.634688Z"
    },
    "papermill": {
     "duration": 296.374494,
     "end_time": "2024-11-29T17:48:56.672267",
     "exception": false,
     "start_time": "2024-11-29T17:44:00.297773",
     "status": "completed"
    },
    "tags": []
   },
   "outputs": [
    {
     "name": "stdout",
     "output_type": "stream",
     "text": [
      "              precision    recall  f1-score   support\n",
      "\n",
      "           0       0.92      0.93      0.93      6548\n",
      "           1       0.93      0.92      0.93      6806\n",
      "\n",
      "    accuracy                           0.93     13354\n",
      "   macro avg       0.93      0.93      0.93     13354\n",
      "weighted avg       0.93      0.93      0.93     13354\n",
      "\n",
      "XGBoost - Tuned Model\n",
      "Accuracy: 0.93\n",
      "F1 Score: 0.93\n"
     ]
    }
   ],
   "source": [
    "from sklearn.model_selection import RandomizedSearchCV\n",
    "from sklearn.metrics import accuracy_score, f1_score, confusion_matrix, ConfusionMatrixDisplay\n",
    "from sklearn.metrics import classification_report\n",
    "param_distributions = {\n",
    "    'n_estimators': [100, 200, 300],     \n",
    "    'max_depth': [3, 5, 7],                     \n",
    "    'learning_rate': [0.01, 0.05, 0.1],        \n",
    "}\n",
    "random_search = RandomizedSearchCV(\n",
    "    estimator= XGBClassifier(),\n",
    "    param_distributions=param_distributions,\n",
    "    n_iter=50,                # Number of random parameter combinations to try\n",
    "    scoring='f1_macro',       # Use F1-macro score as the evaluation metric\n",
    "    cv=5,                     # 3-fold cross-validation\n",
    ")\n",
    "\n",
    "random_search.fit(X_train, y_train)\n",
    "\n",
    "best_xgb_model = random_search.best_estimator_\n",
    "y_pred = best_xgb_model.predict(X_test)\n",
    "\n",
    "print(classification_report(y_test, y_pred))\n",
    "\n",
    "xgb_tuned_accuracy = accuracy_score(y_test, y_pred)\n",
    "xgb_tuned_f1 = f1_score(y_test, y_pred, average='macro')\n",
    "\n",
    "# Print results\n",
    "print(\"XGBoost - Tuned Model\")\n",
    "print(f\"Accuracy: {xgb_tuned_accuracy:.2f}\")\n",
    "print(f\"F1 Score: {xgb_tuned_f1:.2f}\")"
   ]
  },
  {
   "cell_type": "code",
   "execution_count": 62,
   "id": "9b5ef37d",
   "metadata": {
    "execution": {
     "iopub.execute_input": "2024-11-29T17:48:56.742511Z",
     "iopub.status.busy": "2024-11-29T17:48:56.742104Z",
     "iopub.status.idle": "2024-11-29T17:48:57.000075Z",
     "shell.execute_reply": "2024-11-29T17:48:56.998942Z"
    },
    "papermill": {
     "duration": 0.295539,
     "end_time": "2024-11-29T17:48:57.002328",
     "exception": false,
     "start_time": "2024-11-29T17:48:56.706789",
     "status": "completed"
    },
    "tags": []
   },
   "outputs": [
    {
     "data": {
      "text/plain": [
       "<sklearn.metrics._plot.confusion_matrix.ConfusionMatrixDisplay at 0x7f1ef9bda8c0>"
      ]
     },
     "execution_count": 62,
     "metadata": {},
     "output_type": "execute_result"
    },
    {
     "data": {
      "image/png": "[encoded data removed]",
      "text/plain": [
       "<Figure size 640x480 with 2 Axes>"
      ]
     },
     "metadata": {},
     "output_type": "display_data"
    }
   ],
   "source": [
    "cm=confusion_matrix(y_test, y_pred)\n",
    "cd=ConfusionMatrixDisplay(confusion_matrix=cm)\n",
    "cd.plot()"
   ]
  },
  {
   "cell_type": "markdown",
   "id": "d8e199c0",
   "metadata": {
    "papermill": {
     "duration": 0.036473,
     "end_time": "2024-11-29T17:48:57.074515",
     "exception": false,
     "start_time": "2024-11-29T17:48:57.038042",
     "status": "completed"
    },
    "tags": []
   },
   "source": [
    "# FEATURE ENGINEERING"
   ]
  },
  {
   "cell_type": "markdown",
   "id": "0f1513ac",
   "metadata": {
    "papermill": {
     "duration": 0.036537,
     "end_time": "2024-11-29T17:48:57.146101",
     "exception": false,
     "start_time": "2024-11-29T17:48:57.109564",
     "status": "completed"
    },
    "tags": []
   },
   "source": [
    "#### PCA - Principal Component Analysis"
   ]
  },
  {
   "cell_type": "code",
   "execution_count": 63,
   "id": "91db30c8",
   "metadata": {
    "execution": {
     "iopub.execute_input": "2024-11-29T17:48:57.220677Z",
     "iopub.status.busy": "2024-11-29T17:48:57.220254Z",
     "iopub.status.idle": "2024-11-29T17:48:57.226005Z",
     "shell.execute_reply": "2024-11-29T17:48:57.224504Z"
    },
    "papermill": {
     "duration": 0.045947,
     "end_time": "2024-11-29T17:48:57.228955",
     "exception": false,
     "start_time": "2024-11-29T17:48:57.183008",
     "status": "completed"
    },
    "tags": []
   },
   "outputs": [],
   "source": [
    "# from sklearn.decomposition import PCA\n",
    "\n",
    "# # Initialize PCA and fit it to the training data\n",
    "# pca = PCA(n_components=0.95)  # Retain 95% of variance\n",
    "# X_train_pca = pca.fit_transform(X_train)\n",
    "# X_test_pca = pca.transform(X_test)\n",
    "\n",
    "# print(f\"Original number of features: {X_train.shape[1]}\")\n",
    "# print(f\"Reduced number of features: {X_train_pca.shape[1]}\")"
   ]
  },
  {
   "cell_type": "code",
   "execution_count": 64,
   "id": "19e1e5ea",
   "metadata": {
    "execution": {
     "iopub.execute_input": "2024-11-29T17:48:57.301784Z",
     "iopub.status.busy": "2024-11-29T17:48:57.301340Z",
     "iopub.status.idle": "2024-11-29T17:48:57.306297Z",
     "shell.execute_reply": "2024-11-29T17:48:57.305252Z"
    },
    "papermill": {
     "duration": 0.043986,
     "end_time": "2024-11-29T17:48:57.308499",
     "exception": false,
     "start_time": "2024-11-29T17:48:57.264513",
     "status": "completed"
    },
    "tags": []
   },
   "outputs": [],
   "source": [
    "# # Train the Random Forest model\n",
    "# from sklearn.ensemble import RandomForestClassifier\n",
    "\n",
    "# rf_clf_pca = RandomForestClassifier(n_estimators=100, random_state=42)\n",
    "# rf_clf_pca.fit(X_train_pca, y_train)\n",
    "\n",
    "# rf_y_pred_pca = rf_clf_pca.predict(X_test_pca)\n",
    "# rf_accuracy = accuracy_score(y_test, rf_y_pred_pca)\n",
    "\n",
    "# rf_f1 = f1_score(y_test, rf_y_pred_pca, average='macro')\n",
    "# print(f\"Random Forest Accuracy: {rf_accuracy:.4f}\")\n",
    "# print(f\"Random Forest F1-score: {rf_f1:.4f}\")"
   ]
  },
  {
   "cell_type": "markdown",
   "id": "26b5ae8b",
   "metadata": {
    "papermill": {
     "duration": 0.035853,
     "end_time": "2024-11-29T17:48:57.379446",
     "exception": false,
     "start_time": "2024-11-29T17:48:57.343593",
     "status": "completed"
    },
    "tags": []
   },
   "source": [
    "I did PCA and reduced the number of features from 37 to only 2. Previously the f1-macro score was 0.93 and after PCA, it is 0.84. There is a huge difference in the scores. So I believe we can stick to the original score and implementation."
   ]
  },
  {
   "cell_type": "markdown",
   "id": "4a4dc387",
   "metadata": {
    "papermill": {
     "duration": 0.035335,
     "end_time": "2024-11-29T17:48:57.450958",
     "exception": false,
     "start_time": "2024-11-29T17:48:57.415623",
     "status": "completed"
    },
    "tags": []
   },
   "source": [
    "#### Reduced Feature Elimination"
   ]
  },
  {
   "cell_type": "code",
   "execution_count": 65,
   "id": "e3cd7f33",
   "metadata": {
    "execution": {
     "iopub.execute_input": "2024-11-29T17:48:57.524570Z",
     "iopub.status.busy": "2024-11-29T17:48:57.524181Z",
     "iopub.status.idle": "2024-11-29T17:53:18.765707Z",
     "shell.execute_reply": "2024-11-29T17:53:18.764512Z"
    },
    "papermill": {
     "duration": 261.282184,
     "end_time": "2024-11-29T17:53:18.767986",
     "exception": false,
     "start_time": "2024-11-29T17:48:57.485802",
     "status": "completed"
    },
    "tags": []
   },
   "outputs": [
    {
     "name": "stdout",
     "output_type": "stream",
     "text": [
      "Selected Features: Index(['num__age', 'num__balance', 'num__duration', 'num__campaign',\n",
      "       'num__previous', 'pdays__pdays', 'bin__housing',\n",
      "       'cat__poutcome_success', 'remainder__contact_month',\n",
      "       'remainder__contact_day'],\n",
      "      dtype='object')\n",
      "Random Forest Accuracy with Selected Features: 0.92\n",
      "Random Forest F1-score with Selected Features: 0.92\n"
     ]
    }
   ],
   "source": [
    "from sklearn.feature_selection import RFE\n",
    "from sklearn.ensemble import RandomForestClassifier\n",
    "\n",
    "# Create a Random Forest classifier\n",
    "rf_classifier = RandomForestClassifier(random_state=42)\n",
    "rfe = RFE(estimator=rf_classifier, n_features_to_select=10)  \n",
    "rfe.fit(X_train, y_train)\n",
    "\n",
    "selected_features = X_train.columns[rfe.support_]\n",
    "print(\"Selected Features:\", selected_features)\n",
    "\n",
    "random_rfe = RandomForestClassifier(random_state=42)\n",
    "random_rfe.fit(X_train[selected_features], y_train)\n",
    "rf_rfe_y_pred = random_rfe.predict(X_test[selected_features])\n",
    "\n",
    "rf_accuracy = accuracy_score(y_test, rf_rfe_y_pred)\n",
    "rf_f1 = f1_score(y_test, rf_rfe_y_pred, average='macro')\n",
    "\n",
    "print(f\"Random Forest Accuracy with Selected Features: {rf_accuracy:.2f}\")\n",
    "print(f\"Random Forest F1-score with Selected Features: {rf_f1:.2f}\")"
   ]
  },
  {
   "cell_type": "markdown",
   "id": "45ecf823",
   "metadata": {
    "papermill": {
     "duration": 0.03485,
     "end_time": "2024-11-29T17:53:18.839375",
     "exception": false,
     "start_time": "2024-11-29T17:53:18.804525",
     "status": "completed"
    },
    "tags": []
   },
   "source": [
    "RFE with few selected features has reduced the score to 0.92 which is lesser than 0.93 of XGBoost."
   ]
  },
  {
   "cell_type": "markdown",
   "id": "b9b1598c",
   "metadata": {
    "papermill": {
     "duration": 0.047075,
     "end_time": "2024-11-29T17:53:18.921330",
     "exception": false,
     "start_time": "2024-11-29T17:53:18.874255",
     "status": "completed"
    },
    "tags": []
   },
   "source": [
    "# Test data"
   ]
  },
  {
   "cell_type": "code",
   "execution_count": 66,
   "id": "28f42fdf",
   "metadata": {
    "execution": {
     "iopub.execute_input": "2024-11-29T17:53:19.004422Z",
     "iopub.status.busy": "2024-11-29T17:53:19.004055Z",
     "iopub.status.idle": "2024-11-29T17:53:19.020235Z",
     "shell.execute_reply": "2024-11-29T17:53:19.019202Z"
    },
    "papermill": {
     "duration": 0.054494,
     "end_time": "2024-11-29T17:53:19.022184",
     "exception": false,
     "start_time": "2024-11-29T17:53:18.967690",
     "status": "completed"
    },
    "tags": []
   },
   "outputs": [
    {
     "data": {
      "text/html": [
       "<div>\n",
       "<style scoped>\n",
       "    .dataframe tbody tr th:only-of-type {\n",
       "        vertical-align: middle;\n",
       "    }\n",
       "\n",
       "    .dataframe tbody tr th {\n",
       "        vertical-align: top;\n",
       "    }\n",
       "\n",
       "    .dataframe thead th {\n",
       "        text-align: right;\n",
       "    }\n",
       "</style>\n",
       "<table border=\"1\" class=\"dataframe\">\n",
       "  <thead>\n",
       "    <tr style=\"text-align: right;\">\n",
       "      <th></th>\n",
       "      <th>last contact date</th>\n",
       "      <th>age</th>\n",
       "      <th>job</th>\n",
       "      <th>marital</th>\n",
       "      <th>education</th>\n",
       "      <th>default</th>\n",
       "      <th>balance</th>\n",
       "      <th>housing</th>\n",
       "      <th>loan</th>\n",
       "      <th>contact</th>\n",
       "      <th>duration</th>\n",
       "      <th>campaign</th>\n",
       "      <th>pdays</th>\n",
       "      <th>previous</th>\n",
       "      <th>poutcome</th>\n",
       "    </tr>\n",
       "  </thead>\n",
       "  <tbody>\n",
       "    <tr>\n",
       "      <th>0</th>\n",
       "      <td>2009-11-21</td>\n",
       "      <td>36</td>\n",
       "      <td>management</td>\n",
       "      <td>single</td>\n",
       "      <td>tertiary</td>\n",
       "      <td>no</td>\n",
       "      <td>7</td>\n",
       "      <td>no</td>\n",
       "      <td>no</td>\n",
       "      <td>NaN</td>\n",
       "      <td>20</td>\n",
       "      <td>1</td>\n",
       "      <td>-1</td>\n",
       "      <td>0</td>\n",
       "      <td>NaN</td>\n",
       "    </tr>\n",
       "    <tr>\n",
       "      <th>1</th>\n",
       "      <td>2010-02-04</td>\n",
       "      <td>30</td>\n",
       "      <td>unemployed</td>\n",
       "      <td>married</td>\n",
       "      <td>tertiary</td>\n",
       "      <td>no</td>\n",
       "      <td>1067</td>\n",
       "      <td>no</td>\n",
       "      <td>no</td>\n",
       "      <td>cellular</td>\n",
       "      <td>78</td>\n",
       "      <td>2</td>\n",
       "      <td>-1</td>\n",
       "      <td>0</td>\n",
       "      <td>NaN</td>\n",
       "    </tr>\n",
       "    <tr>\n",
       "      <th>2</th>\n",
       "      <td>2010-07-28</td>\n",
       "      <td>32</td>\n",
       "      <td>blue-collar</td>\n",
       "      <td>single</td>\n",
       "      <td>secondary</td>\n",
       "      <td>no</td>\n",
       "      <td>82</td>\n",
       "      <td>yes</td>\n",
       "      <td>no</td>\n",
       "      <td>cellular</td>\n",
       "      <td>86</td>\n",
       "      <td>4</td>\n",
       "      <td>-1</td>\n",
       "      <td>0</td>\n",
       "      <td>NaN</td>\n",
       "    </tr>\n",
       "    <tr>\n",
       "      <th>3</th>\n",
       "      <td>2010-06-09</td>\n",
       "      <td>38</td>\n",
       "      <td>admin.</td>\n",
       "      <td>married</td>\n",
       "      <td>primary</td>\n",
       "      <td>no</td>\n",
       "      <td>1487</td>\n",
       "      <td>no</td>\n",
       "      <td>no</td>\n",
       "      <td>NaN</td>\n",
       "      <td>332</td>\n",
       "      <td>2</td>\n",
       "      <td>-1</td>\n",
       "      <td>0</td>\n",
       "      <td>NaN</td>\n",
       "    </tr>\n",
       "    <tr>\n",
       "      <th>4</th>\n",
       "      <td>2008-03-02</td>\n",
       "      <td>59</td>\n",
       "      <td>management</td>\n",
       "      <td>married</td>\n",
       "      <td>tertiary</td>\n",
       "      <td>no</td>\n",
       "      <td>315</td>\n",
       "      <td>no</td>\n",
       "      <td>no</td>\n",
       "      <td>cellular</td>\n",
       "      <td>591</td>\n",
       "      <td>1</td>\n",
       "      <td>176</td>\n",
       "      <td>2</td>\n",
       "      <td>failure</td>\n",
       "    </tr>\n",
       "  </tbody>\n",
       "</table>\n",
       "</div>"
      ],
      "text/plain": [
       "  last contact date  age          job  marital  education default  balance  \\\n",
       "0        2009-11-21   36   management   single   tertiary      no        7   \n",
       "1        2010-02-04   30   unemployed  married   tertiary      no     1067   \n",
       "2        2010-07-28   32  blue-collar   single  secondary      no       82   \n",
       "3        2010-06-09   38       admin.  married    primary      no     1487   \n",
       "4        2008-03-02   59   management  married   tertiary      no      315   \n",
       "\n",
       "  housing loan   contact  duration  campaign  pdays  previous poutcome  \n",
       "0      no   no       NaN        20         1     -1         0      NaN  \n",
       "1      no   no  cellular        78         2     -1         0      NaN  \n",
       "2     yes   no  cellular        86         4     -1         0      NaN  \n",
       "3      no   no       NaN       332         2     -1         0      NaN  \n",
       "4      no   no  cellular       591         1    176         2  failure  "
      ]
     },
     "execution_count": 66,
     "metadata": {},
     "output_type": "execute_result"
    }
   ],
   "source": [
    "test_data.head()"
   ]
  },
  {
   "cell_type": "markdown",
   "id": "c2be290a",
   "metadata": {
    "papermill": {
     "duration": 0.03666,
     "end_time": "2024-11-29T17:53:19.095412",
     "exception": false,
     "start_time": "2024-11-29T17:53:19.058752",
     "status": "completed"
    },
    "tags": []
   },
   "source": [
    "### Test data preprocessing"
   ]
  },
  {
   "cell_type": "code",
   "execution_count": 67,
   "id": "b7b2e68a",
   "metadata": {
    "execution": {
     "iopub.execute_input": "2024-11-29T17:53:19.169513Z",
     "iopub.status.busy": "2024-11-29T17:53:19.169140Z",
     "iopub.status.idle": "2024-11-29T17:53:19.184001Z",
     "shell.execute_reply": "2024-11-29T17:53:19.183004Z"
    },
    "papermill": {
     "duration": 0.053763,
     "end_time": "2024-11-29T17:53:19.186315",
     "exception": false,
     "start_time": "2024-11-29T17:53:19.132552",
     "status": "completed"
    },
    "tags": []
   },
   "outputs": [],
   "source": [
    "def date_transform(df, date_column):\n",
    "    df[date_column] = pd.to_datetime(df[date_column])\n",
    "    df['contact_month'] = df[date_column].dt.month\n",
    "    df['contact_day'] = df[date_column].dt.day\n",
    "    # Extract year and drop immediately\n",
    "    df.drop(columns=[date_column, df[date_column].dt.year.name], inplace=True)\n",
    "    return df\n",
    "    \n",
    "date_feature = 'last contact date'\n",
    "\n",
    "# Apply date transformation function\n",
    "test_data = date_transform(test_data, date_feature)"
   ]
  },
  {
   "cell_type": "code",
   "execution_count": 68,
   "id": "1234681c",
   "metadata": {
    "execution": {
     "iopub.execute_input": "2024-11-29T17:53:19.261258Z",
     "iopub.status.busy": "2024-11-29T17:53:19.260455Z",
     "iopub.status.idle": "2024-11-29T17:53:19.264986Z",
     "shell.execute_reply": "2024-11-29T17:53:19.263801Z"
    },
    "papermill": {
     "duration": 0.043918,
     "end_time": "2024-11-29T17:53:19.267010",
     "exception": false,
     "start_time": "2024-11-29T17:53:19.223092",
     "status": "completed"
    },
    "tags": []
   },
   "outputs": [],
   "source": [
    "# # Housing and loan interaction\n",
    "# test_data['has_both_loans'] = ((test_data['housing'] == 'yes') & (test_data['loan'] == 'yes')).astype(int)\n",
    "# test_data['no_loans'] = ((test_data['housing'] == 'no') & (test_data['loan'] == 'no')).astype(int)"
   ]
  },
  {
   "cell_type": "code",
   "execution_count": 69,
   "id": "952daf72",
   "metadata": {
    "execution": {
     "iopub.execute_input": "2024-11-29T17:53:19.340226Z",
     "iopub.status.busy": "2024-11-29T17:53:19.339870Z",
     "iopub.status.idle": "2024-11-29T17:53:19.344407Z",
     "shell.execute_reply": "2024-11-29T17:53:19.343385Z"
    },
    "papermill": {
     "duration": 0.043821,
     "end_time": "2024-11-29T17:53:19.346487",
     "exception": false,
     "start_time": "2024-11-29T17:53:19.302666",
     "status": "completed"
    },
    "tags": []
   },
   "outputs": [],
   "source": [
    "# import pandas as pd\n",
    "# import matplotlib.pyplot as plt\n",
    "\n",
    "# bins = [0, 25, 50, float('inf')]\n",
    "# labels = ['young', 'middle', 'old']\n",
    "# test_data['age_group'] = pd.cut(test_data['age'], bins=bins, labels=labels, right=False)\n",
    "# test_data = test_data.drop('age', axis=1)\n",
    "# test_data.head(2)"
   ]
  },
  {
   "cell_type": "code",
   "execution_count": 70,
   "id": "27d32943",
   "metadata": {
    "execution": {
     "iopub.execute_input": "2024-11-29T17:53:19.421911Z",
     "iopub.status.busy": "2024-11-29T17:53:19.421510Z",
     "iopub.status.idle": "2024-11-29T17:53:19.426363Z",
     "shell.execute_reply": "2024-11-29T17:53:19.425308Z"
    },
    "papermill": {
     "duration": 0.045184,
     "end_time": "2024-11-29T17:53:19.428949",
     "exception": false,
     "start_time": "2024-11-29T17:53:19.383765",
     "status": "completed"
    },
    "tags": []
   },
   "outputs": [],
   "source": [
    "# from sklearn.preprocessing import KBinsDiscretizer\n",
    "\n",
    "# est = KBinsDiscretizer(n_bins=3, encode='ordinal', strategy='quantile')\n",
    "# test_data['balance_category'] = est.fit_transform(test_data[['balance']])\n",
    "\n",
    "# # Map the numerical categories to labels (low, medium, high)\n",
    "# test_data['balance_category'] = test_data['balance_category'].map({0: 'low', 1: 'medium', 2: 'high'})\n",
    "# test_data = test_data.drop('balance', axis = 1)\n",
    "# test_data.head(2)"
   ]
  },
  {
   "cell_type": "code",
   "execution_count": 71,
   "id": "698f3d7d",
   "metadata": {
    "execution": {
     "iopub.execute_input": "2024-11-29T17:53:19.503467Z",
     "iopub.status.busy": "2024-11-29T17:53:19.502753Z",
     "iopub.status.idle": "2024-11-29T17:53:19.507229Z",
     "shell.execute_reply": "2024-11-29T17:53:19.506290Z"
    },
    "papermill": {
     "duration": 0.044469,
     "end_time": "2024-11-29T17:53:19.509413",
     "exception": false,
     "start_time": "2024-11-29T17:53:19.464944",
     "status": "completed"
    },
    "tags": []
   },
   "outputs": [],
   "source": [
    "# est = KBinsDiscretizer(n_bins=3, encode='ordinal', strategy='quantile')\n",
    "# test_data['duration_category'] = est.fit_transform(test_data[['duration']])\n",
    "\n",
    "# # Map the numerical categories to labels (short, medium, long)\n",
    "# test_data['duration_category'] = test_data['duration_category'].map({0: 'short', 1: 'medium', 2: 'long'})\n",
    "# # df = df.drop('duration', axis = 1)\n",
    "# test_data.head(2)"
   ]
  },
  {
   "cell_type": "code",
   "execution_count": 72,
   "id": "3a54a009",
   "metadata": {
    "execution": {
     "iopub.execute_input": "2024-11-29T17:53:19.582523Z",
     "iopub.status.busy": "2024-11-29T17:53:19.582117Z",
     "iopub.status.idle": "2024-11-29T17:53:19.587219Z",
     "shell.execute_reply": "2024-11-29T17:53:19.585986Z"
    },
    "papermill": {
     "duration": 0.044785,
     "end_time": "2024-11-29T17:53:19.589522",
     "exception": false,
     "start_time": "2024-11-29T17:53:19.544737",
     "status": "completed"
    },
    "tags": []
   },
   "outputs": [],
   "source": [
    "# est = KBinsDiscretizer(n_bins=3, encode='ordinal', strategy='quantile')\n",
    "# test_data['campaign_category'] = est.fit_transform(test_data[['campaign']])\n",
    "\n",
    "# # Map the numerical categories to labels (low, medium, high)\n",
    "# test_data['campaign_category'] = test_data['campaign_category'].map({0: 'low', 1: 'medium', 2: 'high'})\n",
    "# test_data = test_data.drop('campaign', axis = 1)\n",
    "# test_data.head(2)"
   ]
  },
  {
   "cell_type": "code",
   "execution_count": 73,
   "id": "3b3df7e2",
   "metadata": {
    "execution": {
     "iopub.execute_input": "2024-11-29T17:53:19.662354Z",
     "iopub.status.busy": "2024-11-29T17:53:19.661956Z",
     "iopub.status.idle": "2024-11-29T17:53:19.668494Z",
     "shell.execute_reply": "2024-11-29T17:53:19.667474Z"
    },
    "papermill": {
     "duration": 0.04578,
     "end_time": "2024-11-29T17:53:19.671048",
     "exception": false,
     "start_time": "2024-11-29T17:53:19.625268",
     "status": "completed"
    },
    "tags": []
   },
   "outputs": [],
   "source": [
    "test_data['contact'] = test_data['contact'].fillna('unknown')"
   ]
  },
  {
   "cell_type": "code",
   "execution_count": 74,
   "id": "34255f95",
   "metadata": {
    "execution": {
     "iopub.execute_input": "2024-11-29T17:53:19.744340Z",
     "iopub.status.busy": "2024-11-29T17:53:19.743516Z",
     "iopub.status.idle": "2024-11-29T17:53:19.750533Z",
     "shell.execute_reply": "2024-11-29T17:53:19.749517Z"
    },
    "papermill": {
     "duration": 0.045482,
     "end_time": "2024-11-29T17:53:19.752735",
     "exception": false,
     "start_time": "2024-11-29T17:53:19.707253",
     "status": "completed"
    },
    "tags": []
   },
   "outputs": [],
   "source": [
    "test_data['poutcome'] = test_data['poutcome'].fillna('unknown')"
   ]
  },
  {
   "cell_type": "code",
   "execution_count": 75,
   "id": "e916fb83",
   "metadata": {
    "execution": {
     "iopub.execute_input": "2024-11-29T17:53:19.827497Z",
     "iopub.status.busy": "2024-11-29T17:53:19.827112Z",
     "iopub.status.idle": "2024-11-29T17:53:19.856846Z",
     "shell.execute_reply": "2024-11-29T17:53:19.855759Z"
    },
    "papermill": {
     "duration": 0.070579,
     "end_time": "2024-11-29T17:53:19.858993",
     "exception": false,
     "start_time": "2024-11-29T17:53:19.788414",
     "status": "completed"
    },
    "tags": []
   },
   "outputs": [
    {
     "data": {
      "text/html": [
       "<div>\n",
       "<style scoped>\n",
       "    .dataframe tbody tr th:only-of-type {\n",
       "        vertical-align: middle;\n",
       "    }\n",
       "\n",
       "    .dataframe tbody tr th {\n",
       "        vertical-align: top;\n",
       "    }\n",
       "\n",
       "    .dataframe thead th {\n",
       "        text-align: right;\n",
       "    }\n",
       "</style>\n",
       "<table border=\"1\" class=\"dataframe\">\n",
       "  <thead>\n",
       "    <tr style=\"text-align: right;\">\n",
       "      <th></th>\n",
       "      <th>age</th>\n",
       "      <th>job</th>\n",
       "      <th>marital</th>\n",
       "      <th>education</th>\n",
       "      <th>default</th>\n",
       "      <th>balance</th>\n",
       "      <th>housing</th>\n",
       "      <th>loan</th>\n",
       "      <th>contact</th>\n",
       "      <th>duration</th>\n",
       "      <th>campaign</th>\n",
       "      <th>pdays</th>\n",
       "      <th>previous</th>\n",
       "      <th>poutcome</th>\n",
       "      <th>contact_month</th>\n",
       "      <th>contact_day</th>\n",
       "    </tr>\n",
       "  </thead>\n",
       "  <tbody>\n",
       "    <tr>\n",
       "      <th>0</th>\n",
       "      <td>36</td>\n",
       "      <td>management</td>\n",
       "      <td>single</td>\n",
       "      <td>tertiary</td>\n",
       "      <td>no</td>\n",
       "      <td>7</td>\n",
       "      <td>no</td>\n",
       "      <td>no</td>\n",
       "      <td>NaN</td>\n",
       "      <td>20</td>\n",
       "      <td>1</td>\n",
       "      <td>NaN</td>\n",
       "      <td>0</td>\n",
       "      <td>NaN</td>\n",
       "      <td>11</td>\n",
       "      <td>21</td>\n",
       "    </tr>\n",
       "    <tr>\n",
       "      <th>1</th>\n",
       "      <td>30</td>\n",
       "      <td>unemployed</td>\n",
       "      <td>married</td>\n",
       "      <td>tertiary</td>\n",
       "      <td>no</td>\n",
       "      <td>1067</td>\n",
       "      <td>no</td>\n",
       "      <td>no</td>\n",
       "      <td>cellular</td>\n",
       "      <td>78</td>\n",
       "      <td>2</td>\n",
       "      <td>NaN</td>\n",
       "      <td>0</td>\n",
       "      <td>NaN</td>\n",
       "      <td>2</td>\n",
       "      <td>4</td>\n",
       "    </tr>\n",
       "  </tbody>\n",
       "</table>\n",
       "</div>"
      ],
      "text/plain": [
       "   age         job  marital education default  balance housing loan   contact  \\\n",
       "0   36  management   single  tertiary      no        7      no   no       NaN   \n",
       "1   30  unemployed  married  tertiary      no     1067      no   no  cellular   \n",
       "\n",
       "   duration  campaign  pdays  previous poutcome  contact_month  contact_day  \n",
       "0        20         1    NaN         0      NaN             11           21  \n",
       "1        78         2    NaN         0      NaN              2            4  "
      ]
     },
     "execution_count": 75,
     "metadata": {},
     "output_type": "execute_result"
    }
   ],
   "source": [
    "# Convert -1 in pdays to NaN (no previous contact)\n",
    "test_data.loc[test_data['pdays'] == -1, 'pdays'] = np.nan\n",
    "\n",
    "# Convert 'unknown' values to NaN\n",
    "test_data.replace('unknown', np.nan, inplace=True)\n",
    "test_data.replace('NaN', np.nan, inplace=True)\n",
    "test_data.head(2)"
   ]
  },
  {
   "cell_type": "code",
   "execution_count": 76,
   "id": "2222a7a7",
   "metadata": {
    "execution": {
     "iopub.execute_input": "2024-11-29T17:53:19.931618Z",
     "iopub.status.busy": "2024-11-29T17:53:19.931222Z",
     "iopub.status.idle": "2024-11-29T17:53:19.990046Z",
     "shell.execute_reply": "2024-11-29T17:53:19.989005Z"
    },
    "papermill": {
     "duration": 0.097998,
     "end_time": "2024-11-29T17:53:19.992380",
     "exception": false,
     "start_time": "2024-11-29T17:53:19.894382",
     "status": "completed"
    },
    "tags": []
   },
   "outputs": [
    {
     "data": {
      "text/html": [
       "<div>\n",
       "<style scoped>\n",
       "    .dataframe tbody tr th:only-of-type {\n",
       "        vertical-align: middle;\n",
       "    }\n",
       "\n",
       "    .dataframe tbody tr th {\n",
       "        vertical-align: top;\n",
       "    }\n",
       "\n",
       "    .dataframe thead th {\n",
       "        text-align: right;\n",
       "    }\n",
       "</style>\n",
       "<table border=\"1\" class=\"dataframe\">\n",
       "  <thead>\n",
       "    <tr style=\"text-align: right;\">\n",
       "      <th></th>\n",
       "      <th>num__age</th>\n",
       "      <th>num__balance</th>\n",
       "      <th>num__duration</th>\n",
       "      <th>num__campaign</th>\n",
       "      <th>num__previous</th>\n",
       "      <th>pdays__pdays</th>\n",
       "      <th>bin__default</th>\n",
       "      <th>bin__housing</th>\n",
       "      <th>bin__loan</th>\n",
       "      <th>cat__job_admin.</th>\n",
       "      <th>...</th>\n",
       "      <th>cat__education_tertiary</th>\n",
       "      <th>cat__contact_cellular</th>\n",
       "      <th>cat__contact_telephone</th>\n",
       "      <th>cat__contact_unknown</th>\n",
       "      <th>cat__poutcome_failure</th>\n",
       "      <th>cat__poutcome_other</th>\n",
       "      <th>cat__poutcome_success</th>\n",
       "      <th>cat__poutcome_unknown</th>\n",
       "      <th>remainder__contact_month</th>\n",
       "      <th>remainder__contact_day</th>\n",
       "    </tr>\n",
       "  </thead>\n",
       "  <tbody>\n",
       "    <tr>\n",
       "      <th>0</th>\n",
       "      <td>0.233766</td>\n",
       "      <td>0.072867</td>\n",
       "      <td>0.004067</td>\n",
       "      <td>0.000000</td>\n",
       "      <td>0.000000</td>\n",
       "      <td>0.000000</td>\n",
       "      <td>0.0</td>\n",
       "      <td>0.0</td>\n",
       "      <td>0.0</td>\n",
       "      <td>0.0</td>\n",
       "      <td>...</td>\n",
       "      <td>1.0</td>\n",
       "      <td>1.0</td>\n",
       "      <td>0.0</td>\n",
       "      <td>0.0</td>\n",
       "      <td>0.0</td>\n",
       "      <td>0.0</td>\n",
       "      <td>0.0</td>\n",
       "      <td>1.0</td>\n",
       "      <td>11.0</td>\n",
       "      <td>21.0</td>\n",
       "    </tr>\n",
       "    <tr>\n",
       "      <th>1</th>\n",
       "      <td>0.155844</td>\n",
       "      <td>0.082491</td>\n",
       "      <td>0.015860</td>\n",
       "      <td>0.016129</td>\n",
       "      <td>0.000000</td>\n",
       "      <td>0.000000</td>\n",
       "      <td>0.0</td>\n",
       "      <td>0.0</td>\n",
       "      <td>0.0</td>\n",
       "      <td>0.0</td>\n",
       "      <td>...</td>\n",
       "      <td>1.0</td>\n",
       "      <td>1.0</td>\n",
       "      <td>0.0</td>\n",
       "      <td>0.0</td>\n",
       "      <td>0.0</td>\n",
       "      <td>0.0</td>\n",
       "      <td>0.0</td>\n",
       "      <td>1.0</td>\n",
       "      <td>2.0</td>\n",
       "      <td>4.0</td>\n",
       "    </tr>\n",
       "    <tr>\n",
       "      <th>2</th>\n",
       "      <td>0.181818</td>\n",
       "      <td>0.073548</td>\n",
       "      <td>0.017487</td>\n",
       "      <td>0.048387</td>\n",
       "      <td>0.000000</td>\n",
       "      <td>0.000000</td>\n",
       "      <td>0.0</td>\n",
       "      <td>1.0</td>\n",
       "      <td>0.0</td>\n",
       "      <td>0.0</td>\n",
       "      <td>...</td>\n",
       "      <td>0.0</td>\n",
       "      <td>1.0</td>\n",
       "      <td>0.0</td>\n",
       "      <td>0.0</td>\n",
       "      <td>0.0</td>\n",
       "      <td>0.0</td>\n",
       "      <td>0.0</td>\n",
       "      <td>1.0</td>\n",
       "      <td>7.0</td>\n",
       "      <td>28.0</td>\n",
       "    </tr>\n",
       "    <tr>\n",
       "      <th>3</th>\n",
       "      <td>0.259740</td>\n",
       "      <td>0.086304</td>\n",
       "      <td>0.067507</td>\n",
       "      <td>0.016129</td>\n",
       "      <td>0.000000</td>\n",
       "      <td>0.000000</td>\n",
       "      <td>0.0</td>\n",
       "      <td>0.0</td>\n",
       "      <td>0.0</td>\n",
       "      <td>1.0</td>\n",
       "      <td>...</td>\n",
       "      <td>0.0</td>\n",
       "      <td>1.0</td>\n",
       "      <td>0.0</td>\n",
       "      <td>0.0</td>\n",
       "      <td>0.0</td>\n",
       "      <td>0.0</td>\n",
       "      <td>0.0</td>\n",
       "      <td>1.0</td>\n",
       "      <td>6.0</td>\n",
       "      <td>9.0</td>\n",
       "    </tr>\n",
       "    <tr>\n",
       "      <th>4</th>\n",
       "      <td>0.532468</td>\n",
       "      <td>0.075663</td>\n",
       "      <td>0.120171</td>\n",
       "      <td>0.000000</td>\n",
       "      <td>0.007273</td>\n",
       "      <td>0.202067</td>\n",
       "      <td>0.0</td>\n",
       "      <td>0.0</td>\n",
       "      <td>0.0</td>\n",
       "      <td>0.0</td>\n",
       "      <td>...</td>\n",
       "      <td>1.0</td>\n",
       "      <td>1.0</td>\n",
       "      <td>0.0</td>\n",
       "      <td>0.0</td>\n",
       "      <td>1.0</td>\n",
       "      <td>0.0</td>\n",
       "      <td>0.0</td>\n",
       "      <td>0.0</td>\n",
       "      <td>3.0</td>\n",
       "      <td>2.0</td>\n",
       "    </tr>\n",
       "  </tbody>\n",
       "</table>\n",
       "<p>5 rows × 35 columns</p>\n",
       "</div>"
      ],
      "text/plain": [
       "   num__age  num__balance  num__duration  num__campaign  num__previous  \\\n",
       "0  0.233766      0.072867       0.004067       0.000000       0.000000   \n",
       "1  0.155844      0.082491       0.015860       0.016129       0.000000   \n",
       "2  0.181818      0.073548       0.017487       0.048387       0.000000   \n",
       "3  0.259740      0.086304       0.067507       0.016129       0.000000   \n",
       "4  0.532468      0.075663       0.120171       0.000000       0.007273   \n",
       "\n",
       "   pdays__pdays  bin__default  bin__housing  bin__loan  cat__job_admin.  ...  \\\n",
       "0      0.000000           0.0           0.0        0.0              0.0  ...   \n",
       "1      0.000000           0.0           0.0        0.0              0.0  ...   \n",
       "2      0.000000           0.0           1.0        0.0              0.0  ...   \n",
       "3      0.000000           0.0           0.0        0.0              1.0  ...   \n",
       "4      0.202067           0.0           0.0        0.0              0.0  ...   \n",
       "\n",
       "   cat__education_tertiary  cat__contact_cellular  cat__contact_telephone  \\\n",
       "0                      1.0                    1.0                     0.0   \n",
       "1                      1.0                    1.0                     0.0   \n",
       "2                      0.0                    1.0                     0.0   \n",
       "3                      0.0                    1.0                     0.0   \n",
       "4                      1.0                    1.0                     0.0   \n",
       "\n",
       "   cat__contact_unknown  cat__poutcome_failure  cat__poutcome_other  \\\n",
       "0                   0.0                    0.0                  0.0   \n",
       "1                   0.0                    0.0                  0.0   \n",
       "2                   0.0                    0.0                  0.0   \n",
       "3                   0.0                    0.0                  0.0   \n",
       "4                   0.0                    1.0                  0.0   \n",
       "\n",
       "   cat__poutcome_success  cat__poutcome_unknown  remainder__contact_month  \\\n",
       "0                    0.0                    1.0                      11.0   \n",
       "1                    0.0                    1.0                       2.0   \n",
       "2                    0.0                    1.0                       7.0   \n",
       "3                    0.0                    1.0                       6.0   \n",
       "4                    0.0                    0.0                       3.0   \n",
       "\n",
       "   remainder__contact_day  \n",
       "0                    21.0  \n",
       "1                     4.0  \n",
       "2                    28.0  \n",
       "3                     9.0  \n",
       "4                     2.0  \n",
       "\n",
       "[5 rows x 35 columns]"
      ]
     },
     "execution_count": 76,
     "metadata": {},
     "output_type": "execute_result"
    }
   ],
   "source": [
    "# Preprocess the test data using the preprocessor pipeline\n",
    "test_data_processed = preprocessor.transform(test_data)\n",
    "test_data_processed = pd.DataFrame(test_data_processed,columns=preprocessor.get_feature_names_out())\n",
    "test_data_processed.head()"
   ]
  },
  {
   "cell_type": "code",
   "execution_count": 77,
   "id": "886ae46e",
   "metadata": {
    "execution": {
     "iopub.execute_input": "2024-11-29T17:53:20.067145Z",
     "iopub.status.busy": "2024-11-29T17:53:20.066753Z",
     "iopub.status.idle": "2024-11-29T17:53:20.081143Z",
     "shell.execute_reply": "2024-11-29T17:53:20.080050Z"
    },
    "papermill": {
     "duration": 0.054937,
     "end_time": "2024-11-29T17:53:20.083490",
     "exception": false,
     "start_time": "2024-11-29T17:53:20.028553",
     "status": "completed"
    },
    "tags": []
   },
   "outputs": [
    {
     "name": "stdout",
     "output_type": "stream",
     "text": [
      "<class 'pandas.core.frame.DataFrame'>\n",
      "RangeIndex: 10000 entries, 0 to 9999\n",
      "Data columns (total 35 columns):\n",
      " #   Column                    Non-Null Count  Dtype  \n",
      "---  ------                    --------------  -----  \n",
      " 0   num__age                  10000 non-null  float64\n",
      " 1   num__balance              10000 non-null  float64\n",
      " 2   num__duration             10000 non-null  float64\n",
      " 3   num__campaign             10000 non-null  float64\n",
      " 4   num__previous             10000 non-null  float64\n",
      " 5   pdays__pdays              10000 non-null  float64\n",
      " 6   bin__default              10000 non-null  float64\n",
      " 7   bin__housing              10000 non-null  float64\n",
      " 8   bin__loan                 10000 non-null  float64\n",
      " 9   cat__job_admin.           10000 non-null  float64\n",
      " 10  cat__job_blue-collar      10000 non-null  float64\n",
      " 11  cat__job_entrepreneur     10000 non-null  float64\n",
      " 12  cat__job_housemaid        10000 non-null  float64\n",
      " 13  cat__job_management       10000 non-null  float64\n",
      " 14  cat__job_retired          10000 non-null  float64\n",
      " 15  cat__job_self-employed    10000 non-null  float64\n",
      " 16  cat__job_services         10000 non-null  float64\n",
      " 17  cat__job_student          10000 non-null  float64\n",
      " 18  cat__job_technician       10000 non-null  float64\n",
      " 19  cat__job_unemployed       10000 non-null  float64\n",
      " 20  cat__marital_divorced     10000 non-null  float64\n",
      " 21  cat__marital_married      10000 non-null  float64\n",
      " 22  cat__marital_single       10000 non-null  float64\n",
      " 23  cat__education_primary    10000 non-null  float64\n",
      " 24  cat__education_secondary  10000 non-null  float64\n",
      " 25  cat__education_tertiary   10000 non-null  float64\n",
      " 26  cat__contact_cellular     10000 non-null  float64\n",
      " 27  cat__contact_telephone    10000 non-null  float64\n",
      " 28  cat__contact_unknown      10000 non-null  float64\n",
      " 29  cat__poutcome_failure     10000 non-null  float64\n",
      " 30  cat__poutcome_other       10000 non-null  float64\n",
      " 31  cat__poutcome_success     10000 non-null  float64\n",
      " 32  cat__poutcome_unknown     10000 non-null  float64\n",
      " 33  remainder__contact_month  10000 non-null  float64\n",
      " 34  remainder__contact_day    10000 non-null  float64\n",
      "dtypes: float64(35)\n",
      "memory usage: 2.7 MB\n"
     ]
    }
   ],
   "source": [
    "test_data_processed.info()"
   ]
  },
  {
   "cell_type": "markdown",
   "id": "e7534013",
   "metadata": {
    "papermill": {
     "duration": 0.037013,
     "end_time": "2024-11-29T17:53:20.157991",
     "exception": false,
     "start_time": "2024-11-29T17:53:20.120978",
     "status": "completed"
    },
    "tags": []
   },
   "source": [
    "The Hyperparameter tuned model using GridSearchCV gave lesser public score (i.e; 0.71965) and with RandomizedSearchCV tuned model gave 0.72343 public score.\n",
    "\n",
    "Therefore , I have selected the later one to predict on the test_data."
   ]
  },
  {
   "cell_type": "code",
   "execution_count": 78,
   "id": "0f13fece",
   "metadata": {
    "execution": {
     "iopub.execute_input": "2024-11-29T17:53:20.231202Z",
     "iopub.status.busy": "2024-11-29T17:53:20.230791Z",
     "iopub.status.idle": "2024-11-29T17:53:20.275897Z",
     "shell.execute_reply": "2024-11-29T17:53:20.275071Z"
    },
    "papermill": {
     "duration": 0.084694,
     "end_time": "2024-11-29T17:53:20.278572",
     "exception": false,
     "start_time": "2024-11-29T17:53:20.193878",
     "status": "completed"
    },
    "tags": []
   },
   "outputs": [],
   "source": [
    "# Now make model predictions of the preprocessed test_data \n",
    "# Predict using XGBoost\n",
    "xb_test_pred = best_xgb_model.predict(test_data_processed)"
   ]
  },
  {
   "cell_type": "code",
   "execution_count": 79,
   "id": "c591c2a9",
   "metadata": {
    "execution": {
     "iopub.execute_input": "2024-11-29T17:53:20.352509Z",
     "iopub.status.busy": "2024-11-29T17:53:20.351506Z",
     "iopub.status.idle": "2024-11-29T17:53:20.362099Z",
     "shell.execute_reply": "2024-11-29T17:53:20.361073Z"
    },
    "papermill": {
     "duration": 0.050005,
     "end_time": "2024-11-29T17:53:20.364360",
     "exception": false,
     "start_time": "2024-11-29T17:53:20.314355",
     "status": "completed"
    },
    "tags": []
   },
   "outputs": [
    {
     "data": {
      "text/plain": [
       "target\n",
       "0         8393\n",
       "1         1607\n",
       "Name: count, dtype: int64"
      ]
     },
     "execution_count": 79,
     "metadata": {},
     "output_type": "execute_result"
    }
   ],
   "source": [
    "pd.DataFrame(xb_test_pred, columns=['target']).value_counts()"
   ]
  },
  {
   "cell_type": "code",
   "execution_count": 80,
   "id": "50ded671",
   "metadata": {
    "execution": {
     "iopub.execute_input": "2024-11-29T17:53:20.437788Z",
     "iopub.status.busy": "2024-11-29T17:53:20.437046Z",
     "iopub.status.idle": "2024-11-29T17:53:20.444888Z",
     "shell.execute_reply": "2024-11-29T17:53:20.443891Z"
    },
    "papermill": {
     "duration": 0.046945,
     "end_time": "2024-11-29T17:53:20.446973",
     "exception": false,
     "start_time": "2024-11-29T17:53:20.400028",
     "status": "completed"
    },
    "tags": []
   },
   "outputs": [
    {
     "data": {
      "text/plain": [
       "(10000, 35)"
      ]
     },
     "execution_count": 80,
     "metadata": {},
     "output_type": "execute_result"
    }
   ],
   "source": [
    "pd.DataFrame(test_data_processed,columns=preprocessor.get_feature_names_out()).shape"
   ]
  },
  {
   "cell_type": "markdown",
   "id": "0ab74829",
   "metadata": {
    "papermill": {
     "duration": 0.035702,
     "end_time": "2024-11-29T17:53:20.518707",
     "exception": false,
     "start_time": "2024-11-29T17:53:20.483005",
     "status": "completed"
    },
    "tags": []
   },
   "source": [
    "## Submitting to the competition using XGBClassifier"
   ]
  },
  {
   "cell_type": "code",
   "execution_count": 81,
   "id": "73b6577b",
   "metadata": {
    "execution": {
     "iopub.execute_input": "2024-11-29T17:53:20.592895Z",
     "iopub.status.busy": "2024-11-29T17:53:20.592476Z",
     "iopub.status.idle": "2024-11-29T17:53:20.611411Z",
     "shell.execute_reply": "2024-11-29T17:53:20.610087Z"
    },
    "papermill": {
     "duration": 0.059352,
     "end_time": "2024-11-29T17:53:20.614120",
     "exception": false,
     "start_time": "2024-11-29T17:53:20.554768",
     "status": "completed"
    },
    "tags": []
   },
   "outputs": [],
   "source": [
    "submission = pd.DataFrame({\n",
    "    'id': range(len(xb_test_pred)),  # Replace 'ID' with the actual ID column name in your test dataset\n",
    "    'target': xb_test_pred\n",
    "})\n",
    "\n",
    "# Step 4: Convert binary predictions to 'yes'/'no' format\n",
    "submission['target'] = submission['target'].apply(lambda x: 'yes' if x == 1 else 'no')\n",
    "\n",
    "# Step 5: Save as CSV\n",
    "submission.to_csv('submission.csv', index=False)"
   ]
  }
 ],
 "metadata": {
  "kaggle": {
   "accelerator": "none",
   "dataSources": [
    {
     "databundleVersionId": 9578279,
     "sourceId": 85062,
     "sourceType": "competition"
    }
   ],
   "dockerImageVersionId": 30775,
   "isGpuEnabled": false,
   "isInternetEnabled": false,
   "language": "python",
   "sourceType": "notebook"
  },
  "kernelspec": {
   "display_name": "Python 3",
   "language": "python",
   "name": "python3"
  },
  "language_info": {
   "codemirror_mode": {
    "name": "ipython",
    "version": 3
   },
   "file_extension": ".py",
   "mimetype": "text/x-python",
   "name": "python",
   "nbconvert_exporter": "python",
   "pygments_lexer": "ipython3",
   "version": "3.10.14"
  },
  "papermill": {
   "default_parameters": {},
   "duration": 620.253026,
   "end_time": "2024-11-29T17:53:21.674079",
   "environment_variables": {},
   "exception": null,
   "input_path": "__notebook__.ipynb",
   "output_path": "__notebook__.ipynb",
   "parameters": {},
   "start_time": "2024-11-29T17:43:01.421053",
   "version": "2.6.0"
  }
 },
 "nbformat": 4,
 "nbformat_minor": 5
}
